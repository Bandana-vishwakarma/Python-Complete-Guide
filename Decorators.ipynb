{
 "cells": [
  {
   "cell_type": "markdown",
   "id": "c028148c",
   "metadata": {},
   "source": [
    "### Python Decorators  "
   ]
  },
  {
   "cell_type": "markdown",
   "id": "5870f6d8",
   "metadata": {},
   "source": [
    "* Python has an interesting feature called decorators to add functionality to an existing code.\n",
    "* This is also called metaprogramming because a part of the program tries to modify another part of the program at compile time.\n",
    "* We can use the <b>@</b> symbol along with the name of the decorator function and place it above the definition of the function to be decorated. "
   ]
  },
  {
   "cell_type": "markdown",
   "id": "6ebb8d10",
   "metadata": {},
   "source": [
    "<b>Syntax for Decorator</b>"
   ]
  },
  {
   "cell_type": "code",
   "execution_count": null,
   "id": "a46cb6b5",
   "metadata": {},
   "outputs": [],
   "source": [
    "\"\"\"\n",
    "@gfg_decorator\n",
    "def hello_decorator():\n",
    "       print(\"Gfg\") \"\"\"\n",
    "\n",
    "'''Above code is equivalent to -\n",
    "\n",
    "def hello_decorator():\n",
    "    print(\"Gfg\")\n",
    "    \n",
    "hello_decorator = gfg_decorator(hello_decorator)'''"
   ]
  },
  {
   "cell_type": "markdown",
   "id": "26d0400c",
   "metadata": {},
   "source": [
    "<b>Decorator can modify the behaviour</b>"
   ]
  },
  {
   "cell_type": "code",
   "execution_count": 3,
   "id": "5f6333d0",
   "metadata": {},
   "outputs": [
    {
     "name": "stdout",
     "output_type": "stream",
     "text": [
      "Hello, this is before function execution\n",
      "this is inside the function\n",
      "This is after function execution\n"
     ]
    }
   ],
   "source": [
    "# defining a decorator\n",
    "def hello_decorator(func):\n",
    "    \n",
    "    # inner1 is a Wrapper function in\n",
    "    # which the argument is called\n",
    "     \n",
    "    # inner function can access the outer local\n",
    "    # functions like in this case \"func\"\n",
    "    def inner1():\n",
    "        print(\"Hello, this is before function execution\")\n",
    "        \n",
    "        # calling the actual function now\n",
    "        # inside the wrapper function.\n",
    "        func()\n",
    "        print(\"This is after function execution\")\n",
    "        \n",
    "    return inner1\n",
    "\n",
    "# defining a function, to be called inside wrapper\n",
    "def function_to_be_used():\n",
    "    print(\"this is inside the function\")\n",
    "    \n",
    "# passing 'function_to_be_used' inside the\n",
    "# decorator to control its behaviour    \n",
    "function_to_be_used = hello_decorator(function_to_be_used)\n",
    "\n",
    "# calling the function\n",
    "function_to_be_used()"
   ]
  },
  {
   "cell_type": "code",
   "execution_count": 5,
   "id": "897513d3",
   "metadata": {},
   "outputs": [
    {
     "name": "stdout",
     "output_type": "stream",
     "text": [
      "3628800\n",
      "Total time taken is:  factorial 2.0107970237731934\n"
     ]
    }
   ],
   "source": [
    "#importing libraries\n",
    "import time\n",
    "import math\n",
    "\n",
    "# decorator to calculate duration\n",
    "# taken by any function.\n",
    "def calculate_time(func):\n",
    "    \n",
    "    # added arguments inside the inner1,\n",
    "    # if function takes any arguments,\n",
    "    # can be added like this.\n",
    "    def inner(*args, **kwargs):\n",
    "        \n",
    "        # storing time before function execution\n",
    "        begin = time.time()\n",
    "        func(*args, **kwargs)\n",
    "        \n",
    "        # storing time after function execution\n",
    "        end = time.time()\n",
    "        print(\"Total time taken is: \", func.__name__, end - begin)\n",
    "        \n",
    "    return inner\n",
    "\n",
    "# this can be added to any function present,\n",
    "# in this case to calculate a factorial\n",
    "@calculate_time\n",
    "def factorial(num):\n",
    "    \n",
    "    # sleep 2 seconds because it takes very less time\n",
    "    # so that you can see the actual difference\n",
    "    time.sleep(2)\n",
    "    print(math.factorial(num))\n",
    "\n",
    "# calling the function.\n",
    "factorial(10)"
   ]
  },
  {
   "cell_type": "markdown",
   "id": "950a36d5",
   "metadata": {},
   "source": [
    "<b>Chaining Decorators</b>"
   ]
  },
  {
   "cell_type": "markdown",
   "id": "6e8fbba0",
   "metadata": {},
   "source": [
    "* Multiple decorators can be chained in Python.\n",
    "* This is to say, a function can be decorated multiple times with different (or same) decorators. We simply place the decorators above the desired function.\n",
    "\n"
   ]
  },
  {
   "cell_type": "code",
   "execution_count": 13,
   "id": "7222bc2d",
   "metadata": {},
   "outputs": [
    {
     "name": "stdout",
     "output_type": "stream",
     "text": [
      "******************************\n",
      "%%%%%%%%%%%%%%%%%%%%%%%%%%%%%%\n",
      "Hello\n",
      "%%%%%%%%%%%%%%%%%%%%%%%%%%%%%%\n",
      "******************************\n"
     ]
    }
   ],
   "source": [
    "#code for testing decorator chaining\n",
    "def star(func):\n",
    "    def inner(*args, **kwargs):\n",
    "        print(\"%\" * 30)\n",
    "        func(*args, **kwargs)\n",
    "        print(\"%\" * 30)\n",
    "    return inner\n",
    "\n",
    "def percent(func):\n",
    "    def inner(*args, **kwargs):\n",
    "        print(\"*\" * 30)\n",
    "        func(*args, **kwargs)\n",
    "        print(\"*\" * 30)\n",
    "    return inner\n",
    "\n",
    "@percent\n",
    "@star\n",
    "def printer(msg):\n",
    "    print(msg)\n",
    "    \n",
    "printer(\"Hello\")    "
   ]
  },
  {
   "cell_type": "code",
   "execution_count": 16,
   "id": "2f7d93dd",
   "metadata": {},
   "outputs": [
    {
     "name": "stdout",
     "output_type": "stream",
     "text": [
      "400\n"
     ]
    }
   ],
   "source": [
    "def decor1(func):\n",
    "    def inner():\n",
    "        x = func()\n",
    "        return x*x\n",
    "    return inner\n",
    "\n",
    "def decor2(func):\n",
    "    def inner():\n",
    "        x = func()\n",
    "        return 2*x\n",
    "    return inner\n",
    "\n",
    "@decor1\n",
    "@decor2\n",
    "def num():\n",
    "    return 10\n",
    "\n",
    "print(num())"
   ]
  }
 ],
 "metadata": {
  "kernelspec": {
   "display_name": "Python 3 (ipykernel)",
   "language": "python",
   "name": "python3"
  },
  "language_info": {
   "codemirror_mode": {
    "name": "ipython",
    "version": 3
   },
   "file_extension": ".py",
   "mimetype": "text/x-python",
   "name": "python",
   "nbconvert_exporter": "python",
   "pygments_lexer": "ipython3",
   "version": "3.9.12"
  }
 },
 "nbformat": 4,
 "nbformat_minor": 5
}

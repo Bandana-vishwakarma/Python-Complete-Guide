{
 "cells": [
  {
   "cell_type": "markdown",
   "id": "7fd04a4a",
   "metadata": {},
   "source": [
    "### Data Abstraction"
   ]
  },
  {
   "cell_type": "markdown",
   "id": "d7242110",
   "metadata": {},
   "source": [
    "* Abstraction is used to hide the internal functionality of the function from the users.\n",
    "* The users only interact with the basic implementation of the function, but inner working is hidden.\n",
    "* User is familiar with that \"what function does\" but they don't know \"how it does.\""
   ]
  },
  {
   "cell_type": "markdown",
   "id": "e52c0fca",
   "metadata": {},
   "source": [
    "<b>Why Abstraction is Important?</b>"
   ]
  },
  {
   "cell_type": "markdown",
   "id": "7e181bad",
   "metadata": {},
   "source": [
    "* An abstraction is used to hide the irrelevant data/class in order to reduce the complexity.\n",
    "* It also enhances the application efficiency."
   ]
  },
  {
   "cell_type": "markdown",
   "id": "93951b85",
   "metadata": {},
   "source": [
    "<b>Abstract Class in Python</b> "
   ]
  },
  {
   "cell_type": "markdown",
   "id": "ca0f43b9",
   "metadata": {},
   "source": [
    "* A class containing one or more abstract methods is called an abstract class.\n",
    "* As a property, abstract classes can have any number of abstract methods coexisting with any number of other methods.\n",
    "* Abstract methods do not contain any implementation. Instead, all the implementations can be defined in the methods of sub-classes that inherit the abstract class. \n",
    "* An abstract class is also helpful to provide the standard interface for different implementations of components.\n",
    "* Python provides the <b>abc</b> module to use the abstraction in the Python program. "
   ]
  },
  {
   "cell_type": "code",
   "execution_count": 1,
   "id": "2a4cddac",
   "metadata": {},
   "outputs": [],
   "source": [
    "#Abstract class Syntax is declared as\n",
    "#We import the ABC class from the abc module.\n",
    "#ABC – Abstract BaseClass.\n",
    "from abc import ABC\n",
    "class ClassName(ABC):\n",
    "    pass\n",
    "\n",
    "#Abstract method Syntax is declared as\n",
    "def abstractmethodname():\n",
    "    pass"
   ]
  },
  {
   "cell_type": "markdown",
   "id": "06d26968",
   "metadata": {},
   "source": [
    "<b>How does Abstraction work in Python?</b>"
   ]
  },
  {
   "cell_type": "markdown",
   "id": "95f36f07",
   "metadata": {},
   "source": [
    "In Python, Abstraction works by incorporating abstract classes and methods.\n",
    "We use the <b>@abstractmethod</b> decorator to define an abstract method or if we don't provide the definition to the method, it automatically becomes the abstract method.\n",
    "* <b>Abstract Class:</b> A class specified in the code that has abstract methods is named Abstract Class.\n",
    "* <b>Abstract Method:</b> Here, it doesn’t have any implementation. All the implementations are done inside the sub-classes.\n",
    "* <b>Few things to be noted in Python:</b>\n",
    "* In python, an abstract class can hold both an abstract method and a normal method.\n",
    "* an abstract class is not initiated (no objects are created).\n",
    "* The derived class implementation methods are defined in abstract base classes.\n",
    "* s python doesn’t define an interface, instead, we can use a Keyword abstract class itself."
   ]
  },
  {
   "cell_type": "code",
   "execution_count": 2,
   "id": "ec9f8990",
   "metadata": {},
   "outputs": [],
   "source": [
    "#Abstract Class\n",
    "class product(ABC):\n",
    "    #Normal Method\n",
    "    def item_list(self, rate):\n",
    "        print(\"amount submitted :\", rate)\n",
    "    \n",
    "    #abstractmethod\n",
    "    def product(self, rate):\n",
    "        pass"
   ]
  },
  {
   "cell_type": "markdown",
   "id": "3ea566e2",
   "metadata": {},
   "source": [
    "<b>Abstract Base Classes(ABC)</b>"
   ]
  },
  {
   "cell_type": "markdown",
   "id": "7f1f8fdb",
   "metadata": {},
   "source": [
    "* An abstract base class is the common application program of the interface for a set of subclasses. It can be used by the third-party, which will provide the implementations such as with plugins. It is also beneficial when we work with the large code-base hard to remember all the classes."
   ]
  },
  {
   "cell_type": "markdown",
   "id": "05f7fcec",
   "metadata": {},
   "source": [
    "<b>Examples of Abstraction in Python</b>"
   ]
  },
  {
   "cell_type": "code",
   "execution_count": 3,
   "id": "f3c37563",
   "metadata": {},
   "outputs": [
    {
     "name": "stdout",
     "output_type": "stream",
     "text": [
      "The mileage is 30kmph\n",
      "The mileage is 60kmph\n",
      "The mileage is 70kmph\n",
      "The mileage is 20kmph\n"
     ]
    }
   ],
   "source": [
    "from abc import ABC\n",
    "class Car(ABC):\n",
    "    def mileage(self):\n",
    "        pass\n",
    "    \n",
    "class Tesla(Car):\n",
    "    def mileage(self):\n",
    "        print(\"The mileage is 30kmph\")\n",
    "        \n",
    "class Suzuki(Car):\n",
    "    def mileage(self):\n",
    "        print(\"The mileage is 60kmph\")\n",
    "        \n",
    "class Duster(Car):\n",
    "    def mileage(self):\n",
    "        print(\"The mileage is 70kmph\") \n",
    "        \n",
    "class Altroz(Car):\n",
    "    def mileage(self):\n",
    "        print(\"The mileage is 20kmph\")   \n",
    "        \n",
    "t = Tesla()\n",
    "t.mileage()\n",
    "\n",
    "s = Suzuki()\n",
    "s.mileage()\n",
    "\n",
    "d = Duster()\n",
    "d.mileage()\n",
    "\n",
    "a = Altroz()\n",
    "a.mileage()\n",
    "    "
   ]
  },
  {
   "cell_type": "code",
   "execution_count": 5,
   "id": "c21f66a4",
   "metadata": {},
   "outputs": [
    {
     "name": "stdout",
     "output_type": "stream",
     "text": [
      "Triangle has 3 sides\n",
      "Pentagon has 5 sides\n",
      "HExagon has 6 sides\n",
      "Square has 4 sides\n"
     ]
    }
   ],
   "source": [
    "from abc import ABC\n",
    "#abstract class\n",
    "class Polygon(ABC):\n",
    "    #abstract method\n",
    "    def sides(self):\n",
    "        pass\n",
    "\n",
    "class Triangle(Polygon):\n",
    "    def sides(self):\n",
    "        print(\"Triangle has 3 sides\") \n",
    "    \n",
    "class Pentagon(Polygon):\n",
    "    def sides(self):\n",
    "        print(\"Pentagon has 5 sides\") \n",
    "    \n",
    "class Hexagon(Polygon):\n",
    "    def sides(self):\n",
    "        print(\"HExagon has 6 sides\")   \n",
    "        \n",
    "class Square(Polygon):\n",
    "    def sides(self):\n",
    "        print(\"Square has 4 sides\")\n",
    "        \n",
    "t = Triangle()\n",
    "t.sides()\n",
    "\n",
    "p = Pentagon()\n",
    "p.sides()\n",
    "\n",
    "h = Hexagon()\n",
    "h.sides()\n",
    "\n",
    "s = Square()\n",
    "s.sides()\n"
   ]
  },
  {
   "cell_type": "markdown",
   "id": "d31106d2",
   "metadata": {},
   "source": [
    "<b>Points to Remember</b>"
   ]
  },
  {
   "cell_type": "markdown",
   "id": "825be129",
   "metadata": {},
   "source": [
    "* An Abstract class can contain the both method normal and abstract method.\n",
    "* An Abstract cannot be instantiated; we cannot create objects for the abstract class."
   ]
  }
 ],
 "metadata": {
  "kernelspec": {
   "display_name": "Python 3 (ipykernel)",
   "language": "python",
   "name": "python3"
  },
  "language_info": {
   "codemirror_mode": {
    "name": "ipython",
    "version": 3
   },
   "file_extension": ".py",
   "mimetype": "text/x-python",
   "name": "python",
   "nbconvert_exporter": "python",
   "pygments_lexer": "ipython3",
   "version": "3.9.12"
  }
 },
 "nbformat": 4,
 "nbformat_minor": 5
}

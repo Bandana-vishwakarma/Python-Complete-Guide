{
 "cells": [
  {
   "cell_type": "markdown",
   "id": "8717d951",
   "metadata": {},
   "source": [
    "### Python Polymorphism"
   ]
  },
  {
   "cell_type": "markdown",
   "id": "126b6f42",
   "metadata": {},
   "source": [
    "* Polymorphism is taken from the Greek words Poly (many) and morphism (forms).It means that the same function name can be used for different types.  "
   ]
  },
  {
   "cell_type": "markdown",
   "id": "6fc9e80f",
   "metadata": {},
   "source": [
    "<b>Polymorphism with addition operator</b>"
   ]
  },
  {
   "cell_type": "code",
   "execution_count": 3,
   "id": "ac65e31e",
   "metadata": {},
   "outputs": [
    {
     "name": "stdout",
     "output_type": "stream",
     "text": [
      "7\n",
      "Sila KApoor\n"
     ]
    }
   ],
   "source": [
    "#in integer data type\n",
    "num1 = 3\n",
    "num2 = 4\n",
    "print(num1+num2)\n",
    "\n",
    "#in str data type\n",
    "num1 = \"Sila \"\n",
    "num2 = \"KApoor\"\n",
    "print(num1+num2)"
   ]
  },
  {
   "cell_type": "markdown",
   "id": "97516953",
   "metadata": {},
   "source": [
    "<b>Polymorphism with function</b>"
   ]
  },
  {
   "cell_type": "code",
   "execution_count": 6,
   "id": "12cac92e",
   "metadata": {},
   "outputs": [
    {
     "name": "stdout",
     "output_type": "stream",
     "text": [
      "4\n",
      "3\n",
      "3\n",
      "6\n",
      "14\n"
     ]
    }
   ],
   "source": [
    "#inbuilt polymorphic functions\n",
    "#len() function can run with many data type.\n",
    "print(len(\"Rama\"))\n",
    "print(len([\"python\", \"java\", \"c\"]))\n",
    "print(len({\"name\": \"Kala\", \"age\":56, \n",
    "           \"Address\": \"India\"}))\n",
    "\n",
    "#user-defined polymorphic functions\n",
    "def add(x, y, z = 0):\n",
    "    return x+y+z\n",
    "\n",
    "print(add(2, 4))\n",
    "print(add(3, 5, 6))\n",
    "    "
   ]
  },
  {
   "cell_type": "markdown",
   "id": "622bead1",
   "metadata": {},
   "source": [
    "<b>Polymorphism with Class Methods</b>"
   ]
  },
  {
   "cell_type": "code",
   "execution_count": 7,
   "id": "99e5cf32",
   "metadata": {},
   "outputs": [
    {
     "name": "stdout",
     "output_type": "stream",
     "text": [
      "Meow\n",
      "I'm a cat. My name is Kitty. I am 6 years old.\n",
      "Bark\n",
      "I'm a dog. My name is Tommy. I am 8 years old.\n"
     ]
    }
   ],
   "source": [
    "class Cat:\n",
    "    def __init__(self, name, age):\n",
    "        self.name = name\n",
    "        self.age = age\n",
    "        \n",
    "    def info(self):\n",
    "        print(f\"I'm a cat. My name is {self.name}. I am {self.age} years old.\")\n",
    "    \n",
    "    def make_sound(self):\n",
    "        print(\"Meow\")\n",
    "        \n",
    "class Dog:\n",
    "    def __init__(self, name, age):\n",
    "        self.name = name\n",
    "        self.age = age\n",
    "        \n",
    "    def info(self):\n",
    "        print(f\"I'm a dog. My name is {self.name}. I am {self.age} years old.\")\n",
    "    \n",
    "    def make_sound(self):\n",
    "        print(\"Bark\")\n",
    "        \n",
    "cat1 = Cat(\"Kitty\", 6)\n",
    "dog1 = Dog(\"Tommy\", 8)\n",
    "\n",
    "for animal in (cat1, dog1):\n",
    "    animal.make_sound()\n",
    "    animal.info()"
   ]
  },
  {
   "cell_type": "markdown",
   "id": "2f17f75b",
   "metadata": {},
   "source": [
    "<b>Polymorphism with Inheritance</b>"
   ]
  },
  {
   "cell_type": "markdown",
   "id": "b0f4bf32",
   "metadata": {},
   "source": [
    "* In Python, Polymorphism lets us define methods in the child class that have the same name as the methods in the parent class.\n",
    "* In inheritance, the child class inherits the methods from the parent class.However, it is possible to modify a method in a child class that it has inherited from the parent class. \n",
    "* This is particularly useful in cases where the method inherited from the parent class doesn’t quite fit the child class.\n",
    "* n such cases, we re-implement the method in the child class. This process of re-implementing a method in the child class is known as <b>Method Overriding</b>. \n",
    "* <b>Note:</b> <B>Method Overloading,</b> a way to create multiple methods with the same name but different arguments, is not possible in Python.\n"
   ]
  },
  {
   "cell_type": "code",
   "execution_count": 8,
   "id": "02fbd89d",
   "metadata": {},
   "outputs": [
    {
     "name": "stdout",
     "output_type": "stream",
     "text": [
      "There are many types of birds.\n",
      "Most of the birds fly but some cannot.\n",
      "There are many types of birds.\n",
      "Sparrow can fly.\n",
      "There are many types of birds.\n",
      "Ostrich can fly.\n"
     ]
    }
   ],
   "source": [
    "class Bird:\n",
    "    def intro(self):\n",
    "        print(\"There are many types of birds.\")\n",
    "    \n",
    "    def flight(self):\n",
    "        print(\"Most of the birds fly but some cannot.\")\n",
    "        \n",
    "class Sparrow(Bird):\n",
    "    def flight(self):\n",
    "        print(\"Sparrow can fly.\")\n",
    "        \n",
    "class Ostrich(Bird):\n",
    "    def flight(self):\n",
    "        print(\"Ostrich can fly.\")\n",
    "        \n",
    "bird = Bird()\n",
    "spr = Sparrow()\n",
    "ostr = Ostrich()\n",
    "\n",
    "bird.intro()\n",
    "bird. flight()\n",
    "\n",
    "spr.intro()\n",
    "spr. flight()\n",
    "\n",
    "ostr.intro()\n",
    "ostr. flight()"
   ]
  }
 ],
 "metadata": {
  "kernelspec": {
   "display_name": "Python 3 (ipykernel)",
   "language": "python",
   "name": "python3"
  },
  "language_info": {
   "codemirror_mode": {
    "name": "ipython",
    "version": 3
   },
   "file_extension": ".py",
   "mimetype": "text/x-python",
   "name": "python",
   "nbconvert_exporter": "python",
   "pygments_lexer": "ipython3",
   "version": "3.9.12"
  }
 },
 "nbformat": 4,
 "nbformat_minor": 5
}

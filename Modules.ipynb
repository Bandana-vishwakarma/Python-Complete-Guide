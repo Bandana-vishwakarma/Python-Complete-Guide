{
 "cells": [
  {
   "cell_type": "markdown",
   "id": "d15b53c4",
   "metadata": {},
   "source": [
    "### Python Modules"
   ]
  },
  {
   "cell_type": "markdown",
   "id": "b4c2b7e2",
   "metadata": {},
   "source": [
    "* A module is a python file containing function, class and variables.\n",
    "* A module is included in any python application using an import statement.\n",
    "* A python module may also contain runnable python code.\n",
    "* Using python modules, we organize related code into a group which can be included in any python application. The module in python makes the python program easy to understand and use."
   ]
  },
  {
   "cell_type": "markdown",
   "id": "f816cab5",
   "metadata": {},
   "source": [
    "<b>How to create a module?</b>"
   ]
  },
  {
   "cell_type": "markdown",
   "id": "e4fb10ad",
   "metadata": {},
   "source": [
    "* To create a module simply define the functions, classes, and variables that you want to place in the module and save the file with <b>.py extension</b>."
   ]
  },
  {
   "cell_type": "code",
   "execution_count": 1,
   "id": "3b8695a8",
   "metadata": {},
   "outputs": [],
   "source": [
    "#Create a simple Python module\n",
    "def add(x, y):\n",
    "    return x+y\n",
    "\n",
    "def subtract(x, y):\n",
    "    return x-y"
   ]
  },
  {
   "cell_type": "markdown",
   "id": "035a432e",
   "metadata": {},
   "source": [
    "<b>How to use a module?</b>"
   ]
  },
  {
   "cell_type": "markdown",
   "id": "45f5a1bd",
   "metadata": {},
   "source": [
    "* A module is used in any python application by importing it using the <b>import keyword</b>.\n",
    "* <b>Syntax</b>: import module"
   ]
  },
  {
   "cell_type": "code",
   "execution_count": 21,
   "id": "b8beda2a",
   "metadata": {},
   "outputs": [
    {
     "name": "stdout",
     "output_type": "stream",
     "text": [
      "40\n",
      "8\n",
      "204\n",
      "4\n"
     ]
    }
   ],
   "source": [
    "import calci\n",
    "\n",
    "def add(a, b):\n",
    "    return a+b\n",
    "\n",
    "def sub(a, b):\n",
    "    return a-b\n",
    "\n",
    "def mul(a, b):\n",
    "    return a*b\n",
    "\n",
    "def div(a, b):\n",
    "    return a%b\n",
    "\n",
    "print(add(34, 6))\n",
    "print(sub(14, 6))\n",
    "print(mul(34, 6))\n",
    "print(div(4, 6))"
   ]
  },
  {
   "cell_type": "markdown",
   "id": "c6752eb8",
   "metadata": {},
   "source": [
    "<b>Variables in module</b>"
   ]
  },
  {
   "cell_type": "markdown",
   "id": "db1f74fe",
   "metadata": {},
   "source": [
    "* The python module may also contain variables. It can contain variable of any type including list, tuples, dictionaries, objects, etc."
   ]
  },
  {
   "cell_type": "code",
   "execution_count": null,
   "id": "b112e861",
   "metadata": {},
   "outputs": [],
   "source": [
    "import my_module\n",
    "\n",
    "name = \"Sila\"\n",
    "list1 = [1, 3,4 ,5, 6]\n",
    "dict1 = {\"a\":\"apple\", \"b\":\"ball\", \"c\":\"cat\"}\n",
    "\n",
    "print(name)\n",
    "print(list1)\n",
    "print(dict1)"
   ]
  },
  {
   "cell_type": "markdown",
   "id": "1a71ffc8",
   "metadata": {},
   "source": [
    "<b>import and as keywords</b>"
   ]
  },
  {
   "cell_type": "markdown",
   "id": "90393905",
   "metadata": {},
   "source": [
    "* In Python, we can import a module with an alias name. To import a module with an alias name we use <b>as</b> a keyword along with import keyword.\n",
    "* <b>Syntax:</b>  Import Module_name as Alias_name"
   ]
  },
  {
   "cell_type": "code",
   "execution_count": null,
   "id": "e39d2729",
   "metadata": {},
   "outputs": [],
   "source": [
    "#Renaming the Python module\n",
    "import math as m\n",
    "\n",
    "print(add(34, 6))\n",
    "print(sub(4, 6))\n",
    "print(mul(5, 6))\n",
    "print(div(78, 6))"
   ]
  },
  {
   "cell_type": "markdown",
   "id": "4abbfb5d",
   "metadata": {},
   "source": [
    "<b>importing specific function from a module</b>"
   ]
  },
  {
   "cell_type": "markdown",
   "id": "0b8cf16b",
   "metadata": {},
   "source": [
    "* In Python, we can also import only specific functions from a module. To import only specific functions from a module, we use <b>from</b> keyword along with <b>import</b> keyword. \n",
    "* When we import specific functions using from a keyword, it not required to use the module name to call the function instead function is called directly. For example, add(10, 5), but not Calci.add(10,5)."
   ]
  },
  {
   "cell_type": "code",
   "execution_count": null,
   "id": "2a9aae5b",
   "metadata": {},
   "outputs": [],
   "source": [
    "from math import sqrt, factorial\n",
    "\n",
    "print(sqrt(3))\n",
    "print(factorial(6))"
   ]
  },
  {
   "cell_type": "markdown",
   "id": "ebac83e7",
   "metadata": {},
   "source": [
    "<b>Import all Names </b>"
   ]
  },
  {
   "cell_type": "markdown",
   "id": "4c261cc8",
   "metadata": {},
   "source": [
    "* We may also import all the functions of a module using from keyword along with *. For example, from Calci import *.\n",
    "* <b>Syntax:</b> from module_name import *"
   ]
  },
  {
   "cell_type": "code",
   "execution_count": null,
   "id": "90b7d48d",
   "metadata": {},
   "outputs": [],
   "source": [
    "from math import*\n",
    "\n",
    "print(sqrt(7))\n",
    "print(factorial(9))"
   ]
  },
  {
   "cell_type": "markdown",
   "id": "4de8026c",
   "metadata": {},
   "source": [
    "<b>dir( ) with modules</b>"
   ]
  },
  {
   "cell_type": "markdown",
   "id": "a66e969e",
   "metadata": {},
   "source": [
    "* In Python, the built-in function <b>dir( )</b> used to list all the functions of a module. This built-in function can be used with any module.\n",
    "* The dir( ) function returns a list of all functions of the specified module. The list is included with all the user-defined functions and also built-in function.\n",
    "* <b>Note:</b> The dir() function can be used on all modules, also the ones you create yourself."
   ]
  },
  {
   "cell_type": "code",
   "execution_count": null,
   "id": "47439c71",
   "metadata": {},
   "outputs": [],
   "source": [
    "import math\n",
    "all_func = dir(math)\n",
    "print(all_func)"
   ]
  },
  {
   "cell_type": "markdown",
   "id": "d2448c7b",
   "metadata": {},
   "source": [
    "<b>Locating Python Modules</b>"
   ]
  },
  {
   "cell_type": "markdown",
   "id": "f58fb2e8",
   "metadata": {},
   "source": [
    "Whenever a module is imported in Python the interpreter looks for several locations.\n",
    "First, it will check for the built-in module, if not found then it looks for a list of directories defined in the <b>sys.path</b>.\n",
    "* First, it searches for the module in the current directory.\n",
    "* If the module isn’t found in the current directory, Python then searches each directory in the shell variable PYTHONPATH. The PYTHONPATH is an environment variable, consisting of a list of directories.\n",
    "* If that also fails python checks the installation-dependent list of directories configured at the time Python is installed."
   ]
  },
  {
   "cell_type": "markdown",
   "id": "3cc325a1",
   "metadata": {},
   "source": [
    "<b>Directories List for Modules</b>"
   ]
  },
  {
   "cell_type": "markdown",
   "id": "95bf4e0f",
   "metadata": {},
   "source": [
    "* Here, sys.path is a built-in variable within the sys module. It contains a list of directories that the interpreter will search for the required module. "
   ]
  },
  {
   "cell_type": "code",
   "execution_count": 3,
   "id": "0986149d",
   "metadata": {},
   "outputs": [
    {
     "name": "stdout",
     "output_type": "stream",
     "text": [
      "['C:\\\\Users\\\\Vandana', 'C:\\\\Users\\\\Vandana\\\\anaconda3\\\\python39.zip', 'C:\\\\Users\\\\Vandana\\\\anaconda3\\\\DLLs', 'C:\\\\Users\\\\Vandana\\\\anaconda3\\\\lib', 'C:\\\\Users\\\\Vandana\\\\anaconda3', '', 'C:\\\\Users\\\\Vandana\\\\anaconda3\\\\lib\\\\site-packages', 'C:\\\\Users\\\\Vandana\\\\anaconda3\\\\lib\\\\site-packages\\\\win32', 'C:\\\\Users\\\\Vandana\\\\anaconda3\\\\lib\\\\site-packages\\\\win32\\\\lib', 'C:\\\\Users\\\\Vandana\\\\anaconda3\\\\lib\\\\site-packages\\\\Pythonwin']\n"
     ]
    }
   ],
   "source": [
    "import sys\n",
    "print(sys.path)"
   ]
  },
  {
   "cell_type": "markdown",
   "id": "1b7ada66",
   "metadata": {},
   "source": [
    "<b>Packages</b>"
   ]
  },
  {
   "cell_type": "markdown",
   "id": "79b3df88",
   "metadata": {},
   "source": [
    "* We usually organize our files in different folders and subfolders based on some criteria, so that they can be managed easily and efficiently.\n",
    "* For example, we keep all our games in a Games folder and we can even subcategorize according to the genre of the game or something like this. The same analogy is followed by the Python package.\n",
    "* Python package can contains several module. In simpler terms <b>a package is folder that contains various modules as files</b>."
   ]
  }
 ],
 "metadata": {
  "kernelspec": {
   "display_name": "Python 3 (ipykernel)",
   "language": "python",
   "name": "python3"
  },
  "language_info": {
   "codemirror_mode": {
    "name": "ipython",
    "version": 3
   },
   "file_extension": ".py",
   "mimetype": "text/x-python",
   "name": "python",
   "nbconvert_exporter": "python",
   "pygments_lexer": "ipython3",
   "version": "3.9.12"
  }
 },
 "nbformat": 4,
 "nbformat_minor": 5
}

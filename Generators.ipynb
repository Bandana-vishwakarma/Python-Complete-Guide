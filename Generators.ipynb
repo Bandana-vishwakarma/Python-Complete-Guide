{
 "cells": [
  {
   "cell_type": "markdown",
   "id": "d6817e98",
   "metadata": {},
   "source": [
    "### Python Generators"
   ]
  },
  {
   "cell_type": "markdown",
   "id": "6dcb2225",
   "metadata": {},
   "source": [
    "* There is a lot of work in building an iterator in Python. We have to implement a class with __iter__() and __next__() method, keep track of internal states, and raise StopIteration when there are no values to be returned.\n",
    "* This is both lengthy and counterintuitive. Generator comes to the rescue in such situations.\n",
    "* Python generators are a simple way of creating iterators.\n",
    "* a generator is a function that returns an object (iterator) which we can iterate over (one value at a time)."
   ]
  },
  {
   "cell_type": "markdown",
   "id": "afb71401",
   "metadata": {},
   "source": [
    "<b>Create Generators</b>"
   ]
  },
  {
   "cell_type": "markdown",
   "id": "29dc0cf4",
   "metadata": {},
   "source": [
    "* It is as easy as defining a normal function, but with a <b>yield</b> statement instead of a <b>return</b> statement.\n",
    "* If a function contains at least one yield statement (it may contain other yield or return statements), it becomes a generator function. Both yield and return will return some value from a function.\n",
    "* The difference is that while a return statement terminates a function entirely, yield statement pauses the function saving all its states and later continues from there on successive calls."
   ]
  },
  {
   "cell_type": "code",
   "execution_count": 1,
   "id": "92e96441",
   "metadata": {},
   "outputs": [
    {
     "name": "stdout",
     "output_type": "stream",
     "text": [
      "1\n",
      "2\n",
      "3\n"
     ]
    }
   ],
   "source": [
    "#creating a generator function\n",
    "def simpleGenerator():\n",
    "    yield 1           \n",
    "    yield 2           \n",
    "    yield 3\n",
    "\n",
    "#code to check above generator function    \n",
    "for value in simpleGenerator():\n",
    "    print(value)"
   ]
  },
  {
   "cell_type": "markdown",
   "id": "e679f4bd",
   "metadata": {},
   "source": [
    "<b>Generator-Object</b>"
   ]
  },
  {
   "cell_type": "code",
   "execution_count": 4,
   "id": "9b2dc5a7",
   "metadata": {},
   "outputs": [
    {
     "name": "stdout",
     "output_type": "stream",
     "text": [
      "1\n",
      "2\n",
      "3\n",
      "1\n",
      "2\n",
      "3\n"
     ]
    }
   ],
   "source": [
    "# A generator function\n",
    "def SimpleGenerator():\n",
    "    yield 1\n",
    "    yield 2\n",
    "    yield 3\n",
    "    \n",
    "#generator object\n",
    "x = SimpleGenerator()\n",
    "\n",
    "#Iterating over generator object using next\n",
    "print(next(x))\n",
    "print(next(x))\n",
    "print(next(x))\n",
    "\n",
    "#with looping\n",
    "for x in SimpleGenerator():\n",
    "    print(x)\n"
   ]
  },
  {
   "cell_type": "markdown",
   "id": "d335037f",
   "metadata": {},
   "source": [
    "<b>Differences between Generator function and Normal function</b>"
   ]
  },
  {
   "cell_type": "markdown",
   "id": "93964762",
   "metadata": {},
   "source": [
    "* Generator function contains one or more yield statements.\n",
    "* When called, it returns an object (iterator) but does not start execution immediately.\n",
    "* Methods like __iter__() and __next__() are implemented automatically. So we can iterate through the items using next().\n",
    "* Once the function yields, the function is paused and the control is transferred to the caller.\n",
    "* Local variables and their states are remembered between successive calls.\n",
    "* Finally, when the function terminates, StopIteration is raised automatically on further calls."
   ]
  },
  {
   "cell_type": "markdown",
   "id": "b4e1c07d",
   "metadata": {},
   "source": [
    "<b>Yield keyword</b>"
   ]
  },
  {
   "cell_type": "markdown",
   "id": "48a1196c",
   "metadata": {},
   "source": [
    "* The yield statement suspends a function’s execution and sends a value back to the caller, but retains enough state to enable the function to resume where it left off.\n",
    "*  When the function resumes, it continues execution immediately after the last yield run.\n",
    "* This allows its code to produce a series of values over time."
   ]
  },
  {
   "cell_type": "code",
   "execution_count": 5,
   "id": "4b4178c4",
   "metadata": {},
   "outputs": [
    {
     "name": "stdout",
     "output_type": "stream",
     "text": [
      "1\n",
      "4\n",
      "9\n",
      "16\n",
      "25\n",
      "36\n",
      "49\n",
      "64\n",
      "81\n",
      "100\n"
     ]
    }
   ],
   "source": [
    "def Square():\n",
    "    i = 1\n",
    "    \n",
    "    while True:\n",
    "        yield i*i\n",
    "        i += 1\n",
    "        \n",
    "for num in Square():\n",
    "    if num > 100:\n",
    "        break \n",
    "    print(num)   "
   ]
  },
  {
   "cell_type": "markdown",
   "id": "0f4e860a",
   "metadata": {},
   "source": [
    "<b>Example:</b>"
   ]
  },
  {
   "cell_type": "code",
   "execution_count": 7,
   "id": "f0467228",
   "metadata": {},
   "outputs": [
    {
     "name": "stdout",
     "output_type": "stream",
     "text": [
      "0\n",
      "1\n",
      "1\n",
      "2\n",
      "3\n",
      "\n",
      "using for loop\n",
      "0\n",
      "1\n",
      "1\n",
      "2\n",
      "3\n",
      "5\n",
      "8\n",
      "13\n"
     ]
    }
   ],
   "source": [
    "# A simple generator for Fibonacci Numbers\n",
    "def fib(self):\n",
    "    a, b = 0, 1\n",
    "    \n",
    "    while a < self:\n",
    "        yield a\n",
    "        a, b = b, a+b\n",
    "\n",
    "x = fib(5)\n",
    "print(next(x))\n",
    "print(next(x))\n",
    "print(next(x))\n",
    "print(next(x))\n",
    "print(next(x))\n",
    "\n",
    "#using for loop\n",
    "print(\"\\nusing for loop\")\n",
    "for x in fib(16):\n",
    "    print(x)"
   ]
  }
 ],
 "metadata": {
  "kernelspec": {
   "display_name": "Python 3 (ipykernel)",
   "language": "python",
   "name": "python3"
  },
  "language_info": {
   "codemirror_mode": {
    "name": "ipython",
    "version": 3
   },
   "file_extension": ".py",
   "mimetype": "text/x-python",
   "name": "python",
   "nbconvert_exporter": "python",
   "pygments_lexer": "ipython3",
   "version": "3.9.12"
  }
 },
 "nbformat": 4,
 "nbformat_minor": 5
}

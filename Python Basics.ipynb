{
 "cells": [
  {
   "cell_type": "markdown",
   "id": "f37c82c1",
   "metadata": {},
   "source": [
    "### Python Introduction"
   ]
  },
  {
   "cell_type": "markdown",
   "id": "e2327a9a",
   "metadata": {},
   "source": [
    "<b>What is Python?</b>"
   ]
  },
  {
   "cell_type": "markdown",
   "id": "994aaa20",
   "metadata": {},
   "source": [
    "Python is a popular programming language. It was created by Guido van Rossum in 1991.\n",
    "\n",
    "It is used for:\n",
    "\n",
    "* web development (server-side),\n",
    "* software development,\n",
    "* mathematics,\n",
    "* system scripting."
   ]
  },
  {
   "cell_type": "markdown",
   "id": "3b8e10a8",
   "metadata": {},
   "source": [
    "<b>What can Python do?</b>"
   ]
  },
  {
   "cell_type": "markdown",
   "id": "8a0b59b9",
   "metadata": {},
   "source": [
    "* Python can be used on a server to create web applications.\n",
    "* Python can be used alongside software to create workflows.\n",
    "* Python can connect to database systems. It can also read and modify files.\n",
    "* Python can be used to handle big data and perform complex mathematics.\n",
    "* Python can be used for rapid prototyping, or for production-ready software development."
   ]
  },
  {
   "cell_type": "markdown",
   "id": "96a3795e",
   "metadata": {},
   "source": [
    "<b>Why Python?</b>"
   ]
  },
  {
   "cell_type": "markdown",
   "id": "d804a0ec",
   "metadata": {},
   "source": [
    "* Python works on different platforms (Windows, Mac, Linux, Raspberry Pi, etc).\n",
    "* Python has a simple syntax.\n",
    "* Python has syntax that allows developers to write programs with fewer lines than some other programming languages.\n",
    "* Python support object-oriented programming."
   ]
  },
  {
   "cell_type": "markdown",
   "id": "d93e01af",
   "metadata": {},
   "source": [
    "### Variable"
   ]
  },
  {
   "cell_type": "markdown",
   "id": "8d48b288",
   "metadata": {},
   "source": [
    "* Variables are containers for storing data values.\n",
    "* Variables do not need to be declared with any particular type, and can even change type after they have been set.\n",
    "* To specify the data type of a variable, this can be done by the casting.\n",
    "* We can get the data type of a variable with the type() function."
   ]
  },
  {
   "cell_type": "code",
   "execution_count": 1,
   "id": "9cbb9c64",
   "metadata": {},
   "outputs": [
    {
     "name": "stdout",
     "output_type": "stream",
     "text": [
      "4\n",
      "3\n",
      "Dhruvi\n",
      "23\n",
      "4.0\n",
      "5\n",
      "<class 'str'>\n",
      "<class 'float'>\n",
      "r\n",
      "r\n",
      "7\n",
      "Dhruvi\n"
     ]
    }
   ],
   "source": [
    "#Creating Variables\n",
    "x = 4\n",
    "y = 3\n",
    "print(x)\n",
    "print(y)\n",
    "\n",
    "#do not need to be declared with any particular type.\n",
    "x = 23\n",
    "x = \"Dhruvi\"\n",
    "print(x)\n",
    "\n",
    "#Casting\n",
    "x = int(23)\n",
    "y = float(4)\n",
    "z = str(5)\n",
    "print(x)\n",
    "print(y)\n",
    "print(z)\n",
    "\n",
    "#Get the Type\n",
    "x = \"sally\"\n",
    "y = 4.0\n",
    "print(type(x))\n",
    "print(type(y))\n",
    "\n",
    "#Single or Double Quotes\n",
    "x = \"r\"  #double quotes are the same as single quotes:\n",
    "print(x)\n",
    "x = 'r'\n",
    "print(x)\n",
    "\n",
    "#Case-Sensitive\n",
    "x = 7\n",
    "X = \"Dhruvi\"\n",
    "print(x)\n",
    "print(X)\n"
   ]
  },
  {
   "cell_type": "markdown",
   "id": "79d1c256",
   "metadata": {},
   "source": [
    "<b>Variable Names</b>"
   ]
  },
  {
   "cell_type": "markdown",
   "id": "383b13ca",
   "metadata": {},
   "source": [
    "A variable can have a short name(like x and y) or a more descriptive name(age, name, value etc.).\n",
    "\n",
    " * A variable name start with a letter or the underscore character.\n",
    " * A variable name cannot start with a number.\n",
    " * A variable name can only contain alpha-numeric characters and underscores (A-z, 0-9, and _ )."
   ]
  },
  {
   "cell_type": "code",
   "execution_count": 2,
   "id": "0eba6b4e",
   "metadata": {},
   "outputs": [
    {
     "name": "stdout",
     "output_type": "stream",
     "text": [
      "Dhruvi\n",
      "Dhruvi\n",
      "Dhruvi\n"
     ]
    }
   ],
   "source": [
    "#Legal variable names\n",
    "x = 3\n",
    "name = \"Dhruvi\"\n",
    "_name = \"Dhruvi\"\n",
    "name23 = \"Dhruvi\"\n",
    "\n",
    "#Multi Words Variable Names\n",
    "#camel case\n",
    "myVariableName = \"Dhruvi\"  \n",
    "print(myVariableName)\n",
    "\n",
    "#Pascal Case\n",
    "MyVariableName = \"Dhruvi\"\n",
    "print(MyVariableName)\n",
    "\n",
    "#Snake Case\n",
    "my_variable_name = \"Dhruvi\"\n",
    "print(my_variable_name)"
   ]
  },
  {
   "cell_type": "markdown",
   "id": "08a721e0",
   "metadata": {},
   "source": [
    "<b>Assign multiple values</b>"
   ]
  },
  {
   "cell_type": "markdown",
   "id": "1764b78a",
   "metadata": {},
   "source": [
    "* If you have a collection of values in a list, tuple etc. Python allows you to extract the values into variables. This is called unpacking."
   ]
  },
  {
   "cell_type": "code",
   "execution_count": 3,
   "id": "502f989b",
   "metadata": {},
   "outputs": [
    {
     "name": "stdout",
     "output_type": "stream",
     "text": [
      "ram\n",
      "6\n",
      "Orange\n",
      "Orange\n",
      "Orange\n",
      "Orange\n",
      "sita\n",
      "Kavita\n",
      "veda\n"
     ]
    }
   ],
   "source": [
    "#Many Values to Multiple Variables\n",
    "x, y, z = \"ram\", 6, \"Orange\" \n",
    "print(x)                     \n",
    "print(y)\n",
    "print(z)\n",
    "\n",
    "#One Value to Multiple Variables\n",
    "x = y = z = \"Orange\"  \n",
    "print(x)              \n",
    "print(y)\n",
    "print(z)\n",
    "\n",
    "#Unpack a Collection\n",
    "name = [\"sita\", \"Kavita\", \"veda\"]\n",
    "x, y, z = name\n",
    "print(x)\n",
    "print(y)\n",
    "print(z)"
   ]
  },
  {
   "cell_type": "markdown",
   "id": "8206c632",
   "metadata": {},
   "source": [
    "<b>Output variables</b>"
   ]
  },
  {
   "cell_type": "markdown",
   "id": "006cde72",
   "metadata": {},
   "source": [
    "* print() function is often used to output variables.\n",
    "* In the print() function, you output multiple variables, separated by a comma.\n",
    "* use the + operator to output multiple variables"
   ]
  },
  {
   "cell_type": "code",
   "execution_count": 4,
   "id": "692c0098",
   "metadata": {},
   "outputs": [
    {
     "name": "stdout",
     "output_type": "stream",
     "text": [
      "Sankatmochan\n",
      "python is awesome\n",
      "Arambhis prachand\n",
      "10\n",
      "4.3 5 data\n"
     ]
    }
   ],
   "source": [
    "#print() function\n",
    "x = \"Sankatmochan\"  \n",
    "print(x)\n",
    "\n",
    "#output multiple variables, separated by a comma\n",
    "x = \"python\"                  \n",
    "y = \"is\"\n",
    "z = \"awesome\"\n",
    "print(x, y, z)\n",
    "\n",
    "# + operator\n",
    "x = \"Arambh\"   \n",
    "z = \" prachand\"\n",
    "print(x+y+z)\n",
    "\n",
    "#+ character works as a mathematical operator\n",
    "x = 4     \n",
    "y = 6\n",
    "print(x+y)\n",
    "\n",
    "#support different data types\n",
    "x = 4.3\n",
    "y = 5\n",
    "z = \"data\"\n",
    "print(x, y, z)"
   ]
  },
  {
   "cell_type": "markdown",
   "id": "25aa432f",
   "metadata": {},
   "source": [
    "<b>Global variables</b>"
   ]
  },
  {
   "cell_type": "markdown",
   "id": "36506e57",
   "metadata": {},
   "source": [
    "* Variables that are created outside of a function are known as global variables.\n",
    "* Global variables can be used by everyone, both inside of function and outside.\n",
    "* If you create a variable with the same name inside a function, this variable will be local, and can only be used inside the function. \n",
    "* The global variable with the same name will remain as it was, global and with the original value.\n",
    "* To create a global variable inside a function, you can use the global keyword."
   ]
  },
  {
   "cell_type": "code",
   "execution_count": 5,
   "id": "797bf125",
   "metadata": {},
   "outputs": [
    {
     "name": "stdout",
     "output_type": "stream",
     "text": [
      "Sankatmochan Hanuman\n",
      "Python is fantastic \n",
      "python is awesome\n",
      "python is awesome\n",
      "python is fantastic\n"
     ]
    }
   ],
   "source": [
    "#Create a variable outside of a function\n",
    "x = \" Hanuman\"\n",
    "def myfunc():\n",
    "    print(\"Sankatmochan\" + x)\n",
    "myfunc()\n",
    "\n",
    "#Create a variable inside a function\n",
    "x = \"awesome\"\n",
    "def myfunc():\n",
    "    x = \"fantastic \"\n",
    "    print(\"Python is \" + x)\n",
    "myfunc()\n",
    "print(\"python is \" + x)\n",
    "\n",
    "#The global Keyword\n",
    "def myfunc(): \n",
    "    global x\n",
    "    x = \"awesome\"\n",
    "myfunc()\n",
    "print(\"python is \"+ x)\n",
    "\n",
    "#To change the value of a global variable inside a function\n",
    "x = \"awesome\" \n",
    "def myfunc():\n",
    "    global x\n",
    "    x = \"fantastic\"\n",
    "myfunc()\n",
    "print(\"python is \" + x) "
   ]
  },
  {
   "cell_type": "markdown",
   "id": "58ea998c",
   "metadata": {},
   "source": [
    "### Data Types"
   ]
  },
  {
   "cell_type": "markdown",
   "id": "8a2ff25f",
   "metadata": {},
   "source": [
    "* Variables can store data of different types, and different types can do different things."
   ]
  },
  {
   "cell_type": "code",
   "execution_count": 6,
   "id": "f73de563",
   "metadata": {},
   "outputs": [
    {
     "name": "stdout",
     "output_type": "stream",
     "text": [
      "<class 'int'>\n",
      "<class 'float'>\n",
      "<class 'str'>\n",
      "<class 'list'>\n",
      "<class 'tuple'>\n",
      "<class 'bool'>\n",
      "<class 'dict'>\n",
      "<class 'complex'>\n",
      "<class 'range'>\n",
      "<class 'set'>\n",
      "<class 'frozenset'>\n",
      "<class 'bytes'>\n",
      "<class 'NoneType'>\n"
     ]
    }
   ],
   "source": [
    "#different data types\n",
    "x = 4\n",
    "X = 5.0\n",
    "y = \"Hanuman ji\"\n",
    "Y = ['kamala', 'sita', 'shyam']\n",
    "z = ('kamala', 'sita', 'shyam')\n",
    "Z = True\n",
    "a = {'kamala':2, 'sita':8, 'shyam':15}\n",
    "A = 1j\n",
    "b = range(6)\n",
    "B = {'kamala', 'sita', 'shyam'}\n",
    "c = frozenset(['kamala', 'sita', 'shyam'])\n",
    "C = b\"hello\"\n",
    "d = None\n",
    "print(type(x))\n",
    "print(type(X))\n",
    "print(type(y))\n",
    "print(type(Y))\n",
    "print(type(z))\n",
    "print(type(Z))\n",
    "print(type(a))\n",
    "print(type(A))\n",
    "print(type(b))\n",
    "print(type(B))\n",
    "print(type(c))\n",
    "print(type(C))\n",
    "print(type(d))\n"
   ]
  },
  {
   "cell_type": "markdown",
   "id": "770eae99",
   "metadata": {},
   "source": [
    "### Numbers"
   ]
  },
  {
   "cell_type": "markdown",
   "id": "4eb8da73",
   "metadata": {},
   "source": [
    "There are three numeric types in Python:\n",
    "\n",
    "* int\n",
    "* float\n",
    "* complex\n",
    "\n",
    "Variables of numeric types are created when you assign a value to them.\n",
    "Python does not have a random() function to make a random number, but Python has a built-in module called random that can be used to make random numbers.\n"
   ]
  },
  {
   "cell_type": "code",
   "execution_count": 7,
   "id": "0f75e661",
   "metadata": {},
   "outputs": [
    {
     "name": "stdout",
     "output_type": "stream",
     "text": [
      "<class 'int'>\n",
      "<class 'float'>\n",
      "<class 'complex'>\n",
      "4.0\n",
      "4\n",
      "(4+0j)\n",
      "1\n"
     ]
    }
   ],
   "source": [
    "## numeric data types\n",
    "x = 4  \n",
    "y = 4.7\n",
    "z = 2j\n",
    "print(type(x))\n",
    "print(type(y))\n",
    "print(type(z))\n",
    "\n",
    "#Type conversion\n",
    "x = 4  \n",
    "y = 4.7\n",
    "z = 2j\n",
    "\n",
    "#convert from int to float\n",
    "a = float(x)\n",
    "\n",
    "#convert from float to int\n",
    "b = int(y)\n",
    "\n",
    "#convert from int to complex\n",
    "c = complex(x)\n",
    "\n",
    "print(a)\n",
    "print(b)\n",
    "print(c)\n",
    "\n",
    "#Random Numbers\n",
    "import random\n",
    "print(random.randrange(1, 10))\n"
   ]
  },
  {
   "cell_type": "markdown",
   "id": "6b10e196",
   "metadata": {},
   "source": [
    "### Casting"
   ]
  },
  {
   "cell_type": "markdown",
   "id": "7b9845d5",
   "metadata": {},
   "source": [
    "* when you want to specify a type on to a variable. This can be done with casting."
   ]
  },
  {
   "cell_type": "code",
   "execution_count": 8,
   "id": "20184f41",
   "metadata": {},
   "outputs": [
    {
     "name": "stdout",
     "output_type": "stream",
     "text": [
      "7\n",
      "4\n",
      "6\n",
      "2.0\n",
      "5.6\n",
      "22.0\n",
      "1\n",
      "3.4\n",
      "ram\n"
     ]
    }
   ],
   "source": [
    "#int()\n",
    "x =int(7)  \n",
    "y = int(4.5)\n",
    "z = int(\"6\")\n",
    "print(x)\n",
    "print(y)\n",
    "print(z)\n",
    "\n",
    "#floats()\n",
    "x = float(2)     \n",
    "y = float(5.6)\n",
    "z = float(\"22\")\n",
    "print(x)\n",
    "print(y)\n",
    "print(z)\n",
    "\n",
    "#strings()\n",
    "x = str(1)     \n",
    "y = str(3.4)\n",
    "z = str(\"ram\")\n",
    "print(x)\n",
    "print(y)\n",
    "print(z) "
   ]
  },
  {
   "cell_type": "markdown",
   "id": "dc4b3b2e",
   "metadata": {},
   "source": [
    "### Strings"
   ]
  },
  {
   "cell_type": "markdown",
   "id": "a64007b0",
   "metadata": {},
   "source": [
    "* Strings in python are surrounded by either single quotation marks, or double quotation marks.\n",
    "* strings in Python are arrays of bytes representing unicode characters. \n",
    "* Python does not have a character data type, a single character is simply a string with a length of 1. \n",
    "* Square brackets can be used to access elements of the string."
   ]
  },
  {
   "cell_type": "code",
   "execution_count": 9,
   "id": "1d6b2ab9",
   "metadata": {},
   "outputs": [
    {
     "name": "stdout",
     "output_type": "stream",
     "text": [
      "hello\n",
      "Lorem ipsum dolor sit amet,   \n",
      "consectetur adipiscing elit,\n",
      "sed do eiusmod tempor incididunt\n",
      "ut labore et dolore magna aliqua.\n",
      "w\n",
      "O\n",
      "r\n",
      "a\n",
      "n\n",
      "g\n",
      "e\n",
      "12\n",
      "True\n",
      "Yes, Boss is present in txt.\n",
      "True\n",
      "Yes, Boss is not present in txt.\n"
     ]
    }
   ],
   "source": [
    "#Assign String to a Variable\n",
    "x = \"hello\"  \n",
    "print(x)\n",
    "\n",
    "#Multiline Strings\n",
    "x = \"\"\"Lorem ipsum dolor sit amet,   \n",
    "consectetur adipiscing elit,\n",
    "sed do eiusmod tempor incididunt\n",
    "ut labore et dolore magna aliqua.\"\"\"   \n",
    "print(x)\n",
    "\n",
    "#Strings are Arrays\n",
    "# first character has the position 0\n",
    "x = \"hello world!\"  \n",
    "print(x[6])\n",
    "\n",
    "#Looping Through a String\n",
    "for x in \"Orange\":\n",
    "    print(x)\n",
    "\n",
    "#len() function    \n",
    "x = \"hello world!\"  \n",
    "print(len(x)) \n",
    "\n",
    "#keyword in\n",
    "txt = \"Boss lady\"\n",
    "print(\"Boss\" in txt)\n",
    "\n",
    "#with if statement\n",
    "txt = \"Boss lady\"\n",
    "if \"Boss\" in txt:\n",
    "    print(\"Yes, Boss is present in txt.\")\n",
    "    \n",
    "#not in keyword\n",
    "txt = \"Boss lady\"\n",
    "print(\"boss\"  not in txt)\n",
    "\n",
    "#with if statement\n",
    "txt = \"Boss lady\"\n",
    "if \"boss\"  not in txt:\n",
    "    print(\"Yes, Boss is not present in txt.\")"
   ]
  },
  {
   "cell_type": "markdown",
   "id": "7af7d65c",
   "metadata": {},
   "source": [
    "<b>Slicing Strings </b>"
   ]
  },
  {
   "cell_type": "markdown",
   "id": "91072802",
   "metadata": {},
   "source": [
    "* we can return a range of characters by using the slice syntax.\n",
    "* Specify the start index and the end index, separated by a colon, to return a part of the string."
   ]
  },
  {
   "cell_type": "code",
   "execution_count": 10,
   "id": "c7cd7228",
   "metadata": {},
   "outputs": [
    {
     "name": "stdout",
     "output_type": "stream",
     "text": [
      "llo\n",
      "hello\n",
      "hello, world!\n",
      "orl\n"
     ]
    }
   ],
   "source": [
    "#position 2 to position 5 (not included)\n",
    "x = \"hello, world!\"\n",
    "print(x[2:5])\n",
    "\n",
    "#Slice from the Start\n",
    "x = \"hello, world!\"\n",
    "print(x[:5])\n",
    "\n",
    "#Slice To the End\n",
    "x = \"hello, world!\"\n",
    "print(x[0:])\n",
    "\n",
    "#Negative Indexing\n",
    "x = \"hello, world!\"\n",
    "print(x[-5:-2])\n",
    "\n",
    "#Modify Strings\n"
   ]
  },
  {
   "cell_type": "markdown",
   "id": "489f6dee",
   "metadata": {},
   "source": [
    "<b>Modify Strings</b>"
   ]
  },
  {
   "cell_type": "code",
   "execution_count": 11,
   "id": "4d5ae1d2",
   "metadata": {},
   "outputs": [
    {
     "name": "stdout",
     "output_type": "stream",
     "text": [
      "HELLO WORLD\n",
      "hello world\n",
      "hello world\n",
      "World, World!\n",
      "['hello', ' world']\n"
     ]
    }
   ],
   "source": [
    "#upper() methods\n",
    "a = \"hello world\"  \n",
    "print(a.upper())\n",
    "\n",
    "#lower() methods\n",
    "b = \"HELLO WORLD\" \n",
    "print(b.lower())\n",
    "\n",
    "#Remove Whitespace\n",
    "#The strip() method \n",
    "c = \" hello world \"  \n",
    "print(c.strip())     \n",
    "\n",
    "#replace() method \n",
    "x = \"Hello, World!\"   \n",
    "print(x.replace(\"Hello\", \"World\"))\n",
    "\n",
    "#split() method\n",
    "y = \"hello, world\"   \n",
    "print(y.split(\",\"))"
   ]
  },
  {
   "cell_type": "markdown",
   "id": "8baa3f5c",
   "metadata": {},
   "source": [
    "<b>String Concatenation</b>"
   ]
  },
  {
   "cell_type": "markdown",
   "id": "6737419c",
   "metadata": {},
   "source": [
    "* To concatenate, or combine, two strings you can use the + operator"
   ]
  },
  {
   "cell_type": "code",
   "execution_count": 12,
   "id": "02ccd744",
   "metadata": {},
   "outputs": [
    {
     "name": "stdout",
     "output_type": "stream",
     "text": [
      "hello 36\n",
      "Hello World\n"
     ]
    }
   ],
   "source": [
    "#concatenation\n",
    "a = \"hello \" \n",
    "b = \"36\"\n",
    "c = a+b\n",
    "print(c)\n",
    "\n",
    "#To add a space between them, add a \" \"\n",
    "a = \"Hello\"\n",
    "b = \"World\"\n",
    "c = a + \" \" + b\n",
    "print(c)"
   ]
  },
  {
   "cell_type": "markdown",
   "id": "950ad8fa",
   "metadata": {},
   "source": [
    "<b>Format-string<b/>"
   ]
  },
  {
   "cell_type": "code",
   "execution_count": 13,
   "id": "a20523d6",
   "metadata": {},
   "outputs": [
    {
     "name": "stdout",
     "output_type": "stream",
     "text": [
      "My name is peace and I am 36\n",
      "I want 95 percent in 4 standerd.\n",
      "my name is 6 and i am 100\n"
     ]
    }
   ],
   "source": [
    "#format() method\n",
    "x = 36   \n",
    "y = \"My name is peace and I am {}\"\n",
    "print(y.format(x))\n",
    "\n",
    "#format() method with placeholder {}\n",
    "x = 95\n",
    "y = 4\n",
    "txt = \"I want {} percent in {} standerd.\"\n",
    "print(txt.format(x, y))\n",
    "\n",
    "#with index number\n",
    "name = 6\n",
    "age = 100\n",
    "info = \"my name is {0} and i am {1}\"\n",
    "print(info.format(name, age))"
   ]
  },
  {
   "cell_type": "markdown",
   "id": "dacd12d3",
   "metadata": {},
   "source": [
    "<b>Escape Characters</b>"
   ]
  },
  {
   "cell_type": "code",
   "execution_count": 14,
   "id": "755066fb",
   "metadata": {},
   "outputs": [
    {
     "name": "stdout",
     "output_type": "stream",
     "text": [
      "We are the so-called \"Vikings\" from the north.\n"
     ]
    }
   ],
   "source": [
    "txt = \"We are the so-called \\\"Vikings\\\" from the north.\"\n",
    "print(txt)"
   ]
  },
  {
   "cell_type": "markdown",
   "id": "99ad51ef",
   "metadata": {},
   "source": [
    "### Booleans"
   ]
  },
  {
   "cell_type": "markdown",
   "id": "4537799a",
   "metadata": {},
   "source": [
    "* Booleans represent one of two values: True or False."
   ]
  },
  {
   "cell_type": "code",
   "execution_count": 15,
   "id": "10b70e03",
   "metadata": {},
   "outputs": [
    {
     "name": "stdout",
     "output_type": "stream",
     "text": [
      "True\n",
      "False\n",
      "False\n",
      "True\n",
      "x is less than y\n",
      "False\n",
      "True\n",
      "False\n",
      "True\n",
      "Yes\n",
      "True\n"
     ]
    }
   ],
   "source": [
    "#boolean expression\n",
    "print(4>3)\n",
    "print(6>10)\n",
    "print(8==4)\n",
    "print(5<6)\n",
    "\n",
    "#based on whether the condition is True or False\n",
    "x = 100\n",
    "y = 200\n",
    "if x<y:\n",
    "    print(\"x is less than y\")\n",
    "else:\n",
    "    print(\"x is greater than y\")\n",
    "    \n",
    "#Evaluate Values and Variables\n",
    "#bool() function\n",
    "print(bool(0))\n",
    "print(bool(\"hello\"))\n",
    "\n",
    "#Most Values are True\n",
    "#if it has some sort of content.\n",
    "#Any string is True, except empty strings.\n",
    "#Any number is True, except 0.\n",
    "#list,tuple,set, and dictionary are True, except empty ones\n",
    "bool(\"abc\")\n",
    "bool(123)\n",
    "bool([\"apple\", \"cherry\", \"banana\"])\n",
    "\n",
    "#Some Values are False\n",
    "bool(False)\n",
    "bool(None)\n",
    "bool(0)\n",
    "bool(\"\")\n",
    "bool(())\n",
    "bool([])\n",
    "bool({})\n",
    "\n",
    "#__len__ function with return 0 gives false\n",
    "class myclass():       \n",
    " def __len__(self):\n",
    "    return 0\n",
    "\n",
    "myobj = myclass()\n",
    "print(bool(myobj)) \n",
    "\n",
    "#Functions can Return a Boolean\n",
    "def myfnc():\n",
    "    return True\n",
    "print(myfnc())\n",
    "\n",
    "def myclss():\n",
    "    return True\n",
    "\n",
    "if myclss():\n",
    "    print(\"Yes\")\n",
    "    \n",
    "else:\n",
    "    print(\"No\")\n",
    "    \n",
    "#isinstance() function    \n",
    "x = 200   \n",
    "print(isinstance(x, int))"
   ]
  },
  {
   "cell_type": "markdown",
   "id": "b9ff767a",
   "metadata": {},
   "source": [
    "### List"
   ]
  },
  {
   "cell_type": "markdown",
   "id": "52b6b85c",
   "metadata": {},
   "source": [
    "* Lists are used to store multiple items in a single variable.\n",
    "* Lists are created using square brackets.\n",
    "* List items are ordered, changeable, and allow duplicate values.\n",
    "* List items are indexed, the first item has index [0], the second item has index [1]\n",
    "* "
   ]
  },
  {
   "cell_type": "code",
   "execution_count": 16,
   "id": "09986017",
   "metadata": {},
   "outputs": [
    {
     "name": "stdout",
     "output_type": "stream",
     "text": [
      "['apple', 'banana', 'orange']\n",
      "['apple', 'banana', 'cherry', 'apple', 'cherry']\n",
      "3\n",
      "<class 'list'>\n",
      "['apple', 'banana', 'cherry']\n"
     ]
    }
   ],
   "source": [
    "#Create a List\n",
    "mylist = ['apple', 'banana', 'orange']\n",
    "print(mylist)\n",
    "\n",
    "#allow duplicate values\n",
    "thislist = [\"apple\", \"banana\", \"cherry\", \"apple\", \"cherry\"]\n",
    "print(thislist)\n",
    "\n",
    "#len() function\n",
    "thislist = [\"apple\", \"banana\", \"cherry\"]\n",
    "print(len(thislist))\n",
    "\n",
    "#List items can be of any data type\n",
    "list1 = [\"apple\", \"banana\", \"cherry\"]\n",
    "list2 = [1, 5, 7, 9, 3]\n",
    "list3 = [True, False, False]\n",
    "\n",
    "#A list can contain different data types\n",
    "list1 = [\"abc\", 34, True, 40, \"male\"]\n",
    "\n",
    "#type() function\n",
    "mylist = [\"apple\", \"banana\", \"cherry\"]\n",
    "print(type(mylist))\n",
    "\n",
    "#The list() Constructor\n",
    "thislist = list((\"apple\", \"banana\", \"cherry\"))\n",
    "print(thislist)\n",
    "\n"
   ]
  },
  {
   "cell_type": "markdown",
   "id": "468cabf4",
   "metadata": {},
   "source": [
    "<b>Access List Items</b>"
   ]
  },
  {
   "cell_type": "markdown",
   "id": "81784593",
   "metadata": {},
   "source": [
    "* List items are indexed and you can access them by referring to the index number"
   ]
  },
  {
   "cell_type": "code",
   "execution_count": 17,
   "id": "e55ebcd5",
   "metadata": {},
   "outputs": [
    {
     "name": "stdout",
     "output_type": "stream",
     "text": [
      "bata\n",
      "bata\n",
      "['creata']\n",
      "['creata', 'krma']\n",
      "Yes, karma is in mylist\n"
     ]
    }
   ],
   "source": [
    "#Access Items\n",
    "x = ['data', 'bata', 'creata', 'krma','bata']\n",
    "print(x[1])\n",
    "\n",
    "#Negative Indexing\n",
    "y = ['data', 'bata', 'creata', 'krma','bata']\n",
    "print(y[-1])\n",
    "\n",
    "#Range of Indexes\n",
    "z = ['data', 'bata', 'creata', 'krma'] \n",
    "print(z[2:3])\n",
    "\n",
    "#Range of Negative Indexes\n",
    "a = ['data', 'bata', 'creata', 'krma','bata']\n",
    "print(a[-3:-1])\n",
    "\n",
    "#Check if Item Exists\n",
    "mylist = ['data', 'bata', 'creata', 'krma','bata']\n",
    "if \"krma\" in mylist:      \n",
    "    print(\"Yes, karma is in mylist\")"
   ]
  },
  {
   "cell_type": "markdown",
   "id": "d2c1afeb",
   "metadata": {},
   "source": [
    "<b>Change List Items</b>"
   ]
  },
  {
   "cell_type": "markdown",
   "id": "312a6385",
   "metadata": {},
   "source": [
    "* To change the value of a specific item, refer to the index number"
   ]
  },
  {
   "cell_type": "code",
   "execution_count": 18,
   "id": "da9a7720",
   "metadata": {},
   "outputs": [
    {
     "name": "stdout",
     "output_type": "stream",
     "text": [
      "['apple', 'blackcurrant', 'cherry']\n",
      "['apple', 'blackcurrant', 'watermelon', 'orange']\n",
      "['data', 'bata', 'goodluck', 'creata']\n"
     ]
    }
   ],
   "source": [
    "#Change the second item\n",
    "thislist = [\"apple\", \"banana\", \"cherry\"]\n",
    "thislist[1] = \"blackcurrant\"\n",
    "print(thislist)\n",
    "\n",
    "#Change a Range of Item Values\n",
    "thislist = [\"apple\", \"banana\", \"cherry\", \"orange\"]\n",
    "thislist[1:3] = [\"blackcurrant\", \"watermelon\"]\n",
    "print(thislist)\n",
    "\n",
    "#insert() function\n",
    "x = ['data', 'bata', 'creata',] \n",
    "x.insert(2, \"goodluck\")\n",
    "print(x)"
   ]
  },
  {
   "cell_type": "markdown",
   "id": "1baa35d0",
   "metadata": {},
   "source": [
    "<b>Add List Items</b>"
   ]
  },
  {
   "cell_type": "code",
   "execution_count": 19,
   "id": "f3c49952",
   "metadata": {},
   "outputs": [
    {
     "name": "stdout",
     "output_type": "stream",
     "text": [
      "['data', 'bata', 'creata', 'goodluck']\n",
      "['data', 'goodluck', 'bata', 'creata']\n",
      "['data', 'bata', 'creata', 'apple', 'banana', 'cherry']\n",
      "['data', 'bata', 'creata', 'apple', 'banana', 'cherry']\n"
     ]
    }
   ],
   "source": [
    "#append() function\n",
    "x = ['data', 'bata', 'creata',] \n",
    "x.append(\"goodluck\")\n",
    "print(x)\n",
    "\n",
    "#insert() function\n",
    "x = ['data', 'bata', 'creata',] \n",
    "x.insert(1, \"goodluck\")\n",
    "print(x)\n",
    "\n",
    "#extend() function\n",
    "x = ['data', 'bata', 'creata',] \n",
    "y = [\"apple\", \"banana\", \"cherry\"]\n",
    "x.extend(y)\n",
    "print(x)\n",
    "\n",
    "#Add Any Iterable\n",
    "list = ['data', 'bata', 'creata',] \n",
    "tuple = (\"apple\", \"banana\", \"cherry\")\n",
    "list.extend(tuple)\n",
    "print(x)"
   ]
  },
  {
   "cell_type": "markdown",
   "id": "7494300b",
   "metadata": {},
   "source": [
    " <b>Remove list items</b>"
   ]
  },
  {
   "cell_type": "code",
   "execution_count": 20,
   "id": "b7df5fe4",
   "metadata": {},
   "outputs": [
    {
     "name": "stdout",
     "output_type": "stream",
     "text": [
      "['banana', 'orange', 'kiwi']\n",
      "['apple']\n",
      "['banana', 'cherry']\n",
      "[]\n"
     ]
    }
   ],
   "source": [
    "#remove() method\n",
    "mylist = ['apple', 'banana', 'orange', 'kiwi']\n",
    "mylist.remove('apple') \n",
    "print(mylist)\n",
    "\n",
    "#pop() method\n",
    "thislist = [\"apple\", \"banana\", \"cherry\"]\n",
    "thislist.pop(1)\n",
    "thislist.pop()\n",
    "print(thislist)\n",
    "\n",
    "#del keyword\n",
    "thislist = [\"apple\", \"banana\", \"cherry\"]\n",
    "del thislist[0]\n",
    "print(thislist)\n",
    "\n",
    "#Delete the entire list\n",
    "thislist = [\"apple\", \"banana\", \"cherry\"]\n",
    "del thislist\n",
    "\n",
    "#clear() method\n",
    "x = ['apple', 'banana', 'orange', 'kiwi']\n",
    "x.clear()   \n",
    "print(x)"
   ]
  },
  {
   "cell_type": "markdown",
   "id": "6d5b89a4",
   "metadata": {},
   "source": [
    "<b>Loop lists</b>"
   ]
  },
  {
   "cell_type": "code",
   "execution_count": 21,
   "id": "e4a61f74",
   "metadata": {},
   "outputs": [
    {
     "name": "stdout",
     "output_type": "stream",
     "text": [
      "['apple', 'banana', 'orange', 'kiwi']\n",
      "apple\n",
      "banana\n",
      "orange\n",
      "apple\n",
      "banana\n",
      "orange\n",
      "apple\n",
      "banana\n",
      "cherry\n"
     ]
    },
    {
     "data": {
      "text/plain": [
       "[None, None, None]"
      ]
     },
     "execution_count": 21,
     "metadata": {},
     "output_type": "execute_result"
    }
   ],
   "source": [
    "#Loop Through a List by using a for loop\n",
    "mylist = ['apple', 'banana', 'orange', 'kiwi']\n",
    "for x in mylist:    \n",
    "    print(mylist)\n",
    "    break\n",
    " \n",
    " #Loop Through the Index Numbers\n",
    "mylist = ['apple', 'banana', 'orange']    \n",
    "for x in range(len(mylist)):\n",
    "    print(mylist[x])\n",
    "\n",
    "# Using a While Loop\n",
    "mylist = ['apple', 'banana', 'orange']\n",
    "i = 0\n",
    "while i < len(mylist):\n",
    "    print(mylist[i])\n",
    "    i = i+1\n",
    "    \n",
    "#Looping Using List Comprehension \n",
    "thislist = [\"apple\", \"banana\", \"cherry\"]\n",
    "[print(x) for x in thislist]"
   ]
  },
  {
   "cell_type": "markdown",
   "id": "f2bf8f53",
   "metadata": {},
   "source": [
    "<b>List Comprehension</b>"
   ]
  },
  {
   "cell_type": "markdown",
   "id": "228626d0",
   "metadata": {},
   "source": [
    "* List comprehension offers a shorter syntax when you want to create a new list based on the values of an existing list.\n",
    "* The syntax :\n",
    "* newlist = [expression for item in iterable if condition == True]\n"
   ]
  },
  {
   "cell_type": "code",
   "execution_count": 54,
   "id": "036350e3",
   "metadata": {},
   "outputs": [
    {
     "name": "stdout",
     "output_type": "stream",
     "text": [
      "['banana', 'orange']\n",
      "['apple', 'banana', 'orange']\n",
      "['banana', 'orange', 'kiwi']\n",
      "[0, 1, 2, 3, 4]\n",
      "['apple', 'orange', 'orange', 'kiwi']\n"
     ]
    }
   ],
   "source": [
    "#without list comprehension\n",
    "mylist = ['apple', 'banana', 'orange', 'kiwi']\n",
    "newlist = []\n",
    "for x in mylist:\n",
    "    if \"n\" in x:\n",
    "        newlist.append(x)\n",
    "print(newlist)          \n",
    "\n",
    "#With list comprehension \n",
    "mylist = ['apple', 'banana', 'orange', 'kiwi']\n",
    "newlist = [x for x in mylist if \"a\" in x]\n",
    "print(newlist)\n",
    "\n",
    "#condition\n",
    "mylist = ['apple', 'banana', 'orange', 'kiwi']\n",
    "newlist = [x for x in mylist if x != \"apple\"]\n",
    "print(newlist)\n",
    "\n",
    "#iterable\n",
    "mylist = ['apple', 'banana', 'orange', 'kiwi']\n",
    "newlist = [x for x in range(10)]\n",
    "newlist = [x for x in range(10) if x<5]\n",
    "print(newlist)\n",
    "\n",
    "#Expression\n",
    "newlist = [x.upper() for x in mylist]\n",
    "newlist = [\"hello\" for x in mylist]\n",
    "newlist = [x if x != \"banana\" else \"orange\" for x in mylist]\n",
    "print(newlist)"
   ]
  },
  {
   "cell_type": "markdown",
   "id": "ec6f8a9c",
   "metadata": {},
   "source": [
    "<b>Sort List</b>"
   ]
  },
  {
   "cell_type": "markdown",
   "id": "d3f8f2e0",
   "metadata": {},
   "source": [
    "* List objects have a sort() method that will sort the list alphanumerically, ascending, by default."
   ]
  },
  {
   "cell_type": "code",
   "execution_count": 53,
   "id": "91235313",
   "metadata": {},
   "outputs": [
    {
     "name": "stdout",
     "output_type": "stream",
     "text": [
      "['apple', 'banana', 'kiwi', 'orange']\n",
      "[-2, 24, 32, 44, 400]\n",
      "['orange', 'kiwi', 'banana', 'apple']\n",
      "[400, 44, 32, 24, -2]\n",
      "[50, 65, 23, 82, 100]\n",
      "['apple', 'Banana', 'kiwi', 'orange']\n",
      "['kiwi', 'orange', 'Banana', 'apple']\n"
     ]
    }
   ],
   "source": [
    "#Sort the list alphabetically\n",
    "x = ['apple', 'banana', 'orange', 'kiwi']\n",
    "x.sort()\n",
    "print(x)\n",
    "\n",
    "#Sort the list numerically\n",
    "x = [32, 44, 400, 24, -2]\n",
    "x.sort()\n",
    "print(x)\n",
    "\n",
    "#Sort descending\n",
    "#reverse = True\n",
    "x = ['apple', 'banana', 'orange', 'kiwi']\n",
    "x.sort(reverse = True)   \n",
    "print(x)\n",
    "\n",
    "x = [32, 44, 400, 24, -2]\n",
    "x.sort(reverse = True)\n",
    "print(x)\n",
    "\n",
    "#Customize Sort Function\n",
    "#key = function\n",
    "def myfunc(n):\n",
    "  return abs(n - 50)\n",
    "\n",
    "thislist = [100, 50, 65, 82, 23]\n",
    "thislist.sort(key = myfunc)\n",
    "print(thislist)\n",
    "\n",
    "#Case Insensitive Sort\n",
    "#sort() function\n",
    "x = ['apple', 'Banana', 'orange', 'kiwi']\n",
    "x.sort(key = str.lower)  #str.lower as a key function\n",
    "print(x)\n",
    "\n",
    "#Reverse Order\n",
    "#reverse() method\n",
    "x = ['apple', 'Banana', 'orange', 'kiwi']\n",
    "x.reverse()  \n",
    "print(x)\n"
   ]
  },
  {
   "cell_type": "markdown",
   "id": "9c32d286",
   "metadata": {},
   "source": [
    "<b>Copy lists</b>"
   ]
  },
  {
   "cell_type": "code",
   "execution_count": 52,
   "id": "b4dc3732",
   "metadata": {
    "scrolled": true
   },
   "outputs": [
    {
     "name": "stdout",
     "output_type": "stream",
     "text": [
      "['apple', 'Banana', 'orange', 'kiwi']\n"
     ]
    },
    {
     "ename": "TypeError",
     "evalue": "'list' object is not callable",
     "output_type": "error",
     "traceback": [
      "\u001b[1;31m---------------------------------------------------------------------------\u001b[0m",
      "\u001b[1;31mTypeError\u001b[0m                                 Traceback (most recent call last)",
      "Input \u001b[1;32mIn [52]\u001b[0m, in \u001b[0;36m<cell line: 8>\u001b[1;34m()\u001b[0m\n\u001b[0;32m      6\u001b[0m \u001b[38;5;66;03m#built-in method list()\u001b[39;00m\n\u001b[0;32m      7\u001b[0m thislist \u001b[38;5;241m=\u001b[39m [\u001b[38;5;124m\"\u001b[39m\u001b[38;5;124mapple\u001b[39m\u001b[38;5;124m\"\u001b[39m, \u001b[38;5;124m\"\u001b[39m\u001b[38;5;124mbanana\u001b[39m\u001b[38;5;124m\"\u001b[39m, \u001b[38;5;124m\"\u001b[39m\u001b[38;5;124mcherry\u001b[39m\u001b[38;5;124m\"\u001b[39m]\n\u001b[1;32m----> 8\u001b[0m mylist \u001b[38;5;241m=\u001b[39m \u001b[38;5;28;43mlist\u001b[39;49m\u001b[43m(\u001b[49m\u001b[43mthislist\u001b[49m\u001b[43m)\u001b[49m\n\u001b[0;32m      9\u001b[0m \u001b[38;5;28mprint\u001b[39m(mylist)\n",
      "\u001b[1;31mTypeError\u001b[0m: 'list' object is not callable"
     ]
    }
   ],
   "source": [
    "#copy() method\n",
    "mylist = ['apple', 'Banana', 'orange', 'kiwi']\n",
    "newlist = mylist.copy()\n",
    "print(newlist)\n",
    "\n",
    "#built-in method list()\n",
    "thislist = [\"apple\", \"banana\", \"cherry\"]\n",
    "mylist = list(thislist)\n",
    "print(mylist)"
   ]
  },
  {
   "cell_type": "markdown",
   "id": "c31055ac",
   "metadata": {},
   "source": [
    "<b>Join lists</b>"
   ]
  },
  {
   "cell_type": "code",
   "execution_count": 51,
   "id": "41475921",
   "metadata": {},
   "outputs": [
    {
     "name": "stdout",
     "output_type": "stream",
     "text": [
      "['apple', 'Banana', 'orange', 'kiwi', 1, 3, 45, 6, 80]\n",
      "['apple', 'Banana', 'orange', 'kiwi', 1, 3, 45, 6, 80]\n",
      "['apple', 'Banana', 'orange', 'kiwi', 1, 3, 45, 6, 80]\n"
     ]
    }
   ],
   "source": [
    "#Join Two Lists\n",
    "list1 = ['apple', 'Banana', 'orange', 'kiwi']\n",
    "list2 = [1, 3, 45, 6, 80]\n",
    "list3 = list1+list2\n",
    "print(list3)\n",
    "\n",
    "#Another way to join two lists \n",
    "list1 = ['apple', 'Banana', 'orange', 'kiwi']\n",
    "list2 = [1, 3, 45, 6, 80]\n",
    "for x in list2:\n",
    "    list1.append(x)\n",
    "print(list1)  \n",
    "\n",
    "#With extend() methods\n",
    "list1 = ['apple', 'Banana', 'orange', 'kiwi']\n",
    "list2 = [1, 3, 45, 6, 80]\n",
    "list1.extend(list2)\n",
    "print(list1)"
   ]
  },
  {
   "cell_type": "markdown",
   "id": "6f0ed172",
   "metadata": {},
   "source": [
    "### Tuple"
   ]
  },
  {
   "cell_type": "markdown",
   "id": "1b8bae4f",
   "metadata": {},
   "source": [
    "* Tuples are used to store multiple items in a single variable.\n",
    "\n",
    "* Tuple is one of 4 built-in data types in Python used to store collections of data, the other 3 are List, Set, and Dictionary, all with different qualities and usage.\n",
    "\n",
    "* A tuple is a collection which is ordered, unchangeable and allow duplicate values.\n",
    "\n",
    "* Tuples are written with round brackets.\n",
    "* Tuple items are indexed, the first item has index [0], the second item has index [1]"
   ]
  },
  {
   "cell_type": "code",
   "execution_count": 50,
   "id": "3ab6b89a",
   "metadata": {
    "scrolled": true
   },
   "outputs": [
    {
     "name": "stdout",
     "output_type": "stream",
     "text": [
      "('apple', 'Banana', 'orange', 'kiwi')\n",
      "('apple', 'Banana', 'orange', 'kiwi', 'orange')\n",
      "5\n",
      "<class 'tuple'>\n",
      "('abc', 34, True, 40, 'male')\n",
      "<class 'tuple'>\n"
     ]
    },
    {
     "ename": "TypeError",
     "evalue": "'tuple' object is not callable",
     "output_type": "error",
     "traceback": [
      "\u001b[1;31m---------------------------------------------------------------------------\u001b[0m",
      "\u001b[1;31mTypeError\u001b[0m                                 Traceback (most recent call last)",
      "Input \u001b[1;32mIn [50]\u001b[0m, in \u001b[0;36m<cell line: 31>\u001b[1;34m()\u001b[0m\n\u001b[0;32m     28\u001b[0m \u001b[38;5;28mprint\u001b[39m(\u001b[38;5;28mtype\u001b[39m(mytuple))\n\u001b[0;32m     30\u001b[0m \u001b[38;5;66;03m#The tuple() Constructor\u001b[39;00m\n\u001b[1;32m---> 31\u001b[0m thistuple \u001b[38;5;241m=\u001b[39m \u001b[38;5;28;43mtuple\u001b[39;49m\u001b[43m(\u001b[49m\u001b[43m(\u001b[49m\u001b[38;5;124;43m\"\u001b[39;49m\u001b[38;5;124;43mapple\u001b[39;49m\u001b[38;5;124;43m\"\u001b[39;49m\u001b[43m,\u001b[49m\u001b[43m \u001b[49m\u001b[38;5;124;43m\"\u001b[39;49m\u001b[38;5;124;43mbanana\u001b[39;49m\u001b[38;5;124;43m\"\u001b[39;49m\u001b[43m,\u001b[49m\u001b[43m \u001b[49m\u001b[38;5;124;43m\"\u001b[39;49m\u001b[38;5;124;43mcherry\u001b[39;49m\u001b[38;5;124;43m\"\u001b[39;49m\u001b[43m)\u001b[49m\u001b[43m)\u001b[49m\n\u001b[0;32m     32\u001b[0m \u001b[38;5;28mprint\u001b[39m(thistuple)\n",
      "\u001b[1;31mTypeError\u001b[0m: 'tuple' object is not callable"
     ]
    }
   ],
   "source": [
    "#Create a tuple\n",
    "thistuple = ('apple', 'Banana', 'orange', 'kiwi')\n",
    "print(thistuple)\n",
    "\n",
    "#Allow Duplicates\n",
    "thistuple = ('apple', 'Banana', 'orange', 'kiwi', 'orange')\n",
    "print(thistuple)\n",
    "\n",
    "#Tuple length\n",
    "thistuple = ('apple', 'Banana', 'orange', 'kiwi', 'orange')\n",
    "print(len(thistuple))\n",
    "\n",
    "#Create Tuple With One Item\n",
    "thistuple = ('apple',)\n",
    "print(type(thistuple))\n",
    "\n",
    "#Tuple Items - Data Types\n",
    "tuple1 = (\"apple\", \"banana\", \"cherry\")\n",
    "tuple2 = (1, 5, 7, 9, 3)\n",
    "tuple3 = (True, False, False)\n",
    "\n",
    "#A tuple can contain different data types\n",
    "tuple1 = (\"abc\", 34, True, 40, \"male\")\n",
    "print(tuple1)\n",
    "\n",
    "#type() function\n",
    "mytuple = (\"apple\", \"banana\", \"cherry\")\n",
    "print(type(mytuple))\n",
    "\n",
    "#The tuple() Constructor\n",
    "thistuple = tuple((\"apple\", \"banana\", \"cherry\"))\n",
    "print(thistuple)"
   ]
  },
  {
   "cell_type": "markdown",
   "id": "68d8f3fe",
   "metadata": {},
   "source": [
    "<b>Access tuple items</b>"
   ]
  },
  {
   "cell_type": "markdown",
   "id": "fb2d28ee",
   "metadata": {},
   "source": [
    "* You can access tuple items by referring to the index number, inside square brackets."
   ]
  },
  {
   "cell_type": "code",
   "execution_count": 49,
   "id": "5ceb8890",
   "metadata": {
    "scrolled": true
   },
   "outputs": [
    {
     "name": "stdout",
     "output_type": "stream",
     "text": [
      "banana\n",
      "apple\n",
      "('banana', 'cherry')\n",
      "('apple', 'banana')\n",
      "yes, banana in tuple1\n"
     ]
    }
   ],
   "source": [
    "#Access items\n",
    "tuple1 = (\"apple\", \"banana\", \"cherry\")\n",
    "print(tuple[1])\n",
    "\n",
    "#Negative Indexing\n",
    "tuple1 = (\"apple\", \"banana\", \"cherry\")\n",
    "print(tuple[-3])\n",
    "\n",
    "#Range of Indexes\n",
    "tuple1 = (\"apple\", \"banana\", \"cherry\")\n",
    "print(tuple[1:3])\n",
    "\n",
    "#Range of Negative Indexes\n",
    "tuple1 = (\"apple\", \"banana\", \"cherry\", \"kiwi\")\n",
    "print(tuple[-3:-1])\n",
    "\n",
    "#Check if Item Exists\n",
    "tuple1 = (\"apple\", \"banana\", \"cherry\", \"kiwi\")\n",
    "if \"banana\" in tuple1:\n",
    "    print(\"yes, banana in tuple1\")\n"
   ]
  },
  {
   "cell_type": "markdown",
   "id": "43e96d77",
   "metadata": {},
   "source": [
    "<b>Update Tuple<b/>"
   ]
  },
  {
   "cell_type": "markdown",
   "id": "e52f5fd8",
   "metadata": {},
   "source": [
    "* Once a tuple is created, you cannot change its values. Tuples are unchangeable, or immutable as it also is called.\n",
    "\n",
    "* But there is a workaround. You can convert the tuple into a list, change the list, and convert the list back into a tuple."
   ]
  },
  {
   "cell_type": "code",
   "execution_count": 48,
   "id": "b6e87605",
   "metadata": {},
   "outputs": [
    {
     "ename": "TypeError",
     "evalue": "'list' object is not callable",
     "output_type": "error",
     "traceback": [
      "\u001b[1;31m---------------------------------------------------------------------------\u001b[0m",
      "\u001b[1;31mTypeError\u001b[0m                                 Traceback (most recent call last)",
      "Input \u001b[1;32mIn [48]\u001b[0m, in \u001b[0;36m<cell line: 3>\u001b[1;34m()\u001b[0m\n\u001b[0;32m      1\u001b[0m \u001b[38;5;66;03m#Change Tuple Values\u001b[39;00m\n\u001b[0;32m      2\u001b[0m x \u001b[38;5;241m=\u001b[39m (\u001b[38;5;124m\"\u001b[39m\u001b[38;5;124mapple\u001b[39m\u001b[38;5;124m\"\u001b[39m, \u001b[38;5;124m\"\u001b[39m\u001b[38;5;124mbanana\u001b[39m\u001b[38;5;124m\"\u001b[39m, \u001b[38;5;124m\"\u001b[39m\u001b[38;5;124mcherry\u001b[39m\u001b[38;5;124m\"\u001b[39m)\n\u001b[1;32m----> 3\u001b[0m y \u001b[38;5;241m=\u001b[39m \u001b[38;5;28;43mlist\u001b[39;49m\u001b[43m(\u001b[49m\u001b[43mx\u001b[49m\u001b[43m)\u001b[49m\n\u001b[0;32m      4\u001b[0m y[\u001b[38;5;241m2\u001b[39m] \u001b[38;5;241m=\u001b[39m \u001b[38;5;124m\"\u001b[39m\u001b[38;5;124morange\u001b[39m\u001b[38;5;124m\"\u001b[39m\n\u001b[0;32m      5\u001b[0m x \u001b[38;5;241m=\u001b[39m \u001b[38;5;28mtuple\u001b[39m(y)\n",
      "\u001b[1;31mTypeError\u001b[0m: 'list' object is not callable"
     ]
    }
   ],
   "source": [
    "#Change Tuple Values\n",
    "x = (\"apple\", \"banana\", \"cherry\")\n",
    "y = list(x)\n",
    "y[2] = \"orange\"\n",
    "x = tuple(y)\n",
    "print(x)\n",
    "\n",
    "#Add Items\n",
    "x = (\"apple\", \"banana\", \"cherry\")\n",
    "y = list(x)\n",
    "y.append(\"orange\")\n",
    "x = tuple(y)\n",
    "print(x)\n",
    "\n",
    "#Add tuple to a tuple \n",
    "x = (\"apple\", \"banana\", \"cherry\")\n",
    "y = (\"orange\", \"kiwi\")\n",
    "x += y\n",
    "print(x)\n",
    "\n",
    "#Remove Items\n",
    "x = (\"apple\", \"banana\", \"cherry\")\n",
    "y = list(x)\n",
    "y.remove(\"banana\")\n",
    "x = tuple(y)\n",
    "print(x)\n"
   ]
  },
  {
   "cell_type": "markdown",
   "id": "c0d4bf38",
   "metadata": {},
   "source": [
    "<b>Unpack Tuples</b>"
   ]
  },
  {
   "cell_type": "markdown",
   "id": "46ae12ea",
   "metadata": {},
   "source": [
    "* When we create a tuple, we normally assign values to it. This is called \"packing\" a tuple but in Python, we are also allowed to extract the values back into variables. This is called \"unpacking\""
   ]
  },
  {
   "cell_type": "code",
   "execution_count": 46,
   "id": "165096ce",
   "metadata": {
    "scrolled": false
   },
   "outputs": [
    {
     "name": "stdout",
     "output_type": "stream",
     "text": [
      "apple\n",
      "banana\n",
      "cherry\n",
      "apple\n",
      "['banana', 'cherry']\n",
      "apple\n",
      "['banana', 'cherry']\n",
      "orange\n"
     ]
    }
   ],
   "source": [
    "#Packing a tuple\n",
    "x = (\"apple\", \"banana\", \"cherry\")\n",
    "\n",
    "#Unpacking a tuple\n",
    "x = (\"apple\", \"banana\", \"cherry\")\n",
    "(red, white, green) = x\n",
    "print(red)\n",
    "print(white)\n",
    "print(green)\n",
    "\n",
    "#Using Asterisk*\n",
    "x = (\"apple\", \"banana\", \"cherry\")\n",
    "(red, *white) = x\n",
    "print(red)\n",
    "print(white)\n",
    "\n",
    "x = (\"apple\", \"banana\", \"cherry\", \"orange\")\n",
    "(red, *white, green) = x\n",
    "print(red)\n",
    "print(white)\n",
    "print(green)"
   ]
  },
  {
   "cell_type": "markdown",
   "id": "393a848a",
   "metadata": {},
   "source": [
    "<b>Loop Tuples</b>"
   ]
  },
  {
   "cell_type": "code",
   "execution_count": 45,
   "id": "64360b12",
   "metadata": {},
   "outputs": [
    {
     "name": "stdout",
     "output_type": "stream",
     "text": [
      "apple\n",
      "banana\n",
      "cherry\n",
      "apple\n",
      "banana\n",
      "cherry\n",
      "apple\n",
      "banana\n",
      "cherry\n"
     ]
    }
   ],
   "source": [
    "#Loop Through a Tuple\n",
    "thistuple = (\"apple\", \"banana\", \"cherry\")\n",
    "for x in thistuple:\n",
    "  print(x)\n",
    "\n",
    "#Loop Through the Index Numbers\n",
    "thistuple = (\"apple\", \"banana\", \"cherry\")\n",
    "for x in range(len(thistuple)):\n",
    "  print(thistuple[x])\n",
    "\n",
    "#Using a While Loop\n",
    "thistuple = (\"apple\", \"banana\", \"cherry\")\n",
    "i = 0\n",
    "while i<len(thistuple):\n",
    "    print(thistuple[i])\n",
    "    i = i+1"
   ]
  },
  {
   "cell_type": "markdown",
   "id": "6d0447be",
   "metadata": {},
   "source": [
    "<b>Join Tuples</b>"
   ]
  },
  {
   "cell_type": "code",
   "execution_count": 44,
   "id": "80d079e3",
   "metadata": {},
   "outputs": [
    {
     "name": "stdout",
     "output_type": "stream",
     "text": [
      "('apple', 'banana', 'cherry', 1, 2, 3)\n",
      "('apple', 'banana', 'cherry', 'apple', 'banana', 'cherry', 'apple', 'banana', 'cherry', 'apple', 'banana', 'cherry')\n"
     ]
    }
   ],
   "source": [
    "#Join Tuples   \n",
    "x = (\"apple\", \"banana\", \"cherry\")\n",
    "y = (1, 2, 3)\n",
    "z = x+y\n",
    "print(z)\n",
    "\n",
    "#Multiply Tuples\n",
    "x = (\"apple\", \"banana\", \"cherry\")\n",
    "y = x*4\n",
    "print(y)"
   ]
  },
  {
   "cell_type": "markdown",
   "id": "4920d101",
   "metadata": {},
   "source": [
    "### Sets"
   ]
  },
  {
   "cell_type": "markdown",
   "id": "44283554",
   "metadata": {},
   "source": [
    "* Sets are used to store multiple items in a single variable.\n",
    "* A set is a collection which is unordered, unchangeable*, and unindexed and do not allow duplicate values.\n",
    "* Set items are unchangeable, but you can remove items and add new items.\n",
    "* Sets are written with curly brackets.\n",
    "* Sets are unordered, so you cannot be sure in which order the items will appear."
   ]
  },
  {
   "cell_type": "code",
   "execution_count": 43,
   "id": "ebefa3d4",
   "metadata": {},
   "outputs": [
    {
     "name": "stdout",
     "output_type": "stream",
     "text": [
      "{'papaya', 'apple', 'banana', 'kiwi'}\n",
      "{'papaya', 'apple', 'banana', 'kiwi'}\n",
      "4\n",
      "<class 'set'>\n",
      "{'papaya', 'apple', 'banana', 'kiwi'}\n"
     ]
    }
   ],
   "source": [
    "#create a set\n",
    "myset = {\"apple\", \"banana\", \"kiwi\", \"papaya\"}\n",
    "print(myset)\n",
    "\n",
    "#Duplicates Not Allowed\n",
    "myset = {\"apple\", \"banana\", \"kiwi\", \"papaya\", \"kiwi\"}\n",
    "print(myset)\n",
    "\n",
    "#The Length of a Set\n",
    "myset = {\"apple\", \"banana\", \"kiwi\", \"papaya\"}\n",
    "print(len(myset))\n",
    "\n",
    "#Set Items - Data Types\n",
    "set1 = {\"apple\", \"banana\", \"cherry\"}\n",
    "set2 = {1, 5, 7, 9, 3}\n",
    "set3 = {True, False, False}\n",
    "set4 = {\"abc\", 34, True, 40, \"male\"}\n",
    "\n",
    "#type()\n",
    "myset = {\"apple\", \"banana\", \"kiwi\", \"papaya\"}\n",
    "print(type(myset))\n",
    "\n",
    "#The set() Constructor\n",
    "myset = set((\"apple\", \"banana\", \"kiwi\", \"papaya\"))\n",
    "print(myset)"
   ]
  },
  {
   "cell_type": "markdown",
   "id": "cfb65a1d",
   "metadata": {},
   "source": [
    "<b>Access Set Items</b>"
   ]
  },
  {
   "cell_type": "markdown",
   "id": "0051dfd8",
   "metadata": {},
   "source": [
    "* You cannot access items in a set by referring to an index or a key.\n",
    "\n",
    "* But you can loop through the set items using a for loop, or ask if a specified value is present in a set, by using the in keyword."
   ]
  },
  {
   "cell_type": "code",
   "execution_count": 42,
   "id": "55da7fb5",
   "metadata": {},
   "outputs": [
    {
     "name": "stdout",
     "output_type": "stream",
     "text": [
      "papaya\n",
      "apple\n",
      "banana\n",
      "kiwi\n",
      "True\n"
     ]
    }
   ],
   "source": [
    "#Access Items\n",
    "myset = {\"apple\", \"banana\", \"kiwi\", \"papaya\"}\n",
    "for x in myset:\n",
    "    print(x)\n",
    "\n",
    "myset = {\"apple\", \"banana\", \"kiwi\", \"papaya\"}\n",
    "print(\"apple\" in myset)"
   ]
  },
  {
   "cell_type": "markdown",
   "id": "d670df1d",
   "metadata": {},
   "source": [
    " <b>Add Set Items</b>"
   ]
  },
  {
   "cell_type": "markdown",
   "id": "00aa59a7",
   "metadata": {},
   "source": [
    "* Once a set is created, you cannot change its items, but you can add new items."
   ]
  },
  {
   "cell_type": "code",
   "execution_count": 41,
   "id": "14b68236",
   "metadata": {},
   "outputs": [
    {
     "name": "stdout",
     "output_type": "stream",
     "text": [
      "{'papaya', 'kiwi', 'orange', 'apple', 'banana'}\n",
      "{2, 4, 'papaya', 'kiwi', 7, 9, 87, 57, 'apple', 'banana'}\n",
      "{2, 4, 'papaya', 'kiwi', 7, 9, 87, 57, 'apple', 'banana'}\n"
     ]
    }
   ],
   "source": [
    "#add() method\n",
    "myset = {\"apple\", \"banana\", \"kiwi\", \"papaya\"}\n",
    "myset.add(\"orange\")\n",
    "print(myset)\n",
    "\n",
    "#update() method\n",
    "myset = {\"apple\", \"banana\", \"kiwi\", \"papaya\"}\n",
    "myset1 = {2, 4, 7, 57, 87, 9}\n",
    "myset.update(myset1)\n",
    "print(myset)\n",
    "\n",
    "#Add Any Iterable\n",
    "myset = {\"apple\", \"banana\", \"kiwi\", \"papaya\"}\n",
    "myset1 = [2, 4, 7, 57, 87, 9]\n",
    "myset.update(myset1)\n",
    "print(myset)"
   ]
  },
  {
   "cell_type": "markdown",
   "id": "5f0be3cc",
   "metadata": {},
   "source": [
    " <b>Remove Set Items</b>"
   ]
  },
  {
   "cell_type": "markdown",
   "id": "2dbf685e",
   "metadata": {},
   "source": [
    "* To remove an item in a set, use the remove(), or the discard() method.\n",
    "* If the item to remove does not exist, remove() will raise an error.\n",
    "* If the item to remove does not exist, discard() will NOT raise an error."
   ]
  },
  {
   "cell_type": "code",
   "execution_count": 40,
   "id": "fa0b85ec",
   "metadata": {},
   "outputs": [
    {
     "name": "stdout",
     "output_type": "stream",
     "text": [
      "{'papaya', 'apple', 'banana'}\n",
      "{'papaya', 'apple', 'banana'}\n",
      "kiwi\n",
      "{'apple', 'banana', 'papaya'}\n",
      "set()\n"
     ]
    }
   ],
   "source": [
    "#discard() method\n",
    "myset = {\"apple\", \"banana\", \"kiwi\", \"papaya\"}\n",
    "myset.discard(\"kiwi\")\n",
    "print(myset)\n",
    "\n",
    "#remove() method\n",
    "myset = {\"apple\", \"banana\", \"kiwi\", \"papaya\"}\n",
    "myset.remove(\"kiwi\")\n",
    "print(myset)\n",
    "\n",
    "#pop() method will remove the last item\n",
    "myset = {\"apple\", \"papaya\", \"kiwi\", \"banana\" }\n",
    "x = myset.pop()\n",
    "print(x)\n",
    "print(myset)\n",
    "\n",
    "#clear() method\n",
    "myset = {\"apple\", \"banana\", \"kiwi\", \"papaya\"}\n",
    "myset.clear()\n",
    "print(myset)"
   ]
  },
  {
   "cell_type": "markdown",
   "id": "1c420fd7",
   "metadata": {},
   "source": [
    "<b>Loop Sets</b>"
   ]
  },
  {
   "cell_type": "markdown",
   "id": "20becf08",
   "metadata": {},
   "source": [
    "* You can loop through the set items by using a for loop"
   ]
  },
  {
   "cell_type": "code",
   "execution_count": 39,
   "id": "ba2d4c0f",
   "metadata": {},
   "outputs": [
    {
     "name": "stdout",
     "output_type": "stream",
     "text": [
      "papaya\n",
      "apple\n",
      "banana\n",
      "kiwi\n"
     ]
    }
   ],
   "source": [
    "# loop through the set items by using a for loop\n",
    "myset = {\"apple\", \"banana\", \"kiwi\", \"papaya\"}\n",
    "for x in myset: \n",
    " print(x)"
   ]
  },
  {
   "cell_type": "markdown",
   "id": "44e17305",
   "metadata": {},
   "source": [
    "<b>Join Sets</b>"
   ]
  },
  {
   "cell_type": "code",
   "execution_count": 38,
   "id": "4d32fe4c",
   "metadata": {},
   "outputs": [
    {
     "name": "stdout",
     "output_type": "stream",
     "text": [
      "{2, 4, 'papaya', 'kiwi', 7, 9, 57, 'apple', 'banana'}\n",
      "{2, 4, 'papaya', 'kiwi', 7, 9, 57, 'apple', 'banana'}\n",
      "{'banana', 'kiwi'}\n",
      "{'apple'}\n",
      "{'google', 'microsoft', 'cherry', 'banana'}\n",
      "{'google', 'microsoft', 'cherry', 'banana'}\n"
     ]
    }
   ],
   "source": [
    "#union() method\n",
    "myset = {\"apple\", \"banana\", \"kiwi\", \"papaya\"}\n",
    "myset1 = [2, 4, 7, 57, 7, 9]\n",
    "myset2 = myset.union(myset1)\n",
    "print(myset2)\n",
    "\n",
    "#update() method\n",
    "myset = {\"apple\", \"banana\", \"kiwi\", \"papaya\"}\n",
    "myset1 = [2, 4, 7, 57, 7, 9]\n",
    "myset.update(myset1)\n",
    "print(myset)\n",
    "\n",
    "#Keep only the Duplicates\n",
    "#intersection_update() method\n",
    "myset = {\"apple\", \"banana\", \"kiwi\", \"papaya\"}\n",
    "myset1 = [2, \"kiwi\", 7, 57, \"banana\", 9]\n",
    "myset.intersection_update(myset1)\n",
    "print(myset)\n",
    "\n",
    "#intersection() method\n",
    "x = {\"apple\", \"banana\", \"cherry\"}\n",
    "y = {\"google\", \"microsoft\", \"apple\"}\n",
    "z = x.intersection(y)\n",
    "print(z)\n",
    "\n",
    "#Keep All, But NOT the Duplicates\n",
    "#symmetric_difference_update() method\n",
    "x = {\"apple\", \"banana\", \"cherry\"}\n",
    "y = {\"google\", \"microsoft\", \"apple\"}\n",
    "x.symmetric_difference_update(y)\n",
    "print(x)\n",
    "\n",
    "#symmetric_difference() method\n",
    "x = {\"apple\", \"banana\", \"cherry\"}\n",
    "y = {\"google\", \"microsoft\", \"apple\"}\n",
    "z = x.symmetric_difference(y)\n",
    "print(z)\n"
   ]
  },
  {
   "cell_type": "markdown",
   "id": "4c12a58a",
   "metadata": {},
   "source": [
    "### Dictionaries"
   ]
  },
  {
   "cell_type": "markdown",
   "id": "70799960",
   "metadata": {},
   "source": [
    "* Dictionaries are used to store data values in key:value pairs.\n",
    "* A dictionary is a collection which is ordered*, changeable and do not allow duplicates.\n",
    "* Dictionaries are written with curly brackets, and have keys and values"
   ]
  },
  {
   "cell_type": "code",
   "execution_count": 37,
   "id": "84320008",
   "metadata": {},
   "outputs": [
    {
     "name": "stdout",
     "output_type": "stream",
     "text": [
      "{'name': 'kamal', 'age': 45, 'sex': 'male'}\n",
      "kamal\n",
      "{'name': 'kamal', 'age': 45, 'sex': 'male'}\n",
      "3\n",
      "<class 'dict'>\n"
     ]
    }
   ],
   "source": [
    "#Create and print a dictionary\n",
    "x ={\"name\":\"kamal\", \"age\":45, \"sex\":\"male\"} \n",
    "print(x)\n",
    "\n",
    "#Dictionary Items\n",
    "x ={\"name\":\"kamal\", \"age\":45, \"sex\":\"male\"} \n",
    "print(x[\"name\"])\n",
    "\n",
    "#Duplicates Not Allowed\n",
    "x ={\"name\":\"kamal\", \"age\":45, \"age\":45, \"sex\":\"male\"} \n",
    "print(x)\n",
    "\n",
    "#Dictionary Length\n",
    "x ={\"name\":\"kamal\", \"age\":45, \"sex\":\"male\"} \n",
    "print(len(x))\n",
    "\n",
    "#Dictionary Items - Data Types\n",
    "x = {\"brand\": \"Ford\", \"electric\": False, \"year\": 1964, \n",
    "     \"colors\": [\"red\", \"white\", \"blue\"]}\n",
    "\n",
    "#type()\n",
    "x ={\"name\":\"kamal\", \"age\":45, \"sex\":\"male\"} \n",
    "print(type(x))"
   ]
  },
  {
   "cell_type": "markdown",
   "id": "b8aecb6d",
   "metadata": {},
   "source": [
    "<b>Access Dictionary Items</b>"
   ]
  },
  {
   "cell_type": "markdown",
   "id": "2f1a347d",
   "metadata": {},
   "source": [
    "* You can access the items of a dictionary by referring to its key name, inside square brackets"
   ]
  },
  {
   "cell_type": "code",
   "execution_count": 36,
   "id": "7f4363aa",
   "metadata": {},
   "outputs": [
    {
     "name": "stdout",
     "output_type": "stream",
     "text": [
      "45\n",
      "male\n",
      "dict_keys(['name', 'age', 'sex'])\n",
      "dict_values(['kamal', 45, 'male'])\n",
      "{'name': 'kamal', 'age': 45, 'sex': 'male'}\n",
      "{'name': 'kamal', 'age': 45, 'sex': 'male', 'color': 'white'}\n",
      "yes, name is present in the x\n"
     ]
    }
   ],
   "source": [
    "#Accessing Items\n",
    "x ={\"name\":\"kamal\", \"age\":45, \"age\":45, \"sex\":\"male\"} \n",
    "y = x[\"age\"]\n",
    "print(y)\n",
    "\n",
    "#get() method\n",
    "x ={\"name\":\"kamal\", \"age\":45, \"age\":45, \"sex\":\"male\"} \n",
    "y = x.get(\"sex\")\n",
    "print(y)\n",
    "\n",
    "#keys() method\n",
    "x ={\"name\":\"kamal\", \"age\":45, \"age\":45, \"sex\":\"male\"} \n",
    "y = x.keys()\n",
    "print(y)\n",
    "\n",
    "#values() method \n",
    "x ={\"name\":\"kamal\", \"age\":45, \"age\":45, \"sex\":\"male\"} \n",
    "y = x.values()\n",
    "print(y)\n",
    "\n",
    "#items() method \n",
    "x ={\"name\":\"kamal\", \"age\":45, \"age\":45, \"sex\":\"male\"} \n",
    "y = x.items()\n",
    "##before the change\n",
    "print(x)\n",
    "x[\"color\"] = \"white\"\n",
    "#after the change\n",
    "print(x)\n",
    "\n",
    "#Check if Key Exists\n",
    "x ={\"name\":\"kamal\", \"age\":45, \"age\":45, \"sex\":\"male\"} \n",
    "if \"name\" in x:\n",
    " print(\"yes, name is present in the x\")\n"
   ]
  },
  {
   "cell_type": "markdown",
   "id": "9c71c73c",
   "metadata": {},
   "source": [
    "<b>Change Dictionary Items</b>"
   ]
  },
  {
   "cell_type": "code",
   "execution_count": 35,
   "id": "402fd682",
   "metadata": {},
   "outputs": [
    {
     "name": "stdout",
     "output_type": "stream",
     "text": [
      "{'name': 'kamal', 'age': 23, 'sex': 'male'}\n",
      "{'name': 'sita', 'age': 45, 'sex': 'male'}\n"
     ]
    }
   ],
   "source": [
    "#Change Values\n",
    "x ={\"name\":\"kamal\", \"age\":45, \"age\":45, \"sex\":\"male\"}\n",
    "x[\"age\"] = 23\n",
    "print(x)\n",
    "\n",
    "#Update Dictionary\n",
    "x ={\"name\":\"kamal\", \"age\":45, \"sex\":\"male\"}\n",
    "x.update({\"name\":\"sita\"})\n",
    "print(x)"
   ]
  },
  {
   "cell_type": "markdown",
   "id": "b899e7c8",
   "metadata": {},
   "source": [
    "<b>Add dictionary items</b>"
   ]
  },
  {
   "cell_type": "code",
   "execution_count": 34,
   "id": "bc3f1254",
   "metadata": {},
   "outputs": [
    {
     "name": "stdout",
     "output_type": "stream",
     "text": [
      "{'name': 'kamal', 'age': 45, 'sex': 'male', 'height': 5}\n",
      "{'name': 'kamal', 'age': 45, 'sex': 'male', 'height': 5}\n"
     ]
    }
   ],
   "source": [
    "#Adding Items\n",
    "x ={\"name\":\"kamal\", \"age\":45, \"sex\":\"male\"}\n",
    "x[\"height\"] = 5\n",
    "print(x)\n",
    "\n",
    "#Update Dictionary\n",
    "x ={\"name\":\"kamal\", \"age\":45, \"sex\":\"male\"}\n",
    "x.update({\"height\":5})\n",
    "print(x)"
   ]
  },
  {
   "cell_type": "markdown",
   "id": "77d9a534",
   "metadata": {},
   "source": [
    "<b>Remove dictionary items</b>"
   ]
  },
  {
   "cell_type": "code",
   "execution_count": 33,
   "id": "04094c01",
   "metadata": {},
   "outputs": [
    {
     "name": "stdout",
     "output_type": "stream",
     "text": [
      "{'name': 'kamal', 'age': 45}\n",
      "{'name': 'kamal', 'age': 45}\n",
      "{}\n"
     ]
    }
   ],
   "source": [
    "#pop() method\n",
    "x ={\"name\":\"kamal\", \"age\":45, \"sex\":\"male\"}\n",
    "x.pop(\"sex\")\n",
    "print(x)\n",
    "\n",
    "#popitem() method\n",
    "x ={\"name\":\"kamal\", \"age\":45, \"sex\":\"male\"}\n",
    "x.popitem()\n",
    "print(x)\n",
    "\n",
    "# clear() method\n",
    "x ={\"name\":\"kamal\", \"age\":45, \"sex\":\"male\"}\n",
    "x.clear()\n",
    "print(x)\n",
    "\n",
    "\n"
   ]
  },
  {
   "cell_type": "markdown",
   "id": "561ce084",
   "metadata": {},
   "source": [
    "<b>Loop Dictionaries</b>"
   ]
  },
  {
   "cell_type": "code",
   "execution_count": 32,
   "id": "8bc377e7",
   "metadata": {},
   "outputs": [
    {
     "name": "stdout",
     "output_type": "stream",
     "text": [
      "name\n",
      "age\n",
      "sex\n",
      "kamal\n",
      "45\n",
      "male\n",
      "kamal\n",
      "45\n",
      "male\n",
      "name\n",
      "age\n",
      "sex\n",
      "('name', 'kamal')\n",
      "('age', 45)\n",
      "('sex', 'male')\n"
     ]
    }
   ],
   "source": [
    "x ={\"name\":\"kamal\", \"age\":45, \"sex\":\"male\"}\n",
    "for y in x:\n",
    " print(y)\n",
    "\n",
    "#for values\n",
    "dict1 ={\"name\":\"kamal\", \"age\":45, \"sex\":\"male\"}\n",
    "for x in dict1:\n",
    " print(dict1[x])\n",
    "\n",
    "#values() method\n",
    "dict1 ={\"name\":\"kamal\", \"age\":45, \"sex\":\"male\"}\n",
    "for x in dict1.values():\n",
    " print(x)\n",
    "\n",
    "#keys() method\n",
    "dict1 ={\"name\":\"kamal\", \"age\":45, \"sex\":\"male\"}\n",
    "for x in dict1.keys():\n",
    " print(x)\n",
    "\n",
    "#items() method\n",
    "dict1 ={\"name\":\"kamal\", \"age\":45, \"sex\":\"male\"}\n",
    "for x in dict1.items():\n",
    " print(x)"
   ]
  },
  {
   "cell_type": "markdown",
   "id": "d458e4e3",
   "metadata": {},
   "source": [
    "<b>Copy Dictionaries</b> "
   ]
  },
  {
   "cell_type": "code",
   "execution_count": 31,
   "id": "e71b8687",
   "metadata": {},
   "outputs": [
    {
     "name": "stdout",
     "output_type": "stream",
     "text": [
      "{'name': 'kamal', 'age': 45, 'sex': 'male'}\n",
      "{'name': 'kamal', 'age': 45, 'sex': 'male'}\n"
     ]
    }
   ],
   "source": [
    "#copy() method\n",
    "dict1 ={\"name\":\"kamal\", \"age\":45, \"sex\":\"male\"}\n",
    "dict2 = dict1.copy()\n",
    "print(dict2)\n",
    "\n",
    "#dict() function\n",
    "dict1 ={\"name\":\"kamal\", \"age\":45, \"sex\":\"male\"}\n",
    "dict2 = dict(dict1)\n",
    "print(dict2)"
   ]
  },
  {
   "cell_type": "markdown",
   "id": "b73f0a0f",
   "metadata": {},
   "source": [
    "<b>Nested Dictionaries</b>"
   ]
  },
  {
   "cell_type": "code",
   "execution_count": 30,
   "id": "64b90743",
   "metadata": {},
   "outputs": [
    {
     "name": "stdout",
     "output_type": "stream",
     "text": [
      "{'child1': {'name': 'Emil', 'year': 2004}, 'child2': {'name': 'Tobias', 'year': 2007}, 'child3': {'name': 'Linus', 'year': 2011}}\n",
      "{'child1': {'name': 'Emil', 'year': 2004}, 'child2': {'name': 'Tobias', 'year': 2007}, 'child3': {'name': 'Linus', 'year': 2011}}\n"
     ]
    }
   ],
   "source": [
    "#Create a dictionary that contain three dictionaries\n",
    "myfamily = {\"child1\" : {\"name\" : \"Emil\",\"year\" : 2004  },\n",
    "            \"child2\" : {\"name\" : \"Tobias\",\"year\" : 2007},\n",
    "            \"child3\" : {\"name\" : \"Linus\",\"year\" : 2011 }}\n",
    "print(myfamily)\n",
    "\n",
    "#add three dictionaries into a new dictionary\n",
    "child1 = {\"name\" : \"Emil\",\"year\" : 2004  }\n",
    "child2 = {\"name\" : \"Tobias\",\"year\" : 2007}\n",
    "child3 = {\"name\" : \"Linus\",\"year\" : 2011 }  \n",
    "myfamily = {\"child1\": child1, \"child2\": child2, \n",
    "            \"child3\":child3}    \n",
    "print(myfamily)  "
   ]
  },
  {
   "cell_type": "markdown",
   "id": "b847e087",
   "metadata": {},
   "source": [
    "### If ... Else"
   ]
  },
  {
   "cell_type": "markdown",
   "id": "824f8e3f",
   "metadata": {},
   "source": [
    "<b>Python Conditions and If statements</b>"
   ]
  },
  {
   "cell_type": "markdown",
   "id": "efe094bd",
   "metadata": {},
   "source": [
    "Python support the usual logical conditions from mathematics:\n",
    "* Equals: a == b\n",
    "* Not Equals: a != b\n",
    "* Less than: a < b\n",
    "* Less than or equal to: a <= b\n",
    "* Greater than: a > b\n",
    "* Greater than or equal to: a >= b"
   ]
  },
  {
   "cell_type": "code",
   "execution_count": 29,
   "id": "a04a2a9c",
   "metadata": {},
   "outputs": [
    {
     "name": "stdout",
     "output_type": "stream",
     "text": [
      "Yes, x is greater than y\n",
      "x is less than y\n",
      "x is less than y\n",
      "Yes, x is less than y\n",
      "Not true\n",
      "=\n",
      "Both conditions is True\n",
      "At least one of the conditions is True\n",
      "above tventy three\n",
      "above thirty three\n"
     ]
    }
   ],
   "source": [
    "#if statement\n",
    "x = 20\n",
    "y = 3\n",
    "if x>y:\n",
    "    print(\"Yes, x is greater than y\")\n",
    "\n",
    "#Elif keyword\n",
    "#if the previous conditions were not true, then try this condition\n",
    "x = 3\n",
    "y = 20\n",
    "if x>y:\n",
    "    print(\"Yes, x is greater than y\")\n",
    "elif x<y:\n",
    "    print(\"x is less than y\")\n",
    "    \n",
    "#Else keyword \n",
    "#catches anything which isn't caught by the preceding conditions.\n",
    "x = 3\n",
    "y = 20\n",
    "if x>y:\n",
    "    print(\"Yes, x is greater than y\")\n",
    "elif x==y:\n",
    "    print(\"x is equals to y\")\n",
    "else:\n",
    "    print(\"x is less than y\")\n",
    "    \n",
    "#Short Hand If\n",
    "#for one statement to execute\n",
    "x = 3\n",
    "y = 20\n",
    "if x<y: print(\"Yes, x is less than y\")\n",
    "    \n",
    "#Short Hand If ... Else\n",
    "#Ternary Operators, or Conditional Expressions.\n",
    "#one statement to execute, one for if, and one for else, \n",
    "#you can put it all on the same line\n",
    "x = 3 \n",
    "y = 20\n",
    "print(\"Yes, x is greater than y\") if x>y else print(\"Not true\")\n",
    "\n",
    "#multiple else statements on the same line\n",
    "a = 330\n",
    "b = 330\n",
    "print(\"A\") if a > b else print(\"=\") if a == b else print(\"B\")\n",
    "\n",
    "#and keyword\n",
    "x = 45\n",
    "y = 6\n",
    "z = 34\n",
    "if x>z and y<x:\n",
    "    print(\"Both conditions is True\")\n",
    "\n",
    "#or keyword\n",
    "x = 45\n",
    "y = 6\n",
    "z = 34\n",
    "if x>z or y>x:\n",
    "    print(\"At least one of the conditions is True\")\n",
    "\n",
    "#Nested If\n",
    "x = 45\n",
    "if x>23:\n",
    "    print(\"above tventy three\")\n",
    "    if x>35:\n",
    "        print(\"above thirty three\")\n",
    "    else:\n",
    "        (\"All above statements are wrong\")\n",
    "        \n",
    "#The pass Statement\n",
    "#pass statement is use for avoid getting an error.\n",
    "x = 5\n",
    "y = 3\n",
    "if x>y:\n",
    "    pass"
   ]
  },
  {
   "cell_type": "markdown",
   "id": "eb3010c9",
   "metadata": {},
   "source": [
    "### While Loops"
   ]
  },
  {
   "cell_type": "markdown",
   "id": "0b05a417",
   "metadata": {},
   "source": [
    "Python has two primitive loop commands:\n",
    "\n",
    "* while loops\n",
    "* for loops\n",
    "\n",
    "With the while loop we can execute a set of statements as long as a condition is true.\n",
    "\n",
    "With the break statement we can stop the loop even if the while condition is true.\n",
    "\n",
    "With the continue statement we can stop the current iteration, and continue with the next.\n",
    "\n",
    "With the else statement we can run a block of code once when the condition no longer is true."
   ]
  },
  {
   "cell_type": "code",
   "execution_count": 28,
   "id": "84e5daf9",
   "metadata": {},
   "outputs": [
    {
     "name": "stdout",
     "output_type": "stream",
     "text": [
      "5\n",
      "6\n",
      "7\n",
      "8\n",
      "9\n",
      "1\n",
      "2\n",
      "3\n",
      "4\n",
      "2\n",
      "3\n",
      "5\n",
      "6\n",
      "1\n",
      "2\n",
      "3\n",
      "4\n",
      "i is no longer less than 6\n"
     ]
    }
   ],
   "source": [
    "#while loop\n",
    "i = 5\n",
    "while i<10:\n",
    "    print(i)\n",
    "    i = i+1\n",
    "\n",
    "#break statement\n",
    "i = 1\n",
    "while i<6:\n",
    "    print(i)\n",
    "    if i==4:\n",
    "        break\n",
    "    i += 1 \n",
    "\n",
    "#The continue Statement\n",
    "i = 1\n",
    "while i<6:\n",
    "    i += 1\n",
    "    if i == 4:\n",
    "        continue\n",
    "    print(i)  \n",
    "    \n",
    "#The else Statement\n",
    "i = 1\n",
    "while i<5:\n",
    "    print(i)\n",
    "    i += 1\n",
    "else:\n",
    "    print(\"i is no longer less than 6\")"
   ]
  },
  {
   "cell_type": "markdown",
   "id": "987ef5c1",
   "metadata": {},
   "source": [
    "### For Loops"
   ]
  },
  {
   "cell_type": "code",
   "execution_count": 27,
   "id": "1f2a52f8",
   "metadata": {},
   "outputs": [
    {
     "name": "stdout",
     "output_type": "stream",
     "text": [
      "papaya\n",
      "apple\n",
      "banana\n",
      "kiwi\n",
      "b\n",
      "a\n",
      "n\n",
      "a\n",
      "n\n",
      "a\n",
      "apple\n",
      "banana\n",
      "apple\n",
      "cherry\n",
      "0\n",
      "1\n",
      "2\n",
      "0\n",
      "1\n",
      "2\n",
      "5\n",
      "8\n",
      "11\n",
      "14\n",
      "17\n",
      "20\n",
      "23\n",
      "26\n",
      "29\n",
      "0\n",
      "1\n",
      "2\n",
      "3\n",
      "4\n",
      "5\n",
      "0\n",
      "1\n",
      "2\n",
      "3\n",
      "red apple\n",
      "red banana\n",
      "red cherry\n",
      "big apple\n",
      "big banana\n",
      "big cherry\n",
      "tasty apple\n",
      "tasty banana\n",
      "tasty cherry\n"
     ]
    }
   ],
   "source": [
    "myset = {\"apple\", \"banana\", \"kiwi\", \"papaya\"}\n",
    "for x in myset:\n",
    " print(x)\n",
    "\n",
    "#Looping Through a String\n",
    "myset = \"banana\"\n",
    "for x in \"banana\":\n",
    " print(x)\n",
    "\n",
    "#The break Statement\n",
    "fruits = [\"apple\", \"banana\", \"cherry\"]\n",
    "for x in fruits:\n",
    "  print(x)\n",
    "  if x == \"banana\":\n",
    "    break\n",
    "\n",
    "#The continue Statement\n",
    "fruits = [\"apple\", \"banana\", \"cherry\"]\n",
    "for x in fruits:\n",
    "    if x == \"banana\":\n",
    "        continue\n",
    "    print(x)\n",
    "    \n",
    "#The range() Function\n",
    "fruits = [\"apple\", \"banana\", \"cherry\"]\n",
    "for x in range(3):   \n",
    "    print(x)\n",
    "    \n",
    "fruits = [\"apple\", \"banana\", \"cherry\"]\n",
    "for x in range(0,2):   \n",
    "    print(x)  \n",
    "    \n",
    "for x in range(2, 30, 3):   \n",
    "    print(x)\n",
    "    \n",
    "#Else in For Loop\n",
    "for x in range(6):\n",
    "    print(x)\n",
    "else:\n",
    "    (\"Finally finished\")\n",
    "    \n",
    "#If the loop breaks, the else block is not executed.\n",
    "for x in range(6):\n",
    "    if x==4:\n",
    "        break\n",
    "    print(x)\n",
    "else:\n",
    "    (\"Finally finished\") \n",
    "    \n",
    "# Nested Loops\n",
    "#A nested loop is a loop inside a loop.\n",
    "adj = [\"red\", \"big\", \"tasty\"]\n",
    "fruits = [\"apple\", \"banana\", \"cherry\"]\n",
    "for x in adj:\n",
    "    for y in fruits:\n",
    "        print(x, y)\n",
    "        \n",
    "#The pass Statement \n",
    "#pass statement for avoid getting an error.\n",
    "for x in [0, 1, 2]:\n",
    "    pass"
   ]
  },
  {
   "cell_type": "markdown",
   "id": "8c956d26",
   "metadata": {},
   "source": [
    "### Functions"
   ]
  },
  {
   "cell_type": "markdown",
   "id": "ae1a27c0",
   "metadata": {},
   "source": [
    "* A function is a block of code which only runs when it is called.\n",
    "* You can pass data, known as parameters, into a function.\n",
    "* A function can return data as a result.\n",
    "* function is defined using the def keyword.\n",
    "* To call a function, use the function name followed by parenthesis.\n",
    "* Information can be passed into functions as arguments.\n",
    "* Arguments are specified after the function name, inside the parentheses. You can add as many arguments as you want, just separate them with a comma.\n",
    "* A parameter is the variable listed inside the parentheses in the function definition.\n",
    "* An argument is the value that is sent to the function when it is called.\n",
    "* Recursion: Recursion is a common mathematical and programming concept. It means that a function calls itself. This has the benefit of meaning that you can loop through data to reach a result."
   ]
  },
  {
   "cell_type": "code",
   "execution_count": 26,
   "id": "70b79a1d",
   "metadata": {},
   "outputs": [
    {
     "name": "stdout",
     "output_type": "stream",
     "text": [
      "calling a function\n",
      "Emailrefsnes\n",
      "phonerefsnes\n",
      "sernamerefsnes\n",
      "email bandanavishwa@gmail.com\n",
      "the younger child is karma\n",
      "the younger kid is keshaw\n",
      "his last name is ram\n",
      "i am fromUSA\n",
      "i am fromBrazil\n",
      "i am fromSouth africa\n",
      "i am fromIndia\n",
      "apple\n",
      "banana\n",
      "cherry\n",
      "15\n",
      "25\n",
      "45\n",
      "recursion example\n",
      "1\n",
      "3\n",
      "6\n",
      "10\n",
      "15\n",
      "21\n"
     ]
    },
    {
     "data": {
      "text/plain": [
       "21"
      ]
     },
     "execution_count": 26,
     "metadata": {},
     "output_type": "execute_result"
    }
   ],
   "source": [
    "#Creating a Function\n",
    "def my_func():\n",
    "  print(\"creating a function\")  \n",
    "\n",
    "#Calling a Function\n",
    "def my_func():\n",
    "    print(\"calling a function\")\n",
    "my_func()\n",
    "\n",
    "#Arguments\n",
    "def my_func(fname):\n",
    "    print(fname+\"refsnes\")\n",
    "    \n",
    "my_func(\"Email\")\n",
    "my_func(\"phone\")\n",
    "my_func(\"sername\")\n",
    "\n",
    "#Number of Arguments\n",
    "def my_func(fname, lname):\n",
    "    print(fname + \" \" + lname)\n",
    "my_func(\"email\", \"bandanavishwa@gmail.com\") \n",
    "\n",
    "#Arbitrary Arguments, *args\n",
    "def my_func(*kids):\n",
    "    print(\"the younger child is \" + kids[2])\n",
    "my_func(\"sita\", \"ram\", \"karma\", \"kalyan\")    \n",
    "\n",
    "#Keyword Arguments\n",
    "def my_func(kid1, kid2, kid3, kid4):\n",
    "    print(\"the younger kid is \" + kid2)\n",
    "my_func(kid1=\"sita\", kid2=\"keshaw\", kid3=\"karma\", \n",
    "        kid4=\"kalyan\") \n",
    "\n",
    "#Arbitrary Keyword Arguments, **kwargs\n",
    "def my_func(**kids):\n",
    "    print(\"his last name is \" + kids[\"lname\"])\n",
    "my_func(fname=\"sita\", lname=\"ram\")\n",
    "\n",
    "#Default Parameter Value\n",
    "def my_func(country = \"India\"):\n",
    "    print(\"i am from\" + country)\n",
    "my_func(\"USA\")\n",
    "my_func(\"Brazil\")\n",
    "my_func(\"South africa\")\n",
    "my_func()\n",
    "\n",
    "#Passing a List as an Argument\n",
    "def my_func(fruits):\n",
    "    for x in fruits:\n",
    "        print(x)\n",
    "fruits = [\"apple\", \"banana\", \"cherry\"]\n",
    "my_func(fruits)\n",
    "\n",
    "#Return Values\n",
    "def my_func(x):\n",
    "    return 5*x\n",
    "print(my_func(3))\n",
    "print(my_func(5))\n",
    "print(my_func(9))\n",
    "\n",
    "#The pass Statement\n",
    "def my_func():\n",
    "    pass\n",
    "\n",
    "#Recursion\n",
    "def tri_recursion(k):\n",
    "    if (k>0):\n",
    "        result = k + tri_recursion(k-1)\n",
    "        print(result)\n",
    "    else:\n",
    "        result = 0\n",
    "    return result\n",
    "\n",
    "print(\"recursion example\")\n",
    "tri_recursion(6)"
   ]
  },
  {
   "cell_type": "markdown",
   "id": "bc04d2c7",
   "metadata": {},
   "source": [
    "### Lambda\n",
    " "
   ]
  },
  {
   "cell_type": "markdown",
   "id": "d8d603ba",
   "metadata": {},
   "source": [
    "* A lambda function is a small anonymous function.\n",
    "\n",
    "* A lambda function can take any number of arguments, but can only have one expression.\n",
    "\n",
    "* lambda arguments : expression"
   ]
  },
  {
   "cell_type": "code",
   "execution_count": 25,
   "id": "6c0ae610",
   "metadata": {},
   "outputs": [
    {
     "name": "stdout",
     "output_type": "stream",
     "text": [
      "15\n",
      "20\n",
      "140\n",
      "20\n",
      "22\n",
      "33\n"
     ]
    }
   ],
   "source": [
    "x = lambda a : a + 10\n",
    "print(x(5))\n",
    "\n",
    "#Lambda functions can take any number of arguments.\n",
    "x = lambda a, b : a * b\n",
    "print(x(4, 5))\n",
    "\n",
    "x = lambda a, b, c : a * b * c\n",
    "print(x(4, 5, 7))\n",
    "\n",
    "#Why Use Lambda Functions?\n",
    "#The power of lambda is better shown when you use them as an anonymous function inside another function.\n",
    "def myfunc(n):\n",
    "    return lambda a : a * n\n",
    "mydoubler = myfunc(2)\n",
    "print(mydoubler(10))\n",
    "\n",
    "def myfunc(n):\n",
    "    return lambda a : a * n\n",
    "\n",
    "mydoubler = myfunc(2)\n",
    "mytripler = myfunc(3)\n",
    "\n",
    "print(mydoubler(11))\n",
    "print(mytripler(11))"
   ]
  },
  {
   "cell_type": "code",
   "execution_count": null,
   "id": "abf11572",
   "metadata": {},
   "outputs": [],
   "source": []
  }
 ],
 "metadata": {
  "kernelspec": {
   "display_name": "Python 3 (ipykernel)",
   "language": "python",
   "name": "python3"
  },
  "language_info": {
   "codemirror_mode": {
    "name": "ipython",
    "version": 3
   },
   "file_extension": ".py",
   "mimetype": "text/x-python",
   "name": "python",
   "nbconvert_exporter": "python",
   "pygments_lexer": "ipython3",
   "version": "3.9.12"
  }
 },
 "nbformat": 4,
 "nbformat_minor": 5
}

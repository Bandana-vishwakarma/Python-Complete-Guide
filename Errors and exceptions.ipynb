{
 "cells": [
  {
   "cell_type": "markdown",
   "id": "62c64284",
   "metadata": {},
   "source": [
    "### Errors"
   ]
  },
  {
   "cell_type": "markdown",
   "id": "f51c8906",
   "metadata": {},
   "source": [
    "Errors or mistakes in program are often referred to as bugs.\n",
    "\n",
    "They are almost always the fault of the programmer.\n",
    "\n",
    "The process of finding and eliminating errors is called debugging.\n",
    "\n",
    "Errors can be classified into three major groups:\n",
    "* Syntax errors\n",
    "* Runtime errors\n",
    "* Logical errors\n"
   ]
  },
  {
   "cell_type": "markdown",
   "id": "fc7d4805",
   "metadata": {},
   "source": [
    "<b>Syntax errors</b>"
   ]
  },
  {
   "cell_type": "markdown",
   "id": "2c50cc2d",
   "metadata": {},
   "source": [
    "Syntax errors are mistakes in the use of the Python language, and are analogous to spelling or grammar mistakes in a language like English.\n",
    "\n",
    "Common Python syntax errors include:\n",
    "* leaving out a keyword\n",
    "* putting a keyword in the wrong place\n",
    "* leaving out a symbol, such as a colon, comma or brackets\n",
    "* misspelling a keyword\n",
    "* incorrect indentation\n",
    "* empty block"
   ]
  },
  {
   "cell_type": "markdown",
   "id": "f2b446e2",
   "metadata": {},
   "source": [
    "<b>Runtime errors</b>"
   ]
  },
  {
   "cell_type": "markdown",
   "id": "9e6fc3d2",
   "metadata": {},
   "source": [
    "If a program is syntactically correct – that is, free of syntax errors – it will be run by the Python interpreter. However, the program may exit unexpectedly during execution if it encounters a runtime error – a problem which was not detected when the program was parsed, but is only revealed when a particular line is executed. When a program comes to a halt because of a runtime error, we say that it has crashed.\n",
    "\n",
    "Some examples of Python runtime errors:\n",
    "* division by zero\n",
    "* performing an operation on incompatible types\n",
    "* using an identifier which has not been defined\n",
    "* accessing a list element, dictionary value or object attribute which doesn’t exist\n",
    "* trying to access a file which doesn’t exist"
   ]
  },
  {
   "cell_type": "markdown",
   "id": "79a6048b",
   "metadata": {},
   "source": [
    "<b>Logical errors</b>"
   ]
  },
  {
   "cell_type": "markdown",
   "id": "77ae676a",
   "metadata": {},
   "source": [
    "Logical errors are the most difficult to fix. They occur when the program runs without crashing, but produces an incorrect result. The error is caused by a mistake in the program’s logic. You won’t get an error message, because no syntax or runtime error has occurred. You will have to find the problem on your own by reviewing all the relevant parts of your code – although some tools can flag suspicious code which looks like it could cause unexpected behaviour.\n",
    "\n",
    "Sometimes there can be absolutely nothing wrong with your Python implementation of an algorithm – the algorithm itself can be incorrect. However, more frequently these kinds of errors are caused by programmer carelessness.\n",
    "\n",
    "some examples of mistakes which lead to logical errors:\n",
    "* using the wrong variable name\n",
    "* indenting a block to the wrong level\n",
    "* using integer division instead of floating-point division\n",
    "* getting operator precedence wrong\n",
    "* making a mistake in a boolean expression\n",
    "* off-by-one, and other numerical errors\n"
   ]
  },
  {
   "cell_type": "markdown",
   "id": "8fd9a36a",
   "metadata": {},
   "source": [
    "### Handling exceptions"
   ]
  },
  {
   "cell_type": "markdown",
   "id": "9821d6c1",
   "metadata": {},
   "source": [
    "* Until now, the programs that we have written have generally ignored the fact that things can go wrong. We have tried to prevent runtime errors by checking data which may be incorrect before we used it, but we haven’t yet seen how we can handle errors when they do occur – our programs so far have just crashed suddenly whenever they have encountered one.\n",
    "\n",
    "* There are some situations in which runtime errors are likely to occur. Whenever we try to read a file or get input from a user, there is a chance that something unexpected will happen – the file may have been moved or deleted, and the user may enter data which is not in the right format. Good programmers should add safeguards to their programs so that common situations like this can be handled gracefully – a program which crashes whenever it encounters an easily foreseeable problem is not very pleasant to use. Most users expect programs to be robust enough to recover from these kinds of setbacks.\n",
    "\n",
    "* If we know that a particular section of our program is likely to cause an error, we can tell Python what to do if it does happen. Instead of letting the error crash our program we can intercept it, do something about it, and allow the program to continue.\n",
    "\n",
    "* All the runtime (and syntax) errors that we have encountered are called <b>exceptions</b> in Python – Python uses them to indicate that something exceptional has occurred, and that your program cannot continue unless it is handled. All exceptions are subclasses of the <b>Exception class</b>. "
   ]
  },
  {
   "cell_type": "markdown",
   "id": "41627150",
   "metadata": {},
   "source": [
    "<b>The try and except statements</b>"
   ]
  },
  {
   "cell_type": "markdown",
   "id": "578b05bf",
   "metadata": {},
   "source": [
    "* The <b>try</b> block lets you test a block of code for errors.\n",
    "\n",
    "* The <b>except</b> block lets you handle the error."
   ]
  },
  {
   "cell_type": "code",
   "execution_count": 1,
   "id": "4f6f493e",
   "metadata": {},
   "outputs": [
    {
     "name": "stdout",
     "output_type": "stream",
     "text": [
      "Please enter your age: 4\n",
      "I see that you are 4 years old.\n"
     ]
    }
   ],
   "source": [
    "try:\n",
    "    age = int(input(\"Please enter your age: \"))\n",
    "    print(\"I see that you are %d years old.\" %age)\n",
    "    \n",
    "except ValueError:\n",
    "    print(\"Hey, that was not a number!\")"
   ]
  },
  {
   "cell_type": "code",
   "execution_count": 2,
   "id": "c7a8535e",
   "metadata": {},
   "outputs": [
    {
     "name": "stdout",
     "output_type": "stream",
     "text": [
      "Please enter your divident: 4\n",
      "Please enter your divisor: 3\n",
      "4 / 3 =  1.333333\n"
     ]
    }
   ],
   "source": [
    "try:\n",
    "    divident = int(input(\"Please enter your divident: \"))\n",
    "    divisor = int(input(\"Please enter your divisor: \"))\n",
    "    print(\"%d / %d = % f\" % (divident, divisor, divident/divisor))\n",
    "    \n",
    "except(ValueError, ZeroDivisionError):\n",
    "    print(\"Oop's something went wrong\")"
   ]
  },
  {
   "cell_type": "markdown",
   "id": "73881cf7",
   "metadata": {},
   "source": [
    "* A <b>try-except</b> block can also have multiple except clauses. If an exception occurs, Python will check each except clause from the top down to see if the exception type matches. If none of the except clauses match, the exception will be considered unhandled, and your program will crash."
   ]
  },
  {
   "cell_type": "code",
   "execution_count": 3,
   "id": "f0596633",
   "metadata": {
    "scrolled": false
   },
   "outputs": [
    {
     "name": "stdout",
     "output_type": "stream",
     "text": [
      "Please enter the dividend: 43\n",
      "Please enter the divisor: \n",
      "The divisor and dividend have to be numbers!\n"
     ]
    }
   ],
   "source": [
    "try:\n",
    "    dividend = int(input(\"Please enter the dividend: \"))\n",
    "    divisor = int(input(\"Please enter the divisor: \"))\n",
    "    print(\"%d / %d = %f\" % (dividend, divisor, dividend/divisor))\n",
    "    \n",
    "except ValueError:\n",
    "    print(\"The divisor and dividend have to be numbers!\")\n",
    "\n",
    "except ZeroDivisionError:\n",
    "    print(\"The dividend may not be zero!\")\n",
    "    "
   ]
  },
  {
   "cell_type": "markdown",
   "id": "c033d77d",
   "metadata": {},
   "source": [
    "<b>How an exception is handled</b>"
   ]
  },
  {
   "cell_type": "markdown",
   "id": "babf69bd",
   "metadata": {},
   "source": [
    "* When an exception occurs, the normal flow of execution is interrupted. Python checks to see if the line of code which caused the exception is inside a try block. If it is, it checks to see if any of the except blocks associated with the try block can handle that type of exception. If an appropriate handler is found, the exception is handled, and the program continues from the next statement after the end of that try-except.\n",
    "\n",
    "* If there is no such handler, or if the line of code was not in a try block, Python will go up one level of scope: if the line of code which caused the exception was inside a function, that function will exit immediately, and the line which called the function will be treated as if it had thrown the exception. Python will check if that line is inside a try block, and so on. When a function is called, it is placed on Python’s stack, which we will discuss in the chapter about functions. Python traverses this stack when it tries to handle an exception.\n",
    "\n",
    "* If an exception is thrown by a line which is in the main body of your program, not inside a function, the program will terminate. When the exception message is printed, you should also see a traceback – a list which shows the path the exception has taken, all the way back to the original line which caused the error."
   ]
  },
  {
   "cell_type": "markdown",
   "id": "d9239c76",
   "metadata": {},
   "source": [
    "<b>Error checks vs exception handling</b>"
   ]
  },
  {
   "cell_type": "markdown",
   "id": "6ff07228",
   "metadata": {},
   "source": [
    "Exception handling gives us an alternative way to deal with error-prone situations in our code. Instead of performing more checks before we do something to make sure that an error will not occur, we just try to do it – and if an error does occur we handle it. This can allow us to write simpler and more readable code.\n",
    "\n",
    "Advantages of exception handling:\n",
    "* It separates normal code from code that handles errors.\n",
    "* Exceptions can easily be passed along functions in the stack until they reach a function which knows how to handle them. The intermediate functions don’t need to have any error-handling code.\n",
    "* Exceptions come with lots of useful error information built in – for example, they can print a traceback which helps us to see exactly where the error occurred."
   ]
  },
  {
   "cell_type": "markdown",
   "id": "f5bdcd2b",
   "metadata": {},
   "source": [
    "<b>The else and finally statements</b>"
   ]
  },
  {
   "cell_type": "markdown",
   "id": "47c37a70",
   "metadata": {},
   "source": [
    "* <b>else</b> will be executed only if the try clause doesn’t raise an exception.\n",
    "\n",
    "* The <b>finally</b> block lets you execute code, regardless of the result of the try- and except blocks.\n",
    "\n",
    "* The <b>finally</b> clause will be executed at the end of the try-except block no matter what – if there is no exception, if an exception is raised and handled, if an exception is raised and not handled, and even if we exit the block using break, continue or return. We can use the finally clause for cleanup code that we always want to be executed."
   ]
  },
  {
   "cell_type": "code",
   "execution_count": 6,
   "id": "10c4116c",
   "metadata": {},
   "outputs": [
    {
     "name": "stdout",
     "output_type": "stream",
     "text": [
      "Hello\n",
      "Nothing went wrong\n",
      "Something went wrong\n",
      "The 'try except' is finished\n"
     ]
    }
   ],
   "source": [
    "#else statement\n",
    "try:\n",
    "    print(\"Hello\")\n",
    "except:\n",
    "    print(\"Something went wrong\")\n",
    "else:\n",
    "    print(\"Nothing went wrong\")\n",
    "    \n",
    "#finally statement \n",
    "try:\n",
    "    print(x)\n",
    "except:\n",
    "    print(\"Something went wrong\")\n",
    "finally:\n",
    "    print(\"The 'try except' is finished\")"
   ]
  },
  {
   "cell_type": "markdown",
   "id": "090e5275",
   "metadata": {},
   "source": [
    "<b>The with statement</b>"
   ]
  },
  {
   "cell_type": "markdown",
   "id": "67b3922e",
   "metadata": {},
   "source": [
    "<b>Using the exception object</b>\n",
    "\n",
    "Python’s exception objects contain more information than just the error type. They also come with some kind of message – we have already seen some of these messages displayed when our programs have crashed. Often these messages aren’t very user-friendly – if we want to report an error to the user we usually need to write a more descriptive message which explains how the error is related to what the user did.\n",
    "\n",
    "For example, if the error was caused by incorrect input, it is helpful to tell the user which of the input values was incorrect.\n",
    "\n",
    "Sometimes the exception message contains useful information which we want to display to the user. In order to access the message, we need to be able to access the exception object.We can assign the object to a variable that we can use inside the except clause. \n"
   ]
  },
  {
   "cell_type": "code",
   "execution_count": 9,
   "id": "94ea5d08",
   "metadata": {},
   "outputs": [
    {
     "name": "stdout",
     "output_type": "stream",
     "text": [
      "Please enter your age: 4\n",
      "Please enter your age: ffd\n",
      "You entered incorrect age input: invalid literal for int() with base 10: 'ffd'\n"
     ]
    }
   ],
   "source": [
    "try:\n",
    "    age = int(input(\"Please enter your age: \"))\n",
    "except ValueError as err:\n",
    "    print(err)\n",
    "    \n",
    "#We can also combine the exception message with our own message\n",
    "try:\n",
    "    age = int(input(\"Please enter your age: \"))\n",
    "except ValueError as err:\n",
    "    print(\"You entered incorrect age input: %s\" %err)"
   ]
  },
  {
   "cell_type": "markdown",
   "id": "63513f75",
   "metadata": {},
   "source": [
    "<b>Raising exceptions</b>"
   ]
  },
  {
   "cell_type": "markdown",
   "id": "c78ddbf3",
   "metadata": {},
   "source": [
    "* As a Python developer you can choose to throw an exception if a condition occurs.\n",
    "\n",
    "* To throw (or raise) an exception, use the <b>raise keyword.</b>\n",
    "\n",
    "* You can define what kind of error to raise, and the text to print to the user.\n",
    "\n"
   ]
  },
  {
   "cell_type": "code",
   "execution_count": 24,
   "id": "4ca540cc",
   "metadata": {},
   "outputs": [
    {
     "ename": "Exception",
     "evalue": "Sorry, no numbers below zero",
     "output_type": "error",
     "traceback": [
      "\u001b[1;31m---------------------------------------------------------------------------\u001b[0m",
      "\u001b[1;31mException\u001b[0m                                 Traceback (most recent call last)",
      "Input \u001b[1;32mIn [24]\u001b[0m, in \u001b[0;36m<cell line: 3>\u001b[1;34m()\u001b[0m\n\u001b[0;32m      2\u001b[0m x \u001b[38;5;241m=\u001b[39m \u001b[38;5;241m-\u001b[39m\u001b[38;5;241m1\u001b[39m\n\u001b[0;32m      3\u001b[0m \u001b[38;5;28;01mif\u001b[39;00m x\u001b[38;5;241m<\u001b[39m\u001b[38;5;241m0\u001b[39m:\n\u001b[1;32m----> 4\u001b[0m     \u001b[38;5;28;01mraise\u001b[39;00m \u001b[38;5;167;01mException\u001b[39;00m(\u001b[38;5;124m\"\u001b[39m\u001b[38;5;124mSorry, no numbers below zero\u001b[39m\u001b[38;5;124m\"\u001b[39m)\n",
      "\u001b[1;31mException\u001b[0m: Sorry, no numbers below zero"
     ]
    }
   ],
   "source": [
    "#Raise an error and stop the program if x is lower than 0\n",
    "x = -1\n",
    "if x<0:\n",
    "    raise Exception(\"Sorry, no numbers below zero\")"
   ]
  },
  {
   "cell_type": "code",
   "execution_count": 23,
   "id": "35aa16ed",
   "metadata": {},
   "outputs": [
    {
     "ename": "TypeError",
     "evalue": "Only integers are allowed",
     "output_type": "error",
     "traceback": [
      "\u001b[1;31m---------------------------------------------------------------------------\u001b[0m",
      "\u001b[1;31mTypeError\u001b[0m                                 Traceback (most recent call last)",
      "Input \u001b[1;32mIn [23]\u001b[0m, in \u001b[0;36m<cell line: 3>\u001b[1;34m()\u001b[0m\n\u001b[0;32m      2\u001b[0m x \u001b[38;5;241m=\u001b[39m \u001b[38;5;124m\"\u001b[39m\u001b[38;5;124mHello\u001b[39m\u001b[38;5;124m\"\u001b[39m\n\u001b[0;32m      3\u001b[0m \u001b[38;5;28;01mif\u001b[39;00m x \u001b[38;5;129;01mis\u001b[39;00m \u001b[38;5;129;01mnot\u001b[39;00m \u001b[38;5;28mint\u001b[39m:\n\u001b[1;32m----> 4\u001b[0m     \u001b[38;5;28;01mraise\u001b[39;00m \u001b[38;5;167;01mTypeError\u001b[39;00m(\u001b[38;5;124m\"\u001b[39m\u001b[38;5;124mOnly integers are allowed\u001b[39m\u001b[38;5;124m\"\u001b[39m)\n",
      "\u001b[1;31mTypeError\u001b[0m: Only integers are allowed"
     ]
    }
   ],
   "source": [
    "#Raise a TypeError if x is not an integer\n",
    "x = \"Hello\"\n",
    "if x is not int:\n",
    "    raise TypeError(\"Only integers are allowed\")"
   ]
  },
  {
   "cell_type": "markdown",
   "id": "bcff8558",
   "metadata": {},
   "source": [
    "Here are a few common exception types which we are likely to raise in our own code:\n",
    "* <b>TypeError:</b> this is an error which indicates that a variable has the wrong type for some operation. We might raise it in a function if a parameter is not of a type that we know how to handle.\n",
    "* <b>ValueError:</b> this error is used to indicate that a variable has the right type but the wrong value."
   ]
  },
  {
   "cell_type": "code",
   "execution_count": 19,
   "id": "99af24f9",
   "metadata": {
    "scrolled": true
   },
   "outputs": [
    {
     "name": "stdout",
     "output_type": "stream",
     "text": [
      "Please enter your age: 5\n"
     ]
    }
   ],
   "source": [
    "try:\n",
    "    age = int(input(\"Please enter your age: \"))\n",
    "except ValueError as err:\n",
    "    print(\"You entered incorrect age input: %s\" % err)\n",
    "    raise err"
   ]
  }
 ],
 "metadata": {
  "kernelspec": {
   "display_name": "Python 3 (ipykernel)",
   "language": "python",
   "name": "python3"
  },
  "language_info": {
   "codemirror_mode": {
    "name": "ipython",
    "version": 3
   },
   "file_extension": ".py",
   "mimetype": "text/x-python",
   "name": "python",
   "nbconvert_exporter": "python",
   "pygments_lexer": "ipython3",
   "version": "3.9.12"
  }
 },
 "nbformat": 4,
 "nbformat_minor": 5
}

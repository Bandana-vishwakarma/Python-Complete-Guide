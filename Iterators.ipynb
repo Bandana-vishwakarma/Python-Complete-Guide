{
 "cells": [
  {
   "cell_type": "markdown",
   "id": "4c25a419",
   "metadata": {},
   "source": [
    "### Python Iterators "
   ]
  },
  {
   "cell_type": "markdown",
   "id": "b38fc3db",
   "metadata": {},
   "source": [
    "* An iterator is an object that contains a countable number of values.\n",
    "* An iterator is an object that can be iterated upon, meaning that you can traverse through all the values.\n",
    "* An iterator is an object which implements the iterator protocol, which consist of the methods <b>__iter__()</b> and <b>__next__()</b>."
   ]
  },
  {
   "cell_type": "markdown",
   "id": "e81fd64e",
   "metadata": {},
   "source": [
    "<b>Iterator vs Iterable</b>"
   ]
  },
  {
   "cell_type": "markdown",
   "id": "ab626387",
   "metadata": {},
   "source": [
    "* Lists, tuples, dictionaries, and sets are all iterable objects. They are iterable containers which you can get an iterator from.\n",
    "* All these objects have a <b>iter()</b> method which is used to get an iterator"
   ]
  },
  {
   "cell_type": "code",
   "execution_count": 5,
   "id": "712d6a97",
   "metadata": {},
   "outputs": [
    {
     "name": "stdout",
     "output_type": "stream",
     "text": [
      "apple\n",
      "banana\n",
      "orange\n",
      "cherry\n",
      "a\n",
      "p\n",
      "p\n",
      "l\n",
      "e\n"
     ]
    }
   ],
   "source": [
    "#iteration with tuple\n",
    "x = (\"apple\", \"banana\", \"orange\", \"cherry\" )\n",
    "y = iter(x)\n",
    "\n",
    "print(next(y))\n",
    "print(next(y))\n",
    "print(next(y))\n",
    "print(next(y))\n",
    "\n",
    "#Strings are also iterable objects\n",
    "x = \"apple\"\n",
    "y = iter(x)\n",
    "\n",
    "print(next(y))\n",
    "print(next(y))\n",
    "print(next(y))\n",
    "print(next(y))\n",
    "print(next(y))"
   ]
  },
  {
   "cell_type": "markdown",
   "id": "ddfea506",
   "metadata": {},
   "source": [
    "<b>Looping through an iterator</b>"
   ]
  },
  {
   "cell_type": "markdown",
   "id": "26492c56",
   "metadata": {},
   "source": [
    "* We can also use a <b>for</b> loop to iterate through an iterable object.\n",
    "* The for loop actually creates an iterator object and executes the next() method for each loop."
   ]
  },
  {
   "cell_type": "code",
   "execution_count": 6,
   "id": "02f0e994",
   "metadata": {},
   "outputs": [
    {
     "name": "stdout",
     "output_type": "stream",
     "text": [
      "apple\n",
      "banana\n",
      "orange\n",
      "b\n",
      "a\n",
      "n\n",
      "a\n",
      "n\n",
      "a\n"
     ]
    }
   ],
   "source": [
    "#iteration with list\n",
    "list1 = [\"apple\", \"banana\", \"orange\"]\n",
    "for x in list1:\n",
    "    print(x)\n",
    "    \n",
    "#iteration with string\n",
    "str1 = \"banana\"\n",
    "for x in str1:\n",
    "    print(x)"
   ]
  },
  {
   "cell_type": "markdown",
   "id": "51d63ba0",
   "metadata": {},
   "source": [
    "<b>Create an Iterator</b>"
   ]
  },
  {
   "cell_type": "markdown",
   "id": "137ce86b",
   "metadata": {},
   "source": [
    "* To create an object/class as an iterator you have to implement the methods <b>__iter__()</b> and <b>__next__()</b> to your object.\n",
    "\n",
    "* As you have learned in the Python Classes/Objects chapter, all classes have a function called __init__(), which allows you to do some initializing when the object is being created.\n",
    "\n",
    "* The __iter__() method acts similar, you can do operations (initializing etc.), but must always return the iterator object itself.\n",
    "\n",
    "* The __next__() method also allows you to do operations, and must return the next item in the sequence."
   ]
  },
  {
   "cell_type": "code",
   "execution_count": 7,
   "id": "d69d707e",
   "metadata": {},
   "outputs": [
    {
     "name": "stdout",
     "output_type": "stream",
     "text": [
      "1\n",
      "2\n",
      "3\n",
      "4\n",
      "5\n",
      "6\n",
      "7\n"
     ]
    }
   ],
   "source": [
    "class MyNumbers:\n",
    "    def __iter__(self):\n",
    "        self.a = 1\n",
    "        return self\n",
    "    \n",
    "    def __next__(self):\n",
    "        x = self.a\n",
    "        self.a += 1\n",
    "        return x\n",
    "    \n",
    "myclass = MyNumbers()\n",
    "myiter = iter(myclass)\n",
    "\n",
    "print(next(myiter))\n",
    "print(next(myiter))\n",
    "print(next(myiter))\n",
    "print(next(myiter))\n",
    "print(next(myiter))\n",
    "print(next(myiter))\n",
    "print(next(myiter))"
   ]
  },
  {
   "cell_type": "markdown",
   "id": "fb161380",
   "metadata": {},
   "source": [
    "<b>StopIteration</b>"
   ]
  },
  {
   "cell_type": "markdown",
   "id": "dc7f3f6f",
   "metadata": {},
   "source": [
    "* The example above would continue forever if you had enough next() statements, or if it was used in a for loop.\n",
    "\n",
    "* To prevent the iteration to go on forever, we can use the <b>StopIteration</b> statement.\n",
    "\n",
    "* In the __next__() method, we can add a terminating condition to raise an error if the iteration is done a specified number of times:"
   ]
  },
  {
   "cell_type": "code",
   "execution_count": 8,
   "id": "615523cc",
   "metadata": {},
   "outputs": [
    {
     "name": "stdout",
     "output_type": "stream",
     "text": [
      "1\n",
      "2\n",
      "3\n",
      "4\n",
      "5\n",
      "6\n",
      "7\n",
      "8\n",
      "9\n",
      "10\n",
      "11\n",
      "12\n",
      "13\n",
      "14\n",
      "15\n",
      "16\n",
      "17\n",
      "18\n",
      "19\n",
      "20\n"
     ]
    }
   ],
   "source": [
    "class MyNumbers:\n",
    "    def __iter__(self):\n",
    "        self.a = 1\n",
    "        return self\n",
    "    \n",
    "    def __next__(self):\n",
    "        if self.a <=20:\n",
    "            x = self.a\n",
    "            self.a += 1\n",
    "            return  x\n",
    "        else:\n",
    "            raise StopIteration\n",
    "            \n",
    "myclass = MyNumbers()\n",
    "myiter = iter(myclass)\n",
    "\n",
    "for x in myiter:\n",
    "    print(x)"
   ]
  }
 ],
 "metadata": {
  "kernelspec": {
   "display_name": "Python 3 (ipykernel)",
   "language": "python",
   "name": "python3"
  },
  "language_info": {
   "codemirror_mode": {
    "name": "ipython",
    "version": 3
   },
   "file_extension": ".py",
   "mimetype": "text/x-python",
   "name": "python",
   "nbconvert_exporter": "python",
   "pygments_lexer": "ipython3",
   "version": "3.9.12"
  }
 },
 "nbformat": 4,
 "nbformat_minor": 5
}

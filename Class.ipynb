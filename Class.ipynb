{
 "cells": [
  {
   "cell_type": "markdown",
   "id": "7fee1432",
   "metadata": {},
   "source": [
    "### Class"
   ]
  },
  {
   "cell_type": "markdown",
   "id": "07e5c578",
   "metadata": {},
   "source": [
    "* class is a definition of something.\n",
    "* A Class is like an object constructor, or a \"blueprint\" for creating objects."
   ]
  },
  {
   "cell_type": "code",
   "execution_count": 1,
   "id": "51a16aa9",
   "metadata": {
    "scrolled": true
   },
   "outputs": [
    {
     "name": "stdout",
     "output_type": "stream",
     "text": [
      "<class '__main__.myclass'>\n",
      "5\n"
     ]
    }
   ],
   "source": [
    "#creating a class\n",
    "class myclass:\n",
    "    x = 5\n",
    "print(myclass)    \n",
    "\n",
    "#create object\n",
    "class myclass:\n",
    "    x = 5\n",
    "Myclass = myclass()\n",
    "print(Myclass.x)"
   ]
  },
  {
   "cell_type": "markdown",
   "id": "bcb5b290",
   "metadata": {},
   "source": [
    "<b>The __init__() function</b>\n",
    "* All classes have a function called __init__(), which is always executed when the class is being initiated.\n",
    "* __init__() function is use to assign values to object properties, or other operations that are necessary to do when the object is being created.\n",
    "* The __init__() function is called automatically every time the class is being used to create a new object."
   ]
  },
  {
   "cell_type": "code",
   "execution_count": 2,
   "id": "d3879c68",
   "metadata": {},
   "outputs": [
    {
     "name": "stdout",
     "output_type": "stream",
     "text": [
      "sara\n",
      "43\n"
     ]
    }
   ],
   "source": [
    "#The __init__() Function  \n",
    "class Person:\n",
    "    def __init__(self, name, age):\n",
    "        self.name = name\n",
    "        self.age  = age\n",
    "        \n",
    "person = Person(\"sara\", 43)\n",
    "print(person.name)\n",
    "print(person.age)"
   ]
  },
  {
   "cell_type": "markdown",
   "id": "3ca45646",
   "metadata": {},
   "source": [
    "<b>The __str__() Function</b>\n",
    "* The __str__() function controls what should be returned when the class object is represented as a string.\n",
    "* If the __str__() function is not set, the string representation of the object is returned."
   ]
  },
  {
   "cell_type": "code",
   "execution_count": 3,
   "id": "57d27707",
   "metadata": {},
   "outputs": [
    {
     "name": "stdout",
     "output_type": "stream",
     "text": [
      "<__main__.Person object at 0x0000020EC2083520>\n",
      "Rama(23)\n"
     ]
    }
   ],
   "source": [
    "#WITHOUT the __str__() function\n",
    "class Person:\n",
    "    def __init__(self, name, age):\n",
    "        self.name = name\n",
    "        self.age = age\n",
    "        \n",
    "person = Person(\"Rama\", 23) \n",
    "print(person)\n",
    "\n",
    "#WITH the __str__() function\n",
    "class Person:\n",
    "    def __init__(self, name, age):\n",
    "        self.name = name\n",
    "        self.age = age\n",
    "        \n",
    "    def  __str__(self):\n",
    "        return f\"{self.name}({self.age})\"\n",
    "    \n",
    "person = Person(\"Rama\", 23) \n",
    "print(person)"
   ]
  },
  {
   "cell_type": "markdown",
   "id": "61e8d740",
   "metadata": {},
   "source": [
    "<b>Object Methods</b>"
   ]
  },
  {
   "cell_type": "markdown",
   "id": "c09e57c7",
   "metadata": {},
   "source": [
    "* Objects can also contain methods. Methods in objects are functions that belong to the object.\n",
    "* if a function is created inside of a class that's called method.\n",
    "* <b>Note :</b> The self parameter is a reference to the current instance of the class, and is used to access variables that belong to the class."
   ]
  },
  {
   "cell_type": "code",
   "execution_count": 4,
   "id": "3d143141",
   "metadata": {},
   "outputs": [
    {
     "name": "stdout",
     "output_type": "stream",
     "text": [
      "Hello there it's me Rama\n"
     ]
    }
   ],
   "source": [
    "#Object Methods\n",
    "class Person:\n",
    "    def __init__(self, name, age):\n",
    "        self.name = name\n",
    "        self.age = age\n",
    "        \n",
    "    def myfunc(self):\n",
    "        print(\"Hello there it's me \" + self.name)\n",
    "        \n",
    "        \n",
    "person = Person(\"Rama\", 23) \n",
    "person.myfunc()"
   ]
  },
  {
   "cell_type": "markdown",
   "id": "565588d4",
   "metadata": {},
   "source": [
    "<b>The self Parameter</b>"
   ]
  },
  {
   "cell_type": "markdown",
   "id": "f9a1da55",
   "metadata": {},
   "source": [
    "* The self parameter is a reference to the current instance of the class, and is used to access variables that belongs to the class.\n",
    "\n",
    "* It does not have to be named self , you can call it whatever you like, but it has to be the first parameter of any function in the class"
   ]
  },
  {
   "cell_type": "code",
   "execution_count": 5,
   "id": "1c5a41c1",
   "metadata": {},
   "outputs": [
    {
     "name": "stdout",
     "output_type": "stream",
     "text": [
      "Hello there it's me Rama\n"
     ]
    }
   ],
   "source": [
    "\"\"\"Use the words mysillyobject and abc\n",
    "instead of self.\"\"\"\n",
    "class Person:\n",
    "    def __init__(mysillyobject, name, age):\n",
    "        mysillyobject.name = name\n",
    "        mysillyobject.age = age\n",
    "        \n",
    "    def myfunc(abc):\n",
    "        print(\"Hello there it's me \" + abc.name)\n",
    "        \n",
    "        \n",
    "person = Person(\"Rama\", 23) \n",
    "person.myfunc()"
   ]
  },
  {
   "cell_type": "code",
   "execution_count": 6,
   "id": "9f877859",
   "metadata": {},
   "outputs": [],
   "source": [
    "#Modify Object Properties\n",
    "person.age = 40\n",
    "\n",
    "#Delete Object Properties\n",
    "del person.age"
   ]
  },
  {
   "cell_type": "markdown",
   "id": "85a8931d",
   "metadata": {},
   "source": [
    "<b>The pass Statement</b>"
   ]
  },
  {
   "cell_type": "markdown",
   "id": "7dae3a72",
   "metadata": {},
   "source": [
    "* class definitions cannot be empty, but if you for some reason have a class definition with no content, put in the pass statement to avoid getting an error."
   ]
  },
  {
   "cell_type": "code",
   "execution_count": 8,
   "id": "f7d6afc7",
   "metadata": {},
   "outputs": [],
   "source": [
    "class Person:\n",
    "    pass"
   ]
  },
  {
   "cell_type": "markdown",
   "id": "c454b986",
   "metadata": {},
   "source": [
    "<b>class methods and static methods</b>"
   ]
  },
  {
   "cell_type": "code",
   "execution_count": 13,
   "id": "bb82458a",
   "metadata": {},
   "outputs": [
    {
     "name": "stdout",
     "output_type": "stream",
     "text": [
      "Called instance_method of <__main__.ClassTest object at 0x0000020EC336CD30>\n",
      "called class_method of <class '__main__.ClassTest'>\n",
      "Called static_method\n"
     ]
    }
   ],
   "source": [
    "#instance_method()\n",
    "class ClassTest:\n",
    "    def instance_method(self):\n",
    "        print(f\"Called instance_method of {self}\")\n",
    "        \n",
    "    @classmethod\n",
    "    def class_method(cls):\n",
    "        print(f\"called class_method of {cls}\")\n",
    "    \n",
    "    @staticmethod\n",
    "    def static_method():\n",
    "        print(\"Called static_method\")\n",
    "                \n",
    "test = ClassTest()\n",
    "test.instance_method()\n",
    "ClassTest.class_method()\n",
    "ClassTest.static_method()"
   ]
  }
 ],
 "metadata": {
  "kernelspec": {
   "display_name": "Python 3 (ipykernel)",
   "language": "python",
   "name": "python3"
  },
  "language_info": {
   "codemirror_mode": {
    "name": "ipython",
    "version": 3
   },
   "file_extension": ".py",
   "mimetype": "text/x-python",
   "name": "python",
   "nbconvert_exporter": "python",
   "pygments_lexer": "ipython3",
   "version": "3.9.12"
  }
 },
 "nbformat": 4,
 "nbformat_minor": 5
}

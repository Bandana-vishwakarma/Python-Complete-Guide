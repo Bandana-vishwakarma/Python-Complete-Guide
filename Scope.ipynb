{
 "cells": [
  {
   "cell_type": "markdown",
   "id": "bca0fe00",
   "metadata": {},
   "source": [
    "### Python Scope"
   ]
  },
  {
   "cell_type": "markdown",
   "id": "11a9328a",
   "metadata": {},
   "source": [
    "A variable  is only available from inside the region it is created. This is called scope."
   ]
  },
  {
   "cell_type": "markdown",
   "id": "43d091ce",
   "metadata": {},
   "source": [
    "<b>Local Variable</b>"
   ]
  },
  {
   "cell_type": "markdown",
   "id": "abb8b969",
   "metadata": {},
   "source": [
    "* A variable created inside a function belongs to the local scope of that function, and can only be used inside that function."
   ]
  },
  {
   "cell_type": "code",
   "execution_count": 1,
   "id": "aed254af",
   "metadata": {},
   "outputs": [
    {
     "name": "stdout",
     "output_type": "stream",
     "text": [
      "23\n"
     ]
    }
   ],
   "source": [
    "#Local variable\n",
    "def myfunc():\n",
    "    x = 23   \n",
    "    print(x)\n",
    "    \n",
    "myfunc() "
   ]
  },
  {
   "cell_type": "markdown",
   "id": "b4e959c8",
   "metadata": {},
   "source": [
    "<b>Function Inside Function</b>"
   ]
  },
  {
   "cell_type": "markdown",
   "id": "e156bef8",
   "metadata": {},
   "source": [
    "* A variable which is inside the function is not available for outside the function, but it is available for any function inside the function."
   ]
  },
  {
   "cell_type": "code",
   "execution_count": 4,
   "id": "510df5f0",
   "metadata": {},
   "outputs": [
    {
     "name": "stdout",
     "output_type": "stream",
     "text": [
      "34\n"
     ]
    }
   ],
   "source": [
    "def myfunc():\n",
    "    x = 34\n",
    "    def myinnerfunc():\n",
    "        print(x)\n",
    "    myinnerfunc()\n",
    "    \n",
    "myfunc() \n"
   ]
  },
  {
   "cell_type": "markdown",
   "id": "208b3bc6",
   "metadata": {},
   "source": [
    "<b>Global Scope</b>"
   ]
  },
  {
   "cell_type": "markdown",
   "id": "3bfa89e4",
   "metadata": {},
   "source": [
    "* A variable created in the main body of the Python code is a global variable and belongs to the global scope.\n",
    "\n",
    "* Global variables are available from within any scope, global and local."
   ]
  },
  {
   "cell_type": "code",
   "execution_count": 5,
   "id": "1e55dc1c",
   "metadata": {},
   "outputs": [
    {
     "name": "stdout",
     "output_type": "stream",
     "text": [
      "45\n",
      "45\n"
     ]
    }
   ],
   "source": [
    "x = 45\n",
    "def myfunc():\n",
    "    print(x)\n",
    "    \n",
    "myfunc()\n",
    "print(x)"
   ]
  },
  {
   "cell_type": "markdown",
   "id": "2d9150ab",
   "metadata": {},
   "source": [
    "<b>Naming Variables</b>"
   ]
  },
  {
   "cell_type": "markdown",
   "id": "d7bfeb8e",
   "metadata": {},
   "source": [
    "* If you operate with the same variable name inside and outside of a function, Python will treat them as two separate variables, one available in the global scope (outside the function) and one available in the local scope (inside the function)."
   ]
  },
  {
   "cell_type": "code",
   "execution_count": 6,
   "id": "5ef304f5",
   "metadata": {},
   "outputs": [
    {
     "name": "stdout",
     "output_type": "stream",
     "text": [
      "57\n",
      "23\n"
     ]
    }
   ],
   "source": [
    "x = 23\n",
    "def myfunc():\n",
    "    x = 57\n",
    "    print(x)\n",
    "myfunc()\n",
    "print(x)"
   ]
  },
  {
   "cell_type": "markdown",
   "id": "58bb39ce",
   "metadata": {},
   "source": [
    "<b>Global Keyword</b>"
   ]
  },
  {
   "cell_type": "markdown",
   "id": "e80650e1",
   "metadata": {},
   "source": [
    "* If you need to create a global variable, but are stuck in the local scope, you can use the <b>global</b> keyword.\n",
    "\n",
    "* The global keyword makes the variable global.\n",
    "\n",
    "* Also, use the global keyword if you want to make a change to a global variable inside a function."
   ]
  },
  {
   "cell_type": "code",
   "execution_count": 10,
   "id": "88bb05b5",
   "metadata": {
    "scrolled": true
   },
   "outputs": [
    {
     "name": "stdout",
     "output_type": "stream",
     "text": [
      "34\n",
      "75\n",
      "75\n"
     ]
    }
   ],
   "source": [
    "def myfunc():\n",
    "    global x\n",
    "    x = 34\n",
    "    \n",
    "myfunc()\n",
    "print(x)\n",
    "\n",
    "#global keyword inside the function\n",
    "x = 87\n",
    "def myfunc():\n",
    "    global x\n",
    "    x = 75\n",
    "    \n",
    "print(x)  \n",
    "myfunc()"
   ]
  }
 ],
 "metadata": {
  "kernelspec": {
   "display_name": "Python 3 (ipykernel)",
   "language": "python",
   "name": "python3"
  },
  "language_info": {
   "codemirror_mode": {
    "name": "ipython",
    "version": 3
   },
   "file_extension": ".py",
   "mimetype": "text/x-python",
   "name": "python",
   "nbconvert_exporter": "python",
   "pygments_lexer": "ipython3",
   "version": "3.9.12"
  }
 },
 "nbformat": 4,
 "nbformat_minor": 5
}

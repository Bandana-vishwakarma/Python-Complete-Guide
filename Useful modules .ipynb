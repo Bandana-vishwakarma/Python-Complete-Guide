{
 "cells": [
  {
   "cell_type": "markdown",
   "id": "4979ea40",
   "metadata": {},
   "source": [
    "### Useful modules in the Standard Library"
   ]
  },
  {
   "cell_type": "markdown",
   "id": "45f69acf",
   "metadata": {},
   "source": [
    "#### Datetime Module"
   ]
  },
  {
   "cell_type": "markdown",
   "id": "f2ee85ac",
   "metadata": {},
   "source": [
    "* A date in Python is not a data type of its own, but we can import a module named datetime to work with dates as date objects."
   ]
  },
  {
   "cell_type": "code",
   "execution_count": 1,
   "id": "8dcba872",
   "metadata": {},
   "outputs": [
    {
     "name": "stdout",
     "output_type": "stream",
     "text": [
      "2022-11-19 17:27:56.763648\n",
      "2022\n",
      "Saturday\n"
     ]
    }
   ],
   "source": [
    "#display the current date and time\n",
    "import datetime\n",
    "x = datetime.datetime.now()\n",
    "print(x)\n",
    "\n",
    "#return the year and name of weekday\n",
    "import datetime\n",
    "x = datetime.datetime.now()\n",
    "\n",
    "print(x.year)\n",
    "print(x.strftime(\"%A\"))"
   ]
  },
  {
   "cell_type": "markdown",
   "id": "42955ce2",
   "metadata": {},
   "source": [
    "<b>Creating Date Objects</b>"
   ]
  },
  {
   "cell_type": "markdown",
   "id": "1b3fe6a8",
   "metadata": {},
   "source": [
    "* To create a date, we can use the datetime() class (constructor) of the datetime module.\n",
    "* The datetime() class requires three parameters to create a date: year, month, day."
   ]
  },
  {
   "cell_type": "code",
   "execution_count": 2,
   "id": "0e21bb05",
   "metadata": {},
   "outputs": [
    {
     "name": "stdout",
     "output_type": "stream",
     "text": [
      "2022-11-19 00:00:00\n"
     ]
    }
   ],
   "source": [
    "import datetime\n",
    "\n",
    "x = datetime.datetime(2022, 11, 19)\n",
    "print(x)"
   ]
  },
  {
   "cell_type": "markdown",
   "id": "84fbef9c",
   "metadata": {},
   "source": [
    "<b>The strftime() Method</b>"
   ]
  },
  {
   "cell_type": "markdown",
   "id": "3905dc49",
   "metadata": {},
   "source": [
    "* The datetime object has a method for formatting date objects into readable strings.\n",
    "\n",
    "* The method is called strftime(), and takes one parameter, format, to specify the format of the returned string"
   ]
  },
  {
   "cell_type": "code",
   "execution_count": 3,
   "id": "d6a1553e",
   "metadata": {},
   "outputs": [
    {
     "name": "stdout",
     "output_type": "stream",
     "text": [
      "March\n"
     ]
    }
   ],
   "source": [
    "#Display the name of the month\n",
    "import datetime\n",
    "\n",
    "x = datetime.datetime(2022, 3, 5)\n",
    "print(x.strftime(\"%B\"))"
   ]
  },
  {
   "cell_type": "markdown",
   "id": "eb444a79",
   "metadata": {},
   "source": [
    "<b>A reference of all the legal format codes:</b>"
   ]
  },
  {
   "cell_type": "markdown",
   "id": "7dfe44fd",
   "metadata": {},
   "source": [
    "* %a  :\tWeekday, short version\n",
    "* %A  : Weekday, full version\n",
    "* %w  : Weekday as a number 0-6, 0 is Sunday\n",
    "* %d  : Day of month 01-31\n",
    "* %b  : Month name, short version\n",
    "* %B  : Month name, full version\n",
    "* %m  :\tMonth as a number 01-12\n",
    "* %H  :\tHour 00-23"
   ]
  },
  {
   "cell_type": "markdown",
   "id": "72735150",
   "metadata": {},
   "source": [
    "<b>Math Module</b>"
   ]
  },
  {
   "cell_type": "markdown",
   "id": "04c1597f",
   "metadata": {},
   "source": [
    "Python has a set of built-in math functions, including an extensive math module, that allows you to perform mathematical tasks on numbers.\n",
    "\n",
    "<b>Built-in Math Functions</b>\n",
    "* The <b>min()</b> and <b>max()</b> functions can be used to find the lowest or highest value in an iterable.\n",
    "\n",
    "* The <b>abs()</b> function returns the absolute (positive) value of the specified number.\n",
    "\n",
    "* The <b>pow(x, y)</b> function returns the value of x to the power of y (x pow y)."
   ]
  },
  {
   "cell_type": "code",
   "execution_count": 4,
   "id": "05e1b377",
   "metadata": {},
   "outputs": [
    {
     "name": "stdout",
     "output_type": "stream",
     "text": [
      "34\n",
      "87\n",
      "45\n",
      "64\n",
      "2.0\n",
      "3\n",
      "2\n",
      "3.141592653589793\n"
     ]
    }
   ],
   "source": [
    "x = min(45, 78, 34)\n",
    "y = max(4, 56, 87)\n",
    "\n",
    "print(x)\n",
    "print(y)\n",
    "\n",
    "#abs() function\n",
    "x = abs(-45)\n",
    "print(x)\n",
    "\n",
    "#pow(x, y) function\n",
    "x = pow(4, 3)\n",
    "print(x)\n",
    "\n",
    "#math.sqrt() method \n",
    "import math\n",
    "x = math.sqrt(4)\n",
    "print(x)\n",
    "\n",
    "#math.ceil() method\n",
    "import math\n",
    "x = math.ceil(2.9)\n",
    "print(x)\n",
    "\n",
    "#math.floor() method\n",
    "import math\n",
    "x = math.floor(2.9)\n",
    "print(x)\n",
    "\n",
    "#math.pi constant\n",
    "import math\n",
    "x = math.pi\n",
    "print(x)"
   ]
  },
  {
   "cell_type": "markdown",
   "id": "f26baea0",
   "metadata": {},
   "source": [
    "<b>JSON Module</b>"
   ]
  },
  {
   "cell_type": "markdown",
   "id": "67bbf78d",
   "metadata": {},
   "source": [
    "* JSON is a syntax for storing and exchanging data.\n",
    "\n",
    "* JSON is text, written with JavaScript object notation.\n",
    "\n",
    "* Python has a built-in package called <b>json</b>, which can be used to work with JSON data."
   ]
  },
  {
   "cell_type": "code",
   "execution_count": 5,
   "id": "a0ecfea9",
   "metadata": {},
   "outputs": [],
   "source": [
    "#Import the json module\n",
    "import json"
   ]
  },
  {
   "cell_type": "markdown",
   "id": "bec407aa",
   "metadata": {},
   "source": [
    "<b>Parse JSON - Convert from JSON to Python</b>"
   ]
  },
  {
   "cell_type": "markdown",
   "id": "9be3dea1",
   "metadata": {},
   "source": [
    "* We can parse it by using the <b>json.loads()</b> method.\n",
    "* The result will be python dictionary"
   ]
  },
  {
   "cell_type": "code",
   "execution_count": 6,
   "id": "b1cf0331",
   "metadata": {},
   "outputs": [
    {
     "name": "stdout",
     "output_type": "stream",
     "text": [
      "30\n"
     ]
    }
   ],
   "source": [
    "import json\n",
    "\n",
    "x = '{ \"name\":\"John\", \"age\":30, \"city\":\"New York\"}'\n",
    "y = json.loads(x)\n",
    "print(y['age'])"
   ]
  },
  {
   "cell_type": "markdown",
   "id": "1306df88",
   "metadata": {},
   "source": [
    "<b>Convert from Python to JSON</b>"
   ]
  },
  {
   "cell_type": "markdown",
   "id": "71b2dfce",
   "metadata": {},
   "source": [
    "* If you have a Python object, you can convert it into a JSON string by using the <b>json.dumps()</b> method."
   ]
  },
  {
   "cell_type": "code",
   "execution_count": 7,
   "id": "cdae5a01",
   "metadata": {},
   "outputs": [
    {
     "name": "stdout",
     "output_type": "stream",
     "text": [
      "{\"name\": \"John\", \"age\": 30, \"city\": \"New York\"}\n"
     ]
    }
   ],
   "source": [
    "import json\n",
    "\n",
    "x = {\n",
    "  \"name\": \"John\",\n",
    "  \"age\": 30,\n",
    "  \"city\": \"New York\"\n",
    "}\n",
    "\n",
    "y = json.dumps(x)\n",
    "print(y)"
   ]
  },
  {
   "cell_type": "markdown",
   "id": "46378b01",
   "metadata": {},
   "source": [
    "We can convert Python objects of the following types, into JSON strings:\n",
    "* dict\n",
    "* list\n",
    "* tuple\n",
    "* string\n",
    "* int\n",
    "* float\n",
    "* True\n",
    "* False\n",
    "* None"
   ]
  },
  {
   "cell_type": "code",
   "execution_count": 8,
   "id": "6fee6743",
   "metadata": {},
   "outputs": [
    {
     "name": "stdout",
     "output_type": "stream",
     "text": [
      "{\"name\": \"John\", \"age\": 30}\n",
      "[\"apple\", \"bananas\"]\n",
      "[\"apple\", \"bananas\"]\n",
      "\"hello\"\n",
      "42\n",
      "31.76\n",
      "true\n",
      "false\n",
      "null\n"
     ]
    }
   ],
   "source": [
    "import json\n",
    "print(json.dumps({\"name\": \"John\", \"age\": 30}))\n",
    "print(json.dumps([\"apple\", \"bananas\"]))\n",
    "print(json.dumps((\"apple\", \"bananas\")))\n",
    "print(json.dumps(\"hello\"))\n",
    "print(json.dumps(42))\n",
    "print(json.dumps(31.76))\n",
    "print(json.dumps(True))\n",
    "print(json.dumps(False))\n",
    "print(json.dumps(None))"
   ]
  },
  {
   "cell_type": "markdown",
   "id": "c08e609b",
   "metadata": {},
   "source": [
    "<b>Format the Result</b>"
   ]
  },
  {
   "cell_type": "markdown",
   "id": "16166d37",
   "metadata": {},
   "source": [
    "* The json.dumps() method has <b>indent</b> parameters to make it easier to read the result.\n",
    "* You can also define the <b>separators</b>, default value is (\", \", \": \"), which means using a comma and a space to separate each object, and a colon and a space to separate keys from values."
   ]
  },
  {
   "cell_type": "code",
   "execution_count": 9,
   "id": "fec6a92f",
   "metadata": {},
   "outputs": [
    {
     "data": {
      "text/plain": [
       "'{\"name\" = \"John\". \"age\" = 30. \"city\" = \"New York\"}'"
      ]
     },
     "execution_count": 9,
     "metadata": {},
     "output_type": "execute_result"
    }
   ],
   "source": [
    "json.dumps(x, indent=4)\n",
    "json.dumps(x, separators = (\". \", \" = \"))"
   ]
  },
  {
   "cell_type": "markdown",
   "id": "c6abef71",
   "metadata": {},
   "source": [
    "<b>Order the Result</b>"
   ]
  },
  {
   "cell_type": "markdown",
   "id": "08d5eb4e",
   "metadata": {},
   "source": [
    "* The json.dumps() method has parameters to order the keys in the result"
   ]
  },
  {
   "cell_type": "code",
   "execution_count": 10,
   "id": "89025c6d",
   "metadata": {},
   "outputs": [
    {
     "data": {
      "text/plain": [
       "'{\\n    \"age\": 30,\\n    \"city\": \"New York\",\\n    \"name\": \"John\"\\n}'"
      ]
     },
     "execution_count": 10,
     "metadata": {},
     "output_type": "execute_result"
    }
   ],
   "source": [
    "# sort_keys parameter\n",
    "json.dumps(x, indent=4, sort_keys=True)"
   ]
  },
  {
   "cell_type": "markdown",
   "id": "25a505f5",
   "metadata": {},
   "source": [
    "<b>RegEx Module</b>"
   ]
  },
  {
   "cell_type": "markdown",
   "id": "b7840791",
   "metadata": {},
   "source": [
    "* A RegEx, or Regular Expression, is a sequence of characters that forms a search pattern.\n",
    "* RegEx can be used to check if a string contains the specified search pattern.\n",
    "* Python has a built-in package called <b>re</b>, which can be used to work with Regular Expressions."
   ]
  },
  {
   "cell_type": "code",
   "execution_count": 11,
   "id": "56e5fb9d",
   "metadata": {},
   "outputs": [],
   "source": [
    "import re"
   ]
  },
  {
   "cell_type": "code",
   "execution_count": 12,
   "id": "2f2665d1",
   "metadata": {},
   "outputs": [
    {
     "name": "stdout",
     "output_type": "stream",
     "text": [
      "No\n",
      "['The rain in India']\n",
      "['The', 'rain', 'in', 'Spain']\n",
      "The9rain9in9Spain\n"
     ]
    }
   ],
   "source": [
    "#Search the string to see if it starts with \"The\" and ends with \"India\"\n",
    "import re\n",
    "txt = \"The rain in India\"\n",
    "x = re.search(\"The.*USA$\", txt)\n",
    "\n",
    "if x:\n",
    "    print(\"Yes! that's true\")\n",
    "    \n",
    "else:\n",
    "    print(\"No\")\n",
    "    \n",
    "#The findall() Function\n",
    "import re\n",
    "txt = \"The rain in India\"\n",
    "x = re.findall(\"The rain in India\", txt)\n",
    "print(x)\n",
    "\n",
    "#The split() Function\n",
    "import re\n",
    "txt = \"The rain in Spain\"\n",
    "x = re.split(\"\\s\", txt)\n",
    "print(x)\n",
    "\n",
    "#The sub() Function\n",
    "import re\n",
    "txt = \"The rain in Spain\"\n",
    "x = re.sub(\"\\s\", \"9\", txt)\n",
    "print(x)\n"
   ]
  }
 ],
 "metadata": {
  "kernelspec": {
   "display_name": "Python 3 (ipykernel)",
   "language": "python",
   "name": "python3"
  },
  "language_info": {
   "codemirror_mode": {
    "name": "ipython",
    "version": 3
   },
   "file_extension": ".py",
   "mimetype": "text/x-python",
   "name": "python",
   "nbconvert_exporter": "python",
   "pygments_lexer": "ipython3",
   "version": "3.9.12"
  }
 },
 "nbformat": 4,
 "nbformat_minor": 5
}

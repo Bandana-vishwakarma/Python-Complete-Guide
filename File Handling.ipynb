{
 "cells": [
  {
   "cell_type": "markdown",
   "id": "37c449ee",
   "metadata": {},
   "source": [
    "### File Handling"
   ]
  },
  {
   "cell_type": "markdown",
   "id": "71033d4b",
   "metadata": {},
   "source": [
    "* Python too supports file handling and allows users to handle files i.e., to read and write files, along with many other file handling options, to operate on files.\n",
    "* File handling is an important part of any web application.\n",
    "* Python has several functions for creating, reading, updating, and deleting files.\n",
    "* Python treats files differently as text or binary and this is important.\n",
    "* Each line of code includes a sequence of characters and they form a text file. Each line of a file is terminated with a special character, called the EOL or End of Line characters like comma {,} or newline character."
   ]
  },
  {
   "cell_type": "markdown",
   "id": "2f532528",
   "metadata": {},
   "source": [
    "<b>Working of open() function</b>"
   ]
  },
  {
   "cell_type": "markdown",
   "id": "1de40a13",
   "metadata": {},
   "source": [
    "Before performing any operation on the file like reading or writing, first, we have to open that file.\n",
    "\n",
    "For this, we should use Python’s inbuilt function open() but at the time of opening, we have to specify the mode, which represents the purpose of the opening file.\n",
    "\n",
    "* f = open(filename, mode)\n",
    "\n",
    "The following mode is supported:\n",
    "* <b>r:</b> open an existing file for a read operation.\n",
    "* <b>w:</b> open an existing file for a write operation. If the file already contains some data then it will be overridden but if the file is not present then it creates the file as well.\n",
    "* <b>a:</b>  open an existing file for append operation. It won’t override existing data.\n",
    "* <b>r+:</b>  To read and write data into the file. The previous data in the file will be overridden.\n",
    "* <b>w+:</b> To write and read data. It will override existing data.\n",
    "* <b>a+:</b> To append and read data from the file. It won’t override existing data.\n",
    "* <b>x:</b> Create - Creates the specified file, returns an error if the file exists.\n",
    "* <b>t:</b> Text - Default value. Text mode\n",
    "* <b>b:</b> Binary - Binary mode (e.g. images)"
   ]
  },
  {
   "cell_type": "markdown",
   "id": "c3469a4a",
   "metadata": {},
   "source": [
    "<b>Working of read() mode</b>"
   ]
  },
  {
   "cell_type": "markdown",
   "id": "405296ed",
   "metadata": {},
   "source": [
    "There is more than one way to read a file in Python. If you need to extract a string that contains all characters in the file then we can use <b>file.read()</b>. \n",
    "* file = open(\"file.txt\", \"r\")\n",
    "* print (file.read())\n",
    "\n",
    "If the file is located in a different location, you will have to specify the file path.\n",
    "* f = open(\"D:\\\\myfiles\\welcome.txt\", \"r\")\n",
    "* print(f.read())\n",
    "\n",
    "By default the read() method returns the whole text, but you can also specify how many characters you want to return.\n",
    "* f = open(\"demofile.txt\", \"r\")\n",
    "* print(f.read(5))\n",
    "\n",
    "You can return one line by using the readline() method.\n",
    "* f = open(\"demofile.txt\", \"r\")\n",
    "* print(f.readline())\n",
    "\n",
    "It is a good practice to always close the file when you are done with it.\n",
    "* f = open(\"demofile.txt\", \"r\")\n",
    "* print(f.readline())\n",
    "* f.close()\n",
    "\n",
    "<b>Note:</b> You should always close your files, in some cases, due to buffering, changes made to a file may not show until you close the file."
   ]
  },
  {
   "cell_type": "markdown",
   "id": "c0df6448",
   "metadata": {},
   "source": [
    "<b>Write to an Existing File</b>"
   ]
  },
  {
   "cell_type": "markdown",
   "id": "fd55a2d2",
   "metadata": {},
   "source": [
    "To write to an existing file, you must add a parameter to the open() function.\n",
    "* f = open(\"demofile2.txt\", \"a\")\n",
    "* f.write(\"Now the file has more content!\")\n",
    "* f.close()"
   ]
  },
  {
   "cell_type": "markdown",
   "id": "8bed8dea",
   "metadata": {},
   "source": [
    "<b>Create a New File</b>"
   ]
  },
  {
   "cell_type": "markdown",
   "id": "0abd2421",
   "metadata": {},
   "source": [
    "Create a file called \"myfile.txt\"\n",
    "* f = open(\"myfile.txt\", \"x\")\n",
    "\n",
    "Create a new file if it does not exist\n",
    "* f = open(\"myfile.txt\", \"w\")"
   ]
  },
  {
   "cell_type": "markdown",
   "id": "3645c979",
   "metadata": {},
   "source": [
    "<b>Delete a File</b>"
   ]
  },
  {
   "cell_type": "markdown",
   "id": "fff678f8",
   "metadata": {},
   "source": [
    "To delete a file, you must import the <b>OS module</b>, and run its os.remove() function.\n",
    "* import os\n",
    "* os.remove(\"demofile.txt\")"
   ]
  },
  {
   "cell_type": "markdown",
   "id": "0afa0e20",
   "metadata": {},
   "source": [
    "<b>Check if File exist</b>"
   ]
  },
  {
   "cell_type": "markdown",
   "id": "fa002610",
   "metadata": {},
   "source": [
    "To avoid getting an error, you might want to check if the file exists before you try to delete it.\n",
    "* import os\n",
    "* if os.path.exists(\"demofile.txt\"):\n",
    "  * os.remove(\"demofile.txt\")\n",
    "* else:\n",
    "  * print(\"The file does not exist\")"
   ]
  },
  {
   "cell_type": "markdown",
   "id": "a9774751",
   "metadata": {},
   "source": [
    "<b>Delete Folder</b>"
   ]
  },
  {
   "cell_type": "markdown",
   "id": "10ce2463",
   "metadata": {},
   "source": [
    "To delete an entire folder, use the <b>os.rmdir()</b> method.\n",
    "* import os\n",
    "* os.rmdir(\"myfolder\")"
   ]
  }
 ],
 "metadata": {
  "kernelspec": {
   "display_name": "Python 3 (ipykernel)",
   "language": "python",
   "name": "python3"
  },
  "language_info": {
   "codemirror_mode": {
    "name": "ipython",
    "version": 3
   },
   "file_extension": ".py",
   "mimetype": "text/x-python",
   "name": "python",
   "nbconvert_exporter": "python",
   "pygments_lexer": "ipython3",
   "version": "3.9.12"
  }
 },
 "nbformat": 4,
 "nbformat_minor": 5
}

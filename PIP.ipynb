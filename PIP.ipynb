{
 "cells": [
  {
   "cell_type": "markdown",
   "id": "77449364",
   "metadata": {},
   "source": [
    "### Python PIP"
   ]
  },
  {
   "cell_type": "markdown",
   "id": "0b0c60ba",
   "metadata": {},
   "source": [
    "* PIP is a package manager for Python packages, or modules if you like."
   ]
  },
  {
   "cell_type": "markdown",
   "id": "f74a35b6",
   "metadata": {},
   "source": [
    "<b>Check if PIP is Installed</b>"
   ]
  },
  {
   "cell_type": "markdown",
   "id": "3adbe38e",
   "metadata": {},
   "source": [
    "Navigate your command line to the location of Python's script directory, and type the following:\n",
    "* C:\\Users\\Your Name\\AppData\\Local\\Programs\\Python\\Python36- 32\\Scripts>pip --version"
   ]
  },
  {
   "cell_type": "markdown",
   "id": "2ba850b5",
   "metadata": {},
   "source": [
    "<b>Install PIP</b>"
   ]
  },
  {
   "cell_type": "markdown",
   "id": "b55415ef",
   "metadata": {},
   "source": [
    "If you do not have PIP installed, you can download and install it from this page:\n",
    "[PIP Install PIP](https://pypi.org/project/pip/)"
   ]
  },
  {
   "cell_type": "markdown",
   "id": "b4a71f93",
   "metadata": {},
   "source": [
    "<b>Download a Package</b>"
   ]
  },
  {
   "cell_type": "markdown",
   "id": "bfd21093",
   "metadata": {},
   "source": [
    "Open the command line interface and tell PIP to download the package you want.\n",
    "\n",
    "Navigate your command line to the location of Python's script directory, and type the following:\n",
    "\n",
    "* C:\\Users\\Your Name\\AppData\\Local\\Programs\\Python\\Python36-32\\Scripts>pip install math \n"
   ]
  },
  {
   "cell_type": "markdown",
   "id": "60087275",
   "metadata": {},
   "source": [
    "<b>Remove a Package</b>"
   ]
  },
  {
   "cell_type": "markdown",
   "id": "67d78171",
   "metadata": {},
   "source": [
    "Use the uninstall command to remove a package:\n",
    "* C:\\Users\\Your Name\\AppData\\Local\\Programs\\Python\\Python36-32\\Scripts>pip uninstall math\n",
    "\n",
    "The PIP Package Manager will ask you to confirm that you want to remove the math package:\n",
    "* Uninstalling camelcase-02.1:\n",
    "  Would remove:\n",
    "    c:\\users\\Your Name\\appdata\\local\\programs\\python\\python36-32\\lib\\site-packages\\camecase-0.2-py3.6.egg-info\n",
    "    c:\\users\\Your Name\\appdata\\local\\programs\\python\\python36-32\\lib\\site-packages\\math\\*\n",
    "    \n",
    "    \n",
    "Proceed (y/n)?\n",
    "Press y and the package will be removed."
   ]
  },
  {
   "cell_type": "markdown",
   "id": "9c8dd1ef",
   "metadata": {},
   "source": [
    "<b>List Packages</b>"
   ]
  },
  {
   "cell_type": "markdown",
   "id": "90c9380f",
   "metadata": {},
   "source": [
    "Use the list command to list all the packages installed on your system:\n",
    "* C:\\Users\\Your Name\\AppData\\Local\\Programs\\Python\\Python36-32\\Scripts>pip list"
   ]
  }
 ],
 "metadata": {
  "kernelspec": {
   "display_name": "Python 3 (ipykernel)",
   "language": "python",
   "name": "python3"
  },
  "language_info": {
   "codemirror_mode": {
    "name": "ipython",
    "version": 3
   },
   "file_extension": ".py",
   "mimetype": "text/x-python",
   "name": "python",
   "nbconvert_exporter": "python",
   "pygments_lexer": "ipython3",
   "version": "3.9.12"
  }
 },
 "nbformat": 4,
 "nbformat_minor": 5
}

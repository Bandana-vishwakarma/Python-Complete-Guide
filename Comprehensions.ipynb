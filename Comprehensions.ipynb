{
 "cells": [
  {
   "cell_type": "markdown",
   "id": "6dcde25f",
   "metadata": {},
   "source": [
    "### Python Comprehensions"
   ]
  },
  {
   "cell_type": "markdown",
   "id": "b3e40ae4",
   "metadata": {},
   "source": [
    "Comprehensions in Python provide us with a short and concise way to construct new sequences (such as lists, set, dictionary etc.) using sequences which have been already defined.\n",
    "Python supports the following 4 types of comprehensions:\n",
    "* List Comprehensions\n",
    "* Dictionary Comprehensions\n",
    "* Set Comprehensions\n",
    "* Generator Comprehensions"
   ]
  },
  {
   "cell_type": "markdown",
   "id": "7ff1f5ce",
   "metadata": {},
   "source": [
    "<b>List Comprehensions</b>"
   ]
  },
  {
   "cell_type": "markdown",
   "id": "b4c2291d",
   "metadata": {},
   "source": [
    "List Comprehensions provide an elegant way to create new lists.\n",
    "List comprehension may or may not contain an if condition. List comprehensions can contain multiple for (nested list comprehensions).\n",
    "\n",
    "<b>Basic structure of a list comprehension:</b>\n",
    "* output_list = [output_exp for var in input_list if (var satisfies this condition)]"
   ]
  },
  {
   "cell_type": "markdown",
   "id": "0a7051c6",
   "metadata": {},
   "source": [
    "<b>Example:</b> Want to create an output list which contains only the even numbers which are present in the input list."
   ]
  },
  {
   "cell_type": "code",
   "execution_count": 3,
   "id": "e307f39b",
   "metadata": {},
   "outputs": [
    {
     "name": "stdout",
     "output_type": "stream",
     "text": [
      "Output list:  [2, 4, 6, 8, 10]\n",
      "list comprehension:  [2, 4, 6, 8, 10]\n"
     ]
    }
   ],
   "source": [
    "# Constructing output list WITHOUT\n",
    "# Using List comprehensions\n",
    "input_list = [1, 2, 3, 4, 5, 6, 7, 8, 9, 10]\n",
    "output_list = []\n",
    "\n",
    "# Using loop for constructing output list\n",
    "for var in input_list:\n",
    "    if var%2 == 0:\n",
    "        output_list.append(var)\n",
    "print(\"Output list: \", output_list )  \n",
    "\n",
    "# Constructing output list WITH\n",
    "# Using List comprehensions\n",
    "input_list = [1, 2, 3, 4, 5, 6, 7, 8, 9, 10]\n",
    "output_list = [var for var in input_list if var%2 == 0]\n",
    "print(\"list comprehension: \", output_list )"
   ]
  },
  {
   "cell_type": "markdown",
   "id": "3320cce9",
   "metadata": {},
   "source": [
    "<b>Example:</b> Want to create an output list which contains squares of all the numbers from 1 to 9. "
   ]
  },
  {
   "cell_type": "code",
   "execution_count": 5,
   "id": "aa7f18c5",
   "metadata": {},
   "outputs": [
    {
     "name": "stdout",
     "output_type": "stream",
     "text": [
      "output list:  [1, 4, 9, 16, 25, 36, 49, 64, 81]\n",
      "[1, 4, 9, 16, 25, 36, 49, 64, 81]\n"
     ]
    }
   ],
   "source": [
    "# Constructing output list using for loop\n",
    "output_list = []\n",
    "for var in range(1, 10):\n",
    "    output_list.append(var**2)\n",
    "\n",
    "print(\"output list: \", output_list)    \n",
    "  \n",
    "# Constructing output list using list comprehension\n",
    "output_list = [var**2 for var in range(1,10)]\n",
    "print(output_list)"
   ]
  },
  {
   "cell_type": "markdown",
   "id": "4bb96bb5",
   "metadata": {},
   "source": [
    "<b>Dictionary Comprehensions</b>"
   ]
  },
  {
   "cell_type": "markdown",
   "id": "f1823f6a",
   "metadata": {},
   "source": [
    "The basic structure of a dictionary comprehension:\n",
    "* output_dict = {key:value for (key, value) in iterable if (key, value satisfy this condition)}"
   ]
  },
  {
   "cell_type": "markdown",
   "id": "ed2ad362",
   "metadata": {},
   "source": [
    "<b>Example:</b> Want to create an output dictionary which contains only the odd numbers that are present in the input list as keys and their cubes as values."
   ]
  },
  {
   "cell_type": "code",
   "execution_count": 8,
   "id": "7adda185",
   "metadata": {},
   "outputs": [
    {
     "name": "stdout",
     "output_type": "stream",
     "text": [
      "{1: 1, 3: 27, 5: 125, 7: 343}\n",
      "{1: 1, 3: 27, 5: 125, 7: 343}\n"
     ]
    }
   ],
   "source": [
    "# by using the for loop\n",
    "input_list = [1, 2, 3, 4, 5, 6, 7] \n",
    "output_dict = {}\n",
    "\n",
    "for var in input_list:\n",
    "    if var % 2 != 0:\n",
    "        output_dict[var] = var**3\n",
    "print(output_dict) \n",
    "\n",
    "#by using the dictionary comprehensions\n",
    "input_list = [1, 2, 3, 4, 5, 6, 7] \n",
    "output_dict = {var:var**3 for var in input_list if var%2 != 0}\n",
    "print(output_dict)"
   ]
  },
  {
   "cell_type": "markdown",
   "id": "d4920621",
   "metadata": {},
   "source": [
    "<b>Set Comprehensions</b>"
   ]
  },
  {
   "cell_type": "markdown",
   "id": "75738f2e",
   "metadata": {},
   "source": [
    "* Set comprehensions are pretty similar to list comprehensions. The only difference between them is that set comprehensions use curly brackets { }."
   ]
  },
  {
   "cell_type": "markdown",
   "id": "bc32fe0a",
   "metadata": {},
   "source": [
    "<b>Example:</b> Suppose we want to create an output set which contains only the even numbers that are present in the input list."
   ]
  },
  {
   "cell_type": "code",
   "execution_count": 17,
   "id": "84bd25cd",
   "metadata": {},
   "outputs": [
    {
     "name": "stdout",
     "output_type": "stream",
     "text": [
      "{8, 2, 4, 6}\n",
      "{8, 2, 4, 6}\n"
     ]
    }
   ],
   "source": [
    "#by using for loop\n",
    "input_list = [1,2, 3, 4, 5, 6, 7, 8, 9]\n",
    "output_set = set()\n",
    "for var in input_set:\n",
    "    if var%2 == 0:\n",
    "        output_set.add(var)\n",
    "        \n",
    "print(output_set)        \n",
    "\n",
    "#by using the set comprehensions\n",
    "input_list = [1,2, 3, 4, 5, 6, 7, 8, 9]\n",
    "output_set = {var for var in input_list if var % 2 == 0}\n",
    "print(output_set)"
   ]
  },
  {
   "cell_type": "markdown",
   "id": "00e1fe7c",
   "metadata": {},
   "source": [
    "<b>Generator Comprehensions</b>"
   ]
  },
  {
   "cell_type": "markdown",
   "id": "6d2ce51a",
   "metadata": {},
   "source": [
    "* Generator Comprehensions are very similar to list comprehensions. \n",
    "* One difference between them is that generator comprehensions use circular brackets whereas list comprehensions use square brackets. \n",
    "* The major difference between them is that generators don’t allocate memory for the whole list. Instead, they generate each value one by one which is why they are memory efficient."
   ]
  },
  {
   "cell_type": "code",
   "execution_count": 23,
   "id": "776850bd",
   "metadata": {},
   "outputs": [
    {
     "name": "stdout",
     "output_type": "stream",
     "text": [
      "2 4 6 8 "
     ]
    }
   ],
   "source": [
    "input_list = [1,2, 3, 4, 5, 6, 7, 8, 9]\n",
    "output_gen = (var for var in input_list if var%2 == 0)\n",
    "\n",
    "for var in output_gen:\n",
    "    print(var, end = ' ')"
   ]
  }
 ],
 "metadata": {
  "kernelspec": {
   "display_name": "Python 3 (ipykernel)",
   "language": "python",
   "name": "python3"
  },
  "language_info": {
   "codemirror_mode": {
    "name": "ipython",
    "version": 3
   },
   "file_extension": ".py",
   "mimetype": "text/x-python",
   "name": "python",
   "nbconvert_exporter": "python",
   "pygments_lexer": "ipython3",
   "version": "3.9.12"
  }
 },
 "nbformat": 4,
 "nbformat_minor": 5
}

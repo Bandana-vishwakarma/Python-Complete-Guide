{
 "cells": [
  {
   "cell_type": "markdown",
   "id": "10b22195",
   "metadata": {},
   "source": [
    "### Python Inheritance"
   ]
  },
  {
   "cell_type": "markdown",
   "id": "6561134b",
   "metadata": {},
   "source": [
    "Inheritance allows us to define a class that inherits all the methods and properties from another class.\n",
    "* <b>Parent class</b> is the class being inherited from, also called base class.\n",
    "* <b>Child class</b> is the class that inherits from another class, also called derived class."
   ]
  },
  {
   "cell_type": "code",
   "execution_count": 6,
   "id": "33279c91",
   "metadata": {},
   "outputs": [
    {
     "name": "stdout",
     "output_type": "stream",
     "text": [
      "Sila Dutta\n",
      "Tina Dutta\n"
     ]
    }
   ],
   "source": [
    "#Create a parent class\n",
    "class Person:\n",
    "    def __init__(self, fname, lname):\n",
    "        self.fname = fname\n",
    "        self.lname = lname\n",
    "    \n",
    "    def printname(self):\n",
    "        print(self.fname, self.lname)\n",
    "        \n",
    "x = Person(\"Sila\", \"Dutta\")\n",
    "x.printname()\n",
    "\n",
    "#Create a Child Class\n",
    "class Person:\n",
    "    def __init__(self, fname, lname):\n",
    "        self.fname = fname\n",
    "        self.lname = lname\n",
    "    \n",
    "    def printname(self):\n",
    "        print(self.fname, self.lname)\n",
    "        \n",
    "class Student(Person): \n",
    "    pass\n",
    "\n",
    "x = Student(\"Tina\", \"Dutta\")\n",
    "x.printname()"
   ]
  },
  {
   "cell_type": "markdown",
   "id": "c95676a7",
   "metadata": {},
   "source": [
    "<b>Add the __init__() Function</b>"
   ]
  },
  {
   "cell_type": "markdown",
   "id": "4c26d618",
   "metadata": {},
   "source": [
    "* So far we have created a child class that inherits the properties and methods from its parent.\n",
    "\n",
    "* We want to add the <b>__init__()</b> function to the child class (instead of the pass keyword).\n",
    "\n",
    "* <b>Note:</b> The __init__() function is called automatically every time the class is being used to create a new object.\n",
    "\n",
    "* When you add the __init__() function, the child class will no longer inherit the parent's __init__() function.\n",
    "\n",
    "* <b>Note:</b> The child's __init__() function overrides the inheritance of the parent's __init__() function.\n",
    "\n",
    "* To keep the inheritance of the parent's __init__() function, add a call to the parent's __init__() function."
   ]
  },
  {
   "cell_type": "code",
   "execution_count": 12,
   "id": "7130d82f",
   "metadata": {},
   "outputs": [
    {
     "name": "stdout",
     "output_type": "stream",
     "text": [
      "Tina Dutta\n"
     ]
    }
   ],
   "source": [
    "class Person:\n",
    "    def __init__(self, fname, lname):\n",
    "        self.fname = fname\n",
    "        self.lname = lname\n",
    "    \n",
    "    def printname(self):\n",
    "        print(self.fname, self.lname)\n",
    "        \n",
    "class Student(Person): \n",
    "    def __init__(self, lname, fname):\n",
    "       Person.__init__(self, lname, fname) \n",
    "\n",
    "x = Student(\"Tina\", \"Dutta\")\n",
    "x.printname()"
   ]
  },
  {
   "cell_type": "markdown",
   "id": "eddf99b7",
   "metadata": {},
   "source": [
    "<b>Use the super() Function</b>"
   ]
  },
  {
   "cell_type": "markdown",
   "id": "ad0998e4",
   "metadata": {},
   "source": [
    "* Python also has a super() function that will make the child class inherit all the methods and properties from its parent.\n",
    "* By using the super() function, you do not have to use the name of the parent element, it will automatically inherit the methods and properties from its parent."
   ]
  },
  {
   "cell_type": "code",
   "execution_count": 17,
   "id": "1bf2dec9",
   "metadata": {},
   "outputs": [
    {
     "name": "stdout",
     "output_type": "stream",
     "text": [
      "lulu kttapa\n",
      "2022\n"
     ]
    }
   ],
   "source": [
    "# super() function\n",
    "class Student(Person):\n",
    "    def __init__(self, fname, lname):\n",
    "        super().__init__(fname, lname)\n",
    "        \n",
    "#Add Properties\n",
    "class Person:\n",
    "    def __init__(self, fname, lname):\n",
    "        self.fname = fname\n",
    "        self.lname = lname\n",
    "    \n",
    "    def printname(self):\n",
    "        print(self.fname, self.lname)\n",
    "        \n",
    "class Student(Person):\n",
    "    def __init__(self, fname, lname, year):\n",
    "        super().__init__(fname, lname)\n",
    "        self.graduationyear = year\n",
    "\n",
    "x = Student(\"lulu\", \"kttapa\", 2022)\n",
    "x.printname()\n",
    "print(x.graduationyear)"
   ]
  },
  {
   "cell_type": "markdown",
   "id": "5fc9dde1",
   "metadata": {},
   "source": [
    "<b>Add Methods</b>"
   ]
  },
  {
   "cell_type": "code",
   "execution_count": 26,
   "id": "1bacf78c",
   "metadata": {},
   "outputs": [
    {
     "name": "stdout",
     "output_type": "stream",
     "text": [
      "Welcome lulu kttapa to the class of 2022\n"
     ]
    }
   ],
   "source": [
    "#Add Methods\n",
    "class Person:\n",
    "    def __init__(self, fname, lname):\n",
    "        self.fname = fname\n",
    "        self.lname = lname\n",
    "    \n",
    "    def printname(self):\n",
    "        print(self.fname, self.lname)\n",
    "        \n",
    "class Student(Person):\n",
    "    def __init__(self, fname, lname, year):\n",
    "        super().__init__(fname, lname)\n",
    "        self.graduationyear = year\n",
    "\n",
    "    def welcome(self):\n",
    "        print(\"Welcome\", self.fname, self.lname, \"to the class of\", self.graduationyear)\n",
    "    \n",
    "x = Student(\"lulu\", \"kttapa\", 2022)\n",
    "x.welcome()"
   ]
  }
 ],
 "metadata": {
  "kernelspec": {
   "display_name": "Python 3 (ipykernel)",
   "language": "python",
   "name": "python3"
  },
  "language_info": {
   "codemirror_mode": {
    "name": "ipython",
    "version": 3
   },
   "file_extension": ".py",
   "mimetype": "text/x-python",
   "name": "python",
   "nbconvert_exporter": "python",
   "pygments_lexer": "ipython3",
   "version": "3.9.12"
  }
 },
 "nbformat": 4,
 "nbformat_minor": 5
}

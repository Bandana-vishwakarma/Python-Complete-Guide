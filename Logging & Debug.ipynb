{
 "cells": [
  {
   "cell_type": "markdown",
   "id": "301c5f3b",
   "metadata": {},
   "source": [
    "#### Logging"
   ]
  },
  {
   "cell_type": "markdown",
   "id": "d1f05c09",
   "metadata": {},
   "source": [
    "Logging is a means of tracking events that happen when some software runs. The software's developer adds logging calls to their code to indicate that certain events have occurred.\n",
    "\n",
    "An event is described by a descriptive message which can optionally contain variable data\n",
    "\n",
    "Events also have an importance which the developer ascribes to the event, the importance can also be called the <b>level or severity</b>."
   ]
  },
  {
   "cell_type": "markdown",
   "id": "33541df4",
   "metadata": {},
   "source": [
    "#### Why Printing is not a good option?"
   ]
  },
  {
   "cell_type": "markdown",
   "id": "f75eae9b",
   "metadata": {},
   "source": [
    "Some developers use the concept of printing the statements to validate if the statements are executed correctly or some error has occurred. But printing is not a good idea. It may solve your issues for simple scripts but for complex scripts, the printing approach will fail.\n",
    "\n",
    "Python has a built-in module logging which allows writing status messages to a file or any other output streams. The file can contain the information on which part of the code is executed and what problems have been arisen.  "
   ]
  },
  {
   "cell_type": "markdown",
   "id": "ac777115",
   "metadata": {},
   "source": [
    "#### Levels of Log Message"
   ]
  },
  {
   "cell_type": "markdown",
   "id": "3b6c7af1",
   "metadata": {},
   "source": [
    "* <b>Debug :</b> These are used to give Detailed information, typically of interest only when diagnosing problems.\n",
    "* <b>Info :</b> These are used to confirm that things are working as expected\n",
    "* <b>Warning :</b> These are used an indication that something unexpected happened, or is indicative of some problem in the near future\n",
    "* <b>Error :</b> This tells that due to a more serious problem, the software has not been able to perform some function\n",
    "* <b>Critical :</b> This tells serious error, indicating that the program itself may be unable to continue running"
   ]
  },
  {
   "cell_type": "code",
   "execution_count": 2,
   "id": "bd12bc82",
   "metadata": {},
   "outputs": [],
   "source": [
    "import logging\n",
    "\n",
    "logging.basicConfig(filename=\"newfile.log\", format=\"%(asctime)s %(message)s\", filemode='w')\n",
    "\n",
    "logger = logging.getLogger()\n",
    "\n",
    "logger.setLevel(logging.DEBUG)\n",
    "\n",
    "logger.debug(\"Harmless debug Message\")\n",
    "logger.info(\"Just an information\")\n",
    "logger.warning(\"Its a Warning\")\n",
    "logger.error(\"Did you try to divide by zero\")\n",
    "logger.critical(\"Internet is down\")"
   ]
  },
  {
   "cell_type": "markdown",
   "id": "d5aa3695",
   "metadata": {},
   "source": [
    "#### Several logger objects offered by the module itself."
   ]
  },
  {
   "cell_type": "markdown",
   "id": "34e74d3d",
   "metadata": {},
   "source": [
    "* <b>Logger.info(msg) :</b> It is used to log a message with level INFO on this logger.\n",
    "* <b>Logger.warning(msg) :</b> It is used to log a message with level WARNING on this logger.\n",
    "* <b>Logger.error(msg) :</b> It is used to log a message with level ERROR on this logger.\n",
    "* <b>Logger.critical(msg) :</b> It is used to log a message with level CRITICAL on this logger.\n",
    "* <b>Logger.log(lvl,msg) :</b> It is used to logs a message with integer level lvl on this logger.\n",
    "* <b>Logger.exception(msg) :</b> It is used to log a message with level ERROR on this logger.\n",
    "* <b>Logger.setLevel(lvl) :</b> It is used to sets the beginning of this logger to lvl. It will ignore all the messages which are written below.\n",
    "* <b>Logger.addFilter(filt) :</b> It is used to add a specific filter filt to the to this logger.\n",
    "* <b>Logger.removeFilter(filt) :</b> It is used to eliminates a specific filter filt to the to this logger.\n",
    "* <b>Logger.filter(record) :</b> It put on the filter of logger to the record. If the record available and to be handled then returns True. Otherwise, it will return False.\n",
    "* <b>Logger.addHandler(hdlr) :</b> It is used to add a particular handler hdlr to the to this logger.\n",
    "* <b>Logger.removeHandler(hdlr) :</b> It is used to eliminate a particular handler hdlr to this logger.\n",
    "* <b>Logger.hasHandlers() :</b> It is used to verify if the logger contains any handler configured or not."
   ]
  },
  {
   "cell_type": "markdown",
   "id": "2fd47396",
   "metadata": {},
   "source": [
    "#### Basic Configurations"
   ]
  },
  {
   "cell_type": "markdown",
   "id": "291e11f0",
   "metadata": {},
   "source": [
    "The main task of logging is to store the records events in a file. The logging module provides the <b>basicConfig(**kwarg)</b>, used to configure the logging.\n",
    "\n",
    "It accepts some of the commonly used argument as follows.\n",
    "\n",
    "* <b>level -</b> The specified severity level is set by the root level.\n",
    "* <b>filename -</b> It specifies a file.\n",
    "* <b>filemode -</b> It opens a file in a specific mode. The default mode of the opening file is a, which means we can append the content.\n",
    "* <b>format -</b> The format defines the format of the log message.\n"
   ]
  },
  {
   "cell_type": "markdown",
   "id": "12e05450",
   "metadata": {},
   "source": [
    "#### Classes and Functions"
   ]
  },
  {
   "cell_type": "markdown",
   "id": "621cdb04",
   "metadata": {},
   "source": [
    "classes and functions defined in the logging module.\n",
    "\n",
    "* <b>Logger -</b> The logger object is used to call the functions directly.\n",
    "* <b>LogRecord -</b> It creates automatically log record file which consists the information related to all event of being logged such as the logger's name, the function, the line number, the message, and more.\n",
    "* <b>Handler -</b> The handlers are used to dispatch the LogRecord to the output endpoint. The FileHandler, StreamHandler, HTTPHandler, SMTTPHandler are the subclasses of a Handler.\n",
    "* <b>Formatters -</b> The formatters are used to define the structure of the output. It is used the string formatting methods to specify the format of the log messages."
   ]
  }
 ],
 "metadata": {
  "kernelspec": {
   "display_name": "Python 3 (ipykernel)",
   "language": "python",
   "name": "python3"
  },
  "language_info": {
   "codemirror_mode": {
    "name": "ipython",
    "version": 3
   },
   "file_extension": ".py",
   "mimetype": "text/x-python",
   "name": "python",
   "nbconvert_exporter": "python",
   "pygments_lexer": "ipython3",
   "version": "3.9.12"
  }
 },
 "nbformat": 4,
 "nbformat_minor": 5
}

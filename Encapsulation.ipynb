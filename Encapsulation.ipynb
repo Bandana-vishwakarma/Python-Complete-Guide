{
 "cells": [
  {
   "cell_type": "markdown",
   "id": "ff7b0fed",
   "metadata": {},
   "source": [
    "### Python Encapsulation"
   ]
  },
  {
   "cell_type": "markdown",
   "id": "4e18e5a8",
   "metadata": {},
   "source": [
    "* Encapsulation is one of the fundamental concepts in object oriented programming. It describes the idea of wrapping data and methods that work on data within one unit.\n",
    "* This puts restrictions on accessing variables and methods directly and can prevent the accidental modification of data."
   ]
  },
  {
   "cell_type": "code",
   "execution_count": 1,
   "id": "a528ca95",
   "metadata": {},
   "outputs": [
    {
     "name": "stdout",
     "output_type": "stream",
     "text": [
      "I am Steve\n",
      "I got Rank  22\n",
      "I got points  1\n",
      "I am lulu\n",
      "I got Rank  1\n",
      "I got points  1\n",
      "I am kush\n",
      "I got Rank  3\n",
      "I got points  1\n"
     ]
    }
   ],
   "source": [
    "class Students:\n",
    "      def __init__(self, name, rank, points):\n",
    "        self.name = name\n",
    "        self.rank = rank\n",
    "        self.points = points\n",
    "    \n",
    "    # custom function\n",
    "      def demofunc(self):\n",
    "            print(\"I am \"+self.name)\n",
    "            print(\"I got Rank \",+self.rank)\n",
    "            print(\"I got points \",+self.points)\n",
    "            \n",
    "#Create objects            \n",
    "x1 = Students(\"Steve\", 22, 1)\n",
    "x2 = Students(\"lulu\", 1, 1)\n",
    "x3 = Students(\"kush\", 3, 1)\n",
    "\n",
    "#call the functions using the objects created above\n",
    "x1.demofunc()\n",
    "x2.demofunc()\n",
    "x3.demofunc()    "
   ]
  },
  {
   "cell_type": "markdown",
   "id": "200d4183",
   "metadata": {},
   "source": [
    "<b>Python Access Modifiers</b>"
   ]
  },
  {
   "cell_type": "markdown",
   "id": "688b890a",
   "metadata": {},
   "source": [
    "Access specifiers in Python have an important role to play in securing data from unauthorized access and in preventing it from being exploited."
   ]
  },
  {
   "cell_type": "markdown",
   "id": "241a9363",
   "metadata": {},
   "source": [
    "* public\n",
    "* private\n",
    "* protected"
   ]
  },
  {
   "cell_type": "markdown",
   "id": "e73ab8b2",
   "metadata": {},
   "source": [
    "<b>Public Access Modifier</b>"
   ]
  },
  {
   "cell_type": "markdown",
   "id": "c8cda7cd",
   "metadata": {},
   "source": [
    "* The public member is accessible from inside or outside the class.\n",
    "* The members of a class that are declared public are easily accessible from any part of the program. All data members and member functions of a class are public by default. "
   ]
  },
  {
   "cell_type": "code",
   "execution_count": 2,
   "id": "d21253dc",
   "metadata": {},
   "outputs": [
    {
     "name": "stdout",
     "output_type": "stream",
     "text": [
      "My name is: kamla\n",
      "Age:  35\n"
     ]
    }
   ],
   "source": [
    "class Person:\n",
    "    def __init__(self, name, age):\n",
    "        \n",
    "        #public data members\n",
    "        self.name = name\n",
    "        self.Age = age\n",
    "    \n",
    "    #public member function\n",
    "    def displayAge(self):\n",
    "        print(\"Age: \", self.Age)\n",
    "\n",
    "#creating object of a class\n",
    "x = Person(\"kamla\", 35)\n",
    "\n",
    "# accessing public data member\n",
    "print(\"My name is: \" + x.name)\n",
    "\n",
    "#calling public member function of the class\n",
    "x.displayAge()        "
   ]
  },
  {
   "cell_type": "markdown",
   "id": "cc126fc1",
   "metadata": {},
   "source": [
    "<b>Private Access Modifier</b>"
   ]
  },
  {
   "cell_type": "markdown",
   "id": "d9142dea",
   "metadata": {},
   "source": [
    "* The members of a class that are declared private are accessible within the class only.\n",
    "* Private access modifier is the most secure access modifier.\n",
    "* Data members of a class are declared private by adding a double underscore ‘__’ symbol before the data member of that class"
   ]
  },
  {
   "cell_type": "code",
   "execution_count": 5,
   "id": "00175407",
   "metadata": {
    "scrolled": true
   },
   "outputs": [
    {
     "name": "stdout",
     "output_type": "stream",
     "text": [
      "Name:  Mohan\n",
      "Roll:  68\n",
      "Branch:  Computer Science\n"
     ]
    }
   ],
   "source": [
    "class Student:\n",
    "    \n",
    "    # private members\n",
    "    __name = None\n",
    "    __roll = None\n",
    "    __branch = None\n",
    "    \n",
    "    def __init__(self, name, roll, branch): \n",
    "        self.__name = name\n",
    "        self.__roll = roll\n",
    "        self.__branch = branch\n",
    "     \n",
    "    # private member function \n",
    "    def __displayDetails(self):\n",
    "        print(\"Name: \", self.__name)\n",
    "        print(\"Roll: \", self.__roll)\n",
    "        print(\"Branch: \", self.__branch)\n",
    "        \n",
    "    def accessPrivateFunction(self):\n",
    "        self.__displayDetails()\n",
    "        \n",
    "x = Student(\"Mohan\", 68, \"Computer Science\")\n",
    "x.accessPrivateFunction()    "
   ]
  },
  {
   "cell_type": "markdown",
   "id": "179d582b",
   "metadata": {},
   "source": [
    "<b>Protected Access Modifier</b>"
   ]
  },
  {
   "cell_type": "markdown",
   "id": "05b26981",
   "metadata": {},
   "source": [
    "* he members of a class that are declared protected are only accessible to a class derived from it.\n",
    "* Data members of a class are declared protected by adding a single underscore ‘_’ symbol before the data member of that class. "
   ]
  },
  {
   "cell_type": "code",
   "execution_count": 15,
   "id": "5828c33f",
   "metadata": {},
   "outputs": [
    {
     "name": "stdout",
     "output_type": "stream",
     "text": [
      "Name:  Mohan\n",
      "Roll:  68\n",
      "Branch:  Computer Science\n"
     ]
    }
   ],
   "source": [
    "class Student:\n",
    "    \n",
    "    # Protected  members\n",
    "    _name = None\n",
    "    _roll = None\n",
    "    _branch = None\n",
    "    \n",
    "    def __init__(self, name, roll, branch):\n",
    "        self._name = name\n",
    "        self._roll = roll\n",
    "        self._branch = branch  \n",
    "            \n",
    "    # protected member function \n",
    "    def _displayRollAndBranch(self):\n",
    "        print(\"Roll: \", self._roll)\n",
    "        print(\"Branch: \", self._branch)    \n",
    "                     \n",
    "# derived class(child class)\n",
    "class Person(Student):\n",
    "    def __init__(self, name, roll, branch):\n",
    "        Student.__init__(self, name, roll, branch)\n",
    "                \n",
    "    # public member function\n",
    "    def displayDetails(self):\n",
    "        print(\"Name: \", self._name)\n",
    "        self._displayRollAndBranch()\n",
    "        \n",
    "x = Person(\"Mohan\", 68, \"Computer Science\")\n",
    "x.displayDetails()          "
   ]
  }
 ],
 "metadata": {
  "kernelspec": {
   "display_name": "Python 3 (ipykernel)",
   "language": "python",
   "name": "python3"
  },
  "language_info": {
   "codemirror_mode": {
    "name": "ipython",
    "version": 3
   },
   "file_extension": ".py",
   "mimetype": "text/x-python",
   "name": "python",
   "nbconvert_exporter": "python",
   "pygments_lexer": "ipython3",
   "version": "3.9.12"
  }
 },
 "nbformat": 4,
 "nbformat_minor": 5
}
